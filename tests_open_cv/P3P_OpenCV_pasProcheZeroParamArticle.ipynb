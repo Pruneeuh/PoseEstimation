{
  "nbformat": 4,
  "nbformat_minor": 0,
  "metadata": {
    "colab": {
      "provenance": []
    },
    "kernelspec": {
      "name": "python3",
      "display_name": "Python 3"
    },
    "language_info": {
      "name": "python"
    }
  },
  "cells": [
    {
      "cell_type": "code",
      "execution_count": 309,
      "metadata": {
        "id": "nCteTBDNzd4Q",
        "colab": {
          "base_uri": "https://localhost:8080/"
        },
        "outputId": "af4761b9-641c-43c4-ebcd-b6a6cf476f87"
      },
      "outputs": [
        {
          "output_type": "stream",
          "name": "stdout",
          "text": [
            "R= [[ 1  0  0]\n",
            " [ 0 -1  0]\n",
            " [ 0  0 -1]] \n",
            "\n",
            "T= [[0]\n",
            " [0]\n",
            " [6]] \n",
            "\n"
          ]
        }
      ],
      "source": [
        "import numpy as np\n",
        "import cv2\n",
        "#np.random.seed(2)   # block the random\n",
        "\n",
        "# Definition of the camera parameters\n",
        "  # focal length\n",
        "fx = 800\n",
        "fy = 800\n",
        "  # center\n",
        "cx = 0\n",
        "cy = 0\n",
        "\n",
        "A = np.array([[fx, 0, cx], [0, fy, cy], [0, 0, 1]]) # intraseca matrix of the camera (3*3)\n",
        "\n",
        "# Generation of 3 random angles to define the rotation\n",
        "rax,pitch,yaw = np.random.uniform(0,np.pi,size=3)\n",
        "\n",
        "# Generation of the rotation matrix\n",
        "\n",
        "'''Rx = np.array([[1,0,0],[0, np.cos(rax), -np.sin(rax)],[0, np.sin(rax), np.cos(rax)]])\n",
        "Ry = np.array([[np.cos(pitch), 0, np.sin(pitch)],[0,1,0],[-np.sin(pitch),0, np.cos(pitch)]])\n",
        "Rz = np.array([[np.cos(yaw), -np.sin(yaw),0],[np.sin(yaw),np.cos(yaw),0],[0,0,1]])\n",
        "\n",
        "R = Rz @ Ry @ Rx  # rotation matrix  (3*3)'''\n",
        "R = np.array([[1, 0, 0],[0, -1, 0], [0, 0, -1]])  # with the values of the Kneip's article  (3*3)\n",
        "print(\"R=\",R,\"\\n\")\n",
        "# Generation of the camera translation\n",
        "#T = np.random.uniform(-500,500,size=3)     # T = [tx,ty,tz]  (1*3)\n",
        "T = np.array([0,0,6])                       # with the values of the Kneip's article\n",
        "T = T.reshape((3,1))                       # (3*1)\n",
        "\n",
        "print(\"T=\",T,\"\\n\")"
      ]
    },
    {
      "cell_type": "code",
      "source": [
        "# Projection from a 3D point to a 2D\n",
        "\n",
        "def projection3D2D(point3D,T,R,A) :\n",
        "  # 3D point = [ Xw, Yw, Zw ]'   (1*3)\n",
        "  # T : camera translation matrix : (3*1)\n",
        "  # R : camera rotation matrix : (3*3)\n",
        "  # A : intraseca matrix of the camera : (3*3)\n",
        "\n",
        "  PI = np.concatenate((np.eye(3),np.zeros((3,1))),axis=1)  # (3*4)\n",
        "\n",
        "  Rt = np.concatenate((R,T),axis=1)               # (3*4)\n",
        "  Rt = np.concatenate((Rt,np.array([[0,0,0,1]])),axis=0)   # (4*4)\n",
        "\n",
        "  point3D_bis = np.concatenate((np.reshape(point3D,(3,1)),np.array([[1]])),axis=0)   #(4*1)\n",
        "\n",
        "  point2D = A @ PI @ Rt @ point3D_bis   # 2D point = [u, v, w] (3*1)\n",
        "  point2D = point2D / point2D[2]        # 2D point = [u, v, 1] (3*1)\n",
        "  return point2D[:2]\n",
        "\n",
        "'''pt3D = [[3],[1],[4]]\n",
        "print(\"point 3D :\\n \", pt3D)\n",
        "pt2D = projection3D2D(pt3D,T,R,A)\n",
        "print(\"point 2D :\\n\", pt2D)'''"
      ],
      "metadata": {
        "colab": {
          "base_uri": "https://localhost:8080/",
          "height": 36
        },
        "id": "keXsHSn3aC8Y",
        "outputId": "a32c31df-2f52-41c1-dd7a-607a932fb945"
      },
      "execution_count": 310,
      "outputs": [
        {
          "output_type": "execute_result",
          "data": {
            "text/plain": [
              "'pt3D = [[3],[1],[4]]\\nprint(\"point 3D :\\n \", pt3D)\\npt2D = projection3D2D(pt3D,T,R,A)\\nprint(\"point 2D :\\n\", pt2D)'"
            ],
            "application/vnd.google.colaboratory.intrinsic+json": {
              "type": "string"
            }
          },
          "metadata": {},
          "execution_count": 310
        }
      ]
    },
    {
      "cell_type": "code",
      "source": [
        "# test of collinearity\n",
        "def areCollineary(P1,P2,P3) :\n",
        "  # return true if P1, P2 and P3 are collineary\n",
        "  return np.linalg.norm(crossproduct(P1,P2,P3))==0\n",
        "\n",
        "def crossproduct(P1,P2,P3) :\n",
        "  v1 = P2 - P1\n",
        "  v2 = P3 - P1\n",
        "  return np.cross(v1,v2)\n"
      ],
      "metadata": {
        "id": "P_BHmRVA3GG6"
      },
      "execution_count": 311,
      "outputs": []
    },
    {
      "cell_type": "code",
      "source": [
        "# Creation of 2D, 3D point couples\n",
        "def point3Daleatoire() :\n",
        "  return np.array([[np.random.uniform(-500,500),np.random.uniform(-500,500),np.random.uniform(-500,500)]])\n",
        "\n",
        "# 3D points\n",
        "  # random :\n",
        "P1 = point3Daleatoire()     # (1*3) -> pour P3P\n",
        "P2 = point3Daleatoire()\n",
        "P3 = point3Daleatoire()\n",
        "P4 = point3Daleatoire()\n",
        "  # set\n",
        "'''P1 = np.array([[-150,150,1]],dtype=np.float32)\n",
        "P2 = np.array([[162,-162,1]],dtype=np.float32)\n",
        "P3 = np.array([[-162,-162,1]],dtype=np.float32)\n",
        "P4 = np.array([[162,162,1]],dtype=np.float32)'''\n",
        "\n",
        "\n",
        "points3D = np.concatenate((P1,P2,P3),axis=0);     # (3*3)\n",
        "print(\"pt3D\\n\",points3D,\"\\n\")\n",
        "print(\"Collinear points : \", areCollineary(P1,P2,P3))\n",
        "print(\"v1 x v2 = \",crossproduct(P1,P2,P3),\"\\n\")\n",
        "\n",
        "# 2D points\n",
        "p1 = projection3D2D(P1,T,R,A)   # (2*1)\n",
        "p1 = np.reshape(p1,(1,2))       # (1,2)\n",
        "p2 = projection3D2D(P2,T,R,A)\n",
        "p2 = np.reshape(p2,(1,2))\n",
        "p3 = projection3D2D(P3,T,R,A)\n",
        "p3 = np.reshape(p3,(1,2))\n",
        "p4 = projection3D2D(P4,T,R,A)\n",
        "p4 = np.reshape(p4,(1,2))\n",
        "\n",
        "\n",
        "points2D = np.concatenate((p1,p2,p3),axis=0);    # (3*2)\n",
        "print(\"pt2D\\n\",points2D)\n",
        "\n",
        "# Application of solveP3P to find the camera position\n",
        "retval, rvec, tvecs =  cv2.solveP3P(points3D,points2D,A,None, flags = cv2.SOLVEPNP_P3P)\n",
        "\n",
        "rvec = np.array(rvec)\n",
        "tvecs = np.array(tvecs)\n"
      ],
      "metadata": {
        "colab": {
          "base_uri": "https://localhost:8080/"
        },
        "id": "cNp-SeqFbsLR",
        "outputId": "6d310180-8230-4a0c-eefc-7bd4dad21bd0"
      },
      "execution_count": 312,
      "outputs": [
        {
          "output_type": "stream",
          "name": "stdout",
          "text": [
            "pt3D\n",
            " [[ 350.93204883  429.73708414  -36.69022556]\n",
            " [-397.25072451  -25.69488425 -209.54172894]\n",
            " [-190.60271946 -257.0409099   453.69154891]] \n",
            "\n",
            "Collinear points :  False\n",
            "v1 x v2 =  [[-342046.14556404  460500.29485086  267203.21877615]] \n",
            "\n",
            "pt2D\n",
            " [[ 6576.34471126 -8053.12370284]\n",
            " [-1474.42716163    95.36857432]\n",
            " [  340.59650208  -459.31786833]]\n"
          ]
        }
      ]
    },
    {
      "cell_type": "code",
      "source": [
        "# Calculation of the estimation error :\n",
        "def distance(pt, pt_estimation):\n",
        "    erreur = 0\n",
        "    for i in range(len(pt)):\n",
        "      erreur += (pt[i] - pt_estimation[i])**2\n",
        "    return np.sqrt(erreur)"
      ],
      "metadata": {
        "id": "q61jZ8i1LSoT"
      },
      "execution_count": 313,
      "outputs": []
    },
    {
      "cell_type": "code",
      "source": [
        "\n",
        "\n",
        "# Measurement of the estimation error\n",
        "nb_solutions = len(rvec)\n",
        "print(\"nombre de solutions trouvées =\", nb_solutions)\n",
        "\n",
        "erreurs = []\n",
        "\n",
        "for i in range (nb_solutions):\n",
        "  print(\"\\nSolution \",i+1, \":\\n\")\n",
        "\n",
        "  # Recovery of rotation and translation matrices\n",
        "\n",
        "  rodriguez = rvec[i]     # (3*1)\n",
        "  R_P3P = cv2.Rodrigues(rodriguez)[0]    # rotation matrix : (3*3)\n",
        "  print(\"R_P3P=\",R_P3P,\"\\n\")\n",
        "\n",
        "  T_P3P = tvecs[i]    # translation matrix : (1*3)\n",
        "  T_P3P = np.reshape(T_P3P,(3,1))    # (3*1)\n",
        "  print(\"T=\",T_P3P,\"\\n\")\n",
        "\n",
        "\n",
        "  # Point estimation\n",
        "  p1_P3P = np.reshape(projection3D2D(P1,T_P3P,R_P3P,A),(1,2))\n",
        "\n",
        "  p2_P3P = np.reshape(projection3D2D(P2,T_P3P,R_P3P,A),(1,2))\n",
        "  p3_P3P = np.reshape(projection3D2D(P3,T_P3P,R_P3P,A),(1,2))\n",
        "  p4_P3P = np.reshape(projection3D2D(P4,T_P3P,R_P3P,A),(1,2))\n",
        "\n",
        "  # Creation of a table of estimated points\n",
        "  pt_2D_P3P = np.concatenate((p1_P3P,p2_P3P,p3_P3P,p4_P3P),axis=0)    # (4,2)\n",
        "  print(\"pt_2D_P3P = \",pt_2D_P3P,\"\\n\")\n",
        "\n",
        "  # Creation of a table of original points\n",
        "\n",
        "  pt_2D = np.concatenate((p1,p2,p3,p4),axis=0)    # (4,2)\n",
        "  print(\"pt_2D = \",pt_2D)\n",
        "\n",
        "  # Calculation of the estimation error\n",
        "  erreurs.append([0])\n",
        "  for j in range(len(pt_2D)):\n",
        "    erreur_pt = distance(pt_2D[j],pt_2D_P3P[j])\n",
        "    print(\"erreur = \",erreur_pt)\n",
        "    erreurs[i]+=erreur_pt\n",
        "\n",
        "# Fin de best solution\n",
        "if nb_solutions > 0 :\n",
        "  indice_max = 0\n",
        "  max = erreurs[0]\n",
        "  for i in range(1,len(erreurs)) :\n",
        "    if erreurs[i]>max :\n",
        "      max = erreurs[i]\n",
        "      indice_max = i\n",
        "\n",
        "  rodriguez = rvec[indice_max]\n",
        "  R_estime = cv2.Rodrigues(rodriguez)[0]\n",
        "  T_estime = tvecs[indice_max]    # translation matrix : (1*3)\n",
        "  T_estime = np.reshape(T_P3P,(3,1))\n",
        "\n",
        "  print(\"\\n R estimé = \", R_estime,\"\\n\")\n",
        "  print(\"T estimé = \", T_estime, \"\\n\")\n",
        "\n"
      ],
      "metadata": {
        "colab": {
          "base_uri": "https://localhost:8080/"
        },
        "id": "TX4KNBJFBtd-",
        "outputId": "fc45504e-dc5b-4299-dd71-525d88bb9104"
      },
      "execution_count": 314,
      "outputs": [
        {
          "output_type": "stream",
          "name": "stdout",
          "text": [
            "nombre de solutions trouvées = 0\n"
          ]
        }
      ]
    }
  ]
}