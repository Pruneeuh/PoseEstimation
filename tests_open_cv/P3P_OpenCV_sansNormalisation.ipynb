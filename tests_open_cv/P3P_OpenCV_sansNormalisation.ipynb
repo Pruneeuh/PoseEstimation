{
  "nbformat": 4,
  "nbformat_minor": 0,
  "metadata": {
    "colab": {
      "provenance": []
    },
    "kernelspec": {
      "name": "python3",
      "display_name": "Python 3"
    },
    "language_info": {
      "name": "python"
    }
  },
  "cells": [
    {
      "cell_type": "code",
      "execution_count": 6,
      "metadata": {
        "id": "nCteTBDNzd4Q",
        "colab": {
          "base_uri": "https://localhost:8080/"
        },
        "outputId": "7b88c0c2-63d3-4b62-9d15-39b832a2212c"
      },
      "outputs": [
        {
          "output_type": "stream",
          "name": "stdout",
          "text": [
            "[[ 224.35068202]\n",
            " [ 198.75221521]\n",
            " [-185.8665756 ]]\n"
          ]
        }
      ],
      "source": [
        "import numpy as np\n",
        "import cv2\n",
        "#np.random.seed(2)   # block the random\n",
        "\n",
        "# Definition of the camera parameters\n",
        "  # focal length\n",
        "fx = 60\n",
        "fy = 40\n",
        "  # center\n",
        "cx = 0\n",
        "cy = 0\n",
        "\n",
        "A = np.array([[fx, 0, cx], [0, fy, cy], [0, 0, 1]]) # intraseca matrix of the camera (3*3)\n",
        "\n",
        "# Generation of 3 random angles to define the rotation\n",
        "rax,pitch,yaw = np.random.uniform(0,np.pi,size=3)\n",
        "\n",
        "# Generation of the rotation matrix\n",
        "\n",
        "Rx = np.array([[1,0,0],[0, np.cos(rax), -np.sin(rax)],[0, np.sin(rax), np.cos(rax)]])\n",
        "Ry = np.array([[np.cos(pitch), 0, np.sin(pitch)],[0,1,0],[-np.sin(pitch),0, np.cos(pitch)]])\n",
        "Rz = np.array([[np.cos(yaw), -np.sin(yaw),0],[np.sin(yaw),np.cos(yaw),0],[0,0,1]])\n",
        "\n",
        "R = Rz @ Ry @ Rx  # rotation matrix  (3*3)\n",
        "\n",
        "# Generation of the camera translation\n",
        "T = np.random.uniform(-500,500,size=3)     # T = [tx,ty,tz]  (1*3)\n",
        "T = T.reshape((3,1))                       # (3*1)\n",
        "\n",
        "print(T)"
      ]
    },
    {
      "cell_type": "code",
      "source": [
        "# Projection from a 3D point to a 2D\n",
        "\n",
        "def projection3D2D(point3D,T,R,A) :\n",
        "  # 3D point = [ Xw, Yw, Zw ]'   (1*3)\n",
        "  # T : camera translation matrix : (3*1)\n",
        "  # R : camera rotation matrix : (3*3)\n",
        "  # A : intraseca matrix of the camera : (3*3)\n",
        "\n",
        "  PI = np.concatenate((np.eye(3),np.zeros((3,1))),axis=1)  # (3*4)\n",
        "\n",
        "  Rt = np.concatenate((R,T),axis=1)               # (3*4)\n",
        "  Rt = np.concatenate((Rt,np.array([[0,0,0,1]])),axis=0)   # (4*4)\n",
        "\n",
        "  point3D_bis = np.concatenate((np.reshape(point3D,(3,1)),np.array([[1]])),axis=0)   #(4*1)\n",
        "\n",
        "  point2D = A @ PI @ Rt @ point3D_bis   # 2D point = [u, v, w] (3*1)\n",
        "  point2D = point2D #/ point2D[2]        # 2D point = [u, v, 1] (3*1)\n",
        "  return point2D[:2]\n",
        "\n",
        "pt3D = [[3],[1],[4]]\n",
        "print(\"point 3D :\\n \", pt3D)\n",
        "pt2D = projection3D2D(pt3D,T,R,A)\n",
        "print(\"point 2D :\\n\", pt2D)"
      ],
      "metadata": {
        "colab": {
          "base_uri": "https://localhost:8080/"
        },
        "id": "keXsHSn3aC8Y",
        "outputId": "776f6240-9d18-458a-cf73-eea9334e61a7"
      },
      "execution_count": 7,
      "outputs": [
        {
          "output_type": "stream",
          "name": "stdout",
          "text": [
            "point 3D :\n",
            "  [[3], [1], [4]]\n",
            "point 2D :\n",
            " [[13762.77073217]\n",
            " [ 7921.21198113]]\n"
          ]
        }
      ]
    },
    {
      "cell_type": "code",
      "source": [
        "# Creation of 2D, 3D point couples\n",
        "def point3Daleatoire() :\n",
        "  return np.array([[np.random.uniform(-500,500),np.random.uniform(-500,500),np.random.uniform(-500,500)]])\n",
        "\n",
        "# 3D points\n",
        "'''P1 = point3Daleatoire()     # (1*3) -> pour P3P\n",
        "P2 = point3Daleatoire()\n",
        "P3 = point3Daleatoire()\n",
        "P4 = point3Daleatoire()'''\n",
        "P1 = np.array([[-200,200,1]],dtype=np.float32)\n",
        "P2 = np.array([[200,-200,1]],dtype=np.float32)\n",
        "P3 = np.array([[-200,-200,1]],dtype=np.float32)\n",
        "P4 = np.array([[200,200,1]],dtype=np.float32)\n",
        "\n",
        "print(np.shape(P1))\n",
        "print(\"P1\\n\",P1)\n",
        "points3D = np.concatenate((P1,P2,P3),axis=0);     # (3*3)\n",
        "print(\"pt3D\\n\",points3D)\n",
        "\n",
        "# 2D points\n",
        "p1 = projection3D2D(P1,T,R,A)   # (2*1)\n",
        "p1 = np.reshape(p1,(1,2))       # (1,2)\n",
        "p2 = projection3D2D(P2,T,R,A)\n",
        "p2 = np.reshape(p2,(1,2))\n",
        "p3 = projection3D2D(P3,T,R,A)\n",
        "p3 = np.reshape(p3,(1,2))\n",
        "p4 = projection3D2D(P4,T,R,A)\n",
        "p4 = np.reshape(p4,(1,2))\n",
        "\n",
        "\n",
        "points2D = np.concatenate((p1,p2,p3),axis=0);    # (3*2)\n",
        "print(\"p1\\n\",p1)\n",
        "print(\"pt2D\\n\",points2D)\n",
        "print(np.shape(points2D))\n",
        "\n",
        "# Application of solveP3P to find the camera position\n",
        "retval, rvec, tvecs =  cv2.solveP3P(points3D,points2D,A,None, flags = cv2.SOLVEPNP_P3P)\n",
        "\n",
        "rvec = np.array(rvec)\n",
        "tvecs = np.array(tvecs)\n"
      ],
      "metadata": {
        "colab": {
          "base_uri": "https://localhost:8080/"
        },
        "id": "cNp-SeqFbsLR",
        "outputId": "6d47efeb-3fc2-4752-d738-58c94e907e6f"
      },
      "execution_count": 8,
      "outputs": [
        {
          "output_type": "stream",
          "name": "stdout",
          "text": [
            "(1, 3)\n",
            "P1\n",
            " [[-200.  200.    1.]]\n",
            "pt3D\n",
            " [[-200.  200.    1.]\n",
            " [ 200. -200.    1.]\n",
            " [-200. -200.    1.]]\n",
            "p1\n",
            " [[10514.85189851 18453.22616924]]\n",
            "pt2D\n",
            " [[10514.85189851 18453.22616924]\n",
            " [16493.77262366 -2561.3543658 ]\n",
            " [ 2134.59724632  3918.8707972 ]]\n",
            "(3, 2)\n"
          ]
        }
      ]
    },
    {
      "cell_type": "code",
      "source": [
        "# Calculation of the estimation error :\n",
        "def distance(pt, pt_estimation):\n",
        "    erreur = 0\n",
        "    for i in range(len(pt)):\n",
        "      erreur += (pt[i] - pt_estimation[i])**2\n",
        "    return np.sqrt(erreur)"
      ],
      "metadata": {
        "id": "q61jZ8i1LSoT"
      },
      "execution_count": 9,
      "outputs": []
    },
    {
      "cell_type": "code",
      "source": [
        "\n",
        "\n",
        "# Measurement of the estimation error\n",
        "nb_solutions = len(rvec)\n",
        "print(\"nombre de solutions trouvées =\", nb_solutions)\n",
        "\n",
        "erreurs = []\n",
        "\n",
        "for i in range (nb_solutions):\n",
        "  print(\"\\nSolution \",i, \":\\n\")\n",
        "\n",
        "  # Recovery of rotation and translation matrices\n",
        "\n",
        "  rodriguez = rvec[i]     # (3*1)\n",
        "  R_P3P = cv2.Rodrigues(rodriguez)[0]    # rotation matrix : (3*3)\n",
        "  print(\"R_P3P=\",R_P3P,\"\\n\")\n",
        "\n",
        "  T_P3P = tvecs[i]    # translation matrix : (1*3)\n",
        "  T_P3P = np.reshape(T_P3P,(3,1))    # (3*1)\n",
        "  print(\"T=\",T_P3P,\"\\n\")\n",
        "\n",
        "\n",
        "  # Point estimation\n",
        "  p1_P3P = np.reshape(projection3D2D(P1,T_P3P,R_P3P,A),(1,2))\n",
        "\n",
        "  p2_P3P = np.reshape(projection3D2D(P2,T_P3P,R_P3P,A),(1,2))\n",
        "  p3_P3P = np.reshape(projection3D2D(P3,T_P3P,R_P3P,A),(1,2))\n",
        "  p4_P3P = np.reshape(projection3D2D(P4,T_P3P,R_P3P,A),(1,2))\n",
        "\n",
        "  # Creation of a table of estimated points\n",
        "  pt_2D_P3P = np.concatenate((p1_P3P,p2_P3P,p3_P3P,p4_P3P),axis=0)    # (4,2)\n",
        "  print(\"pt_2D_P3P = \",pt_2D_P3P,\"\\n\")\n",
        "\n",
        "  # Creation of a table of original points\n",
        "\n",
        "  pt_2D = np.concatenate((p1,p2,p3,p4),axis=0)    # (4,2)\n",
        "  print(\"pt_2D = \",pt_2D)\n",
        "\n",
        "  # Calculation of the estimation error\n",
        "  erreurs.append([0])\n",
        "  for j in range(len(pt_2D)):\n",
        "    erreur_pt = distance(pt_2D[j],pt_2D_P3P[j])\n",
        "    print(\"erreur = \",erreur_pt)\n",
        "    erreurs[i]+=erreur_pt\n",
        "\n",
        "# Fin de best solution\n",
        "indice_max = 0\n",
        "max = erreurs[0]\n",
        "for i in range(1,len(erreurs)) :\n",
        "  if erreurs[i]>max :\n",
        "    max = erreurs[i]\n",
        "    indice_max = i\n",
        "\n",
        "rodriguez = rvec[indice_max]\n",
        "R_estime = cv2.Rodrigues(rodriguez)[0]\n",
        "T_estime = tvecs[indice_max]    # translation matrix : (1*3)\n",
        "T_estime = np.reshape(T_P3P,(3,1))\n",
        "\n",
        "print(\"\\n R estimé = \", R_estime,\"\\n\")\n",
        "print(\"T estimé = \", T_estime, \"\\n\")\n"
      ],
      "metadata": {
        "colab": {
          "base_uri": "https://localhost:8080/"
        },
        "id": "TX4KNBJFBtd-",
        "outputId": "a6266320-a18e-4987-9f79-0440accf3615"
      },
      "execution_count": 10,
      "outputs": [
        {
          "output_type": "stream",
          "name": "stdout",
          "text": [
            "nombre de solutions trouvées = 1\n",
            "\n",
            "Solution  0 :\n",
            "\n",
            "R_P3P= [[ 9.34103207e-01  3.56994597e-01 -2.46115440e-03]\n",
            " [-3.56995953e-01  9.34105923e-01 -1.20803810e-04]\n",
            " [ 2.25585259e-03  9.91465386e-04  9.99996964e-01]] \n",
            "\n",
            "T= [[2.76892072e+02]\n",
            " [1.66836156e+02]\n",
            " [1.74250880e-01]] \n",
            "\n",
            "pt_2D_P3P =  [[ 9688.07332917 17002.25642893]\n",
            " [23538.67997359 -3655.3735819 ]\n",
            " [ 1120.20301269  2056.56166377]\n",
            " [32106.55029007 11290.32118326]] \n",
            "\n",
            "pt_2D =  [[10514.85189851 18453.22616924]\n",
            " [16493.77262366 -2561.3543658 ]\n",
            " [ 2134.59724632  3918.8707972 ]\n",
            " [24874.02727585 11973.00100624]]\n",
            "erreur =  1669.9928113583442\n",
            "erreur =  7129.347628944586\n",
            "erreur =  2120.6581453995796\n",
            "erreur =  7264.670735274585\n",
            "\n",
            " R estimé =  [[ 9.34103207e-01  3.56994597e-01 -2.46115440e-03]\n",
            " [-3.56995953e-01  9.34105923e-01 -1.20803810e-04]\n",
            " [ 2.25585259e-03  9.91465386e-04  9.99996964e-01]] \n",
            "\n",
            "T estimé =  [[2.76892072e+02]\n",
            " [1.66836156e+02]\n",
            " [1.74250880e-01]] \n",
            "\n"
          ]
        }
      ]
    }
  ]
}