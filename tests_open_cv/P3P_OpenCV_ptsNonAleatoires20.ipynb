{
  "nbformat": 4,
  "nbformat_minor": 0,
  "metadata": {
    "colab": {
      "provenance": []
    },
    "kernelspec": {
      "name": "python3",
      "display_name": "Python 3"
    },
    "language_info": {
      "name": "python"
    }
  },
  "cells": [
    {
      "cell_type": "code",
      "execution_count": 16,
      "metadata": {
        "id": "nCteTBDNzd4Q",
        "colab": {
          "base_uri": "https://localhost:8080/"
        },
        "outputId": "a72d6079-c855-4285-f2bc-e05d7f3037ad"
      },
      "outputs": [
        {
          "output_type": "stream",
          "name": "stdout",
          "text": [
            "[[ -64.67760738]\n",
            " [ -79.63219791]\n",
            " [-169.665179  ]]\n"
          ]
        }
      ],
      "source": [
        "import numpy as np\n",
        "import cv2\n",
        "np.random.seed(2)   # block the random\n",
        "\n",
        "# Definition of the camera parameters\n",
        "  # focal length\n",
        "fx = 60\n",
        "fy = 40\n",
        "  # center\n",
        "cx = 0\n",
        "cy = 0\n",
        "\n",
        "A = np.array([[fx, 0, cx], [0, fy, cy], [0, 0, 1]]) # intraseca matrix of the camera (3*3)\n",
        "\n",
        "# Generation of 3 random angles to define the rotation\n",
        "rax,pitch,yaw = np.random.uniform(0,np.pi,size=3)\n",
        "\n",
        "# Generation of the rotation matrix\n",
        "\n",
        "Rx = np.array([[1,0,0],[0, np.cos(rax), -np.sin(rax)],[0, np.sin(rax), np.cos(rax)]])\n",
        "Ry = np.array([[np.cos(pitch), 0, np.sin(pitch)],[0,1,0],[-np.sin(pitch),0, np.cos(pitch)]])\n",
        "Rz = np.array([[np.cos(yaw), -np.sin(yaw),0],[np.sin(yaw),np.cos(yaw),0],[0,0,1]])\n",
        "\n",
        "R = Rz @ Ry @ Rx  # rotation matrix  (3*3)\n",
        "\n",
        "# Generation of the camera translation\n",
        "T = np.random.uniform(-500,500,size=3)     # T = [tx,ty,tz]  (1*3)\n",
        "T = T.reshape((3,1))                       # (3*1)\n",
        "\n",
        "print(T)"
      ]
    },
    {
      "cell_type": "code",
      "source": [
        "# Projection from a 3D point to a 2D\n",
        "\n",
        "def projection3D2D(point3D,T,R,A) :\n",
        "  # 3D point = [ Xw, Yw, Zw ]'   (1*3)\n",
        "  # T : camera translation matrix : (3*1)\n",
        "  # R : camera rotation matrix : (3*3)\n",
        "  # A : intraseca matrix of the camera : (3*3)\n",
        "\n",
        "  PI = np.concatenate((np.eye(3),np.zeros((3,1))),axis=1)  # (3*4)\n",
        "\n",
        "  Rt = np.concatenate((R,T),axis=1)               # (3*4)\n",
        "  Rt = np.concatenate((Rt,np.array([[0,0,0,1]])),axis=0)   # (4*4)\n",
        "\n",
        "  point3D_bis = np.concatenate((np.reshape(point3D,(3,1)),np.array([[1]])),axis=0)   #(4*1)\n",
        "\n",
        "  point2D = A @ PI @ Rt @ point3D_bis   # 2D point = [u, v, w] (3*1)\n",
        "  point2D = point2D / point2D[2]        # 2D point = [u, v, 1] (3*1)\n",
        "  return point2D[:2]\n",
        "\n",
        "pt3D = [[3],[1],[4]]\n",
        "print(\"point 3D :\\n \", pt3D)\n",
        "pt2D = projection3D2D(pt3D,T,R,A)\n",
        "print(\"point 2D :\\n\", pt2D)"
      ],
      "metadata": {
        "colab": {
          "base_uri": "https://localhost:8080/"
        },
        "id": "keXsHSn3aC8Y",
        "outputId": "5a041c76-6ee3-4a10-ea16-66dcb1e3832b"
      },
      "execution_count": 17,
      "outputs": [
        {
          "output_type": "stream",
          "name": "stdout",
          "text": [
            "point 3D :\n",
            "  [[3], [1], [4]]\n",
            "point 2D :\n",
            " [[21.94297343]\n",
            " [18.07044997]]\n"
          ]
        }
      ]
    },
    {
      "cell_type": "code",
      "source": [
        "# Creation of 2D, 3D point couples\n",
        "def point3Daleatoire() :\n",
        "  return np.array([[np.random.uniform(-500,500),np.random.uniform(-500,500),np.random.uniform(-500,500)]])\n",
        "\n",
        "# 3D points\n",
        "'''P1 = point3Daleatoire()     # (1*3) -> pour P3P\n",
        "P2 = point3Daleatoire()\n",
        "P3 = point3Daleatoire()\n",
        "P4 = point3Daleatoire()'''\n",
        "P1 = np.array([[-20,20,1]],dtype=np.float32)\n",
        "P2 = np.array([[20,-20,1]],dtype=np.float32)\n",
        "P3 = np.array([[-20,-20,1]],dtype=np.float32)\n",
        "P4 = np.array([[20,20,1]],dtype=np.float32)\n",
        "\n",
        "print(np.shape(P1))\n",
        "print(\"P1\\n\",P1)\n",
        "points3D = np.concatenate((P1,P2,P3),axis=0);     # (3*3)\n",
        "print(\"pt3D\\n\",points3D)\n",
        "\n",
        "# 2D points\n",
        "p1 = projection3D2D(P1,T,R,A)   # (2*1)\n",
        "p1 = np.reshape(p1,(1,2))       # (1,2)\n",
        "p2 = projection3D2D(P2,T,R,A)\n",
        "p2 = np.reshape(p2,(1,2))\n",
        "p3 = projection3D2D(P3,T,R,A)\n",
        "p3 = np.reshape(p3,(1,2))\n",
        "p4 = projection3D2D(P4,T,R,A)\n",
        "p4 = np.reshape(p4,(1,2))\n",
        "\n",
        "\n",
        "points2D = np.concatenate((p1,p2,p3),axis=0);    # (3*2)\n",
        "print(\"p1\\n\",p1)\n",
        "print(\"pt2D\\n\",points2D)\n",
        "print(np.shape(points2D))\n",
        "\n",
        "# Application of solveP3P to find the camera position\n",
        "retval, rvec, tvecs =  cv2.solveP3P(points3D,points2D,A,None, flags = cv2.SOLVEPNP_P3P)\n",
        "\n",
        "rvec = np.array(rvec)\n",
        "tvecs = np.array(tvecs)\n"
      ],
      "metadata": {
        "colab": {
          "base_uri": "https://localhost:8080/"
        },
        "id": "cNp-SeqFbsLR",
        "outputId": "a9b11928-9ac6-4194-bbd7-49c1e83a5fb6"
      },
      "execution_count": 18,
      "outputs": [
        {
          "output_type": "stream",
          "name": "stdout",
          "text": [
            "(1, 3)\n",
            "P1\n",
            " [[-20.  20.   1.]]\n",
            "pt3D\n",
            " [[-20.  20.   1.]\n",
            " [ 20. -20.   1.]\n",
            " [-20. -20.   1.]]\n",
            "p1\n",
            " [[26.21935004 26.4859286 ]]\n",
            "pt2D\n",
            " [[26.21935004 26.4859286 ]\n",
            " [19.70856451 12.74261826]\n",
            " [18.06715042 21.37146393]]\n",
            "(3, 2)\n"
          ]
        }
      ]
    },
    {
      "cell_type": "code",
      "source": [
        "# Calculation of the estimation error :\n",
        "def distance(pt, pt_estimation):\n",
        "    erreur = 0\n",
        "    for i in range(len(pt)):\n",
        "      erreur += (pt[i] - pt_estimation[i])**2\n",
        "    return np.sqrt(erreur)"
      ],
      "metadata": {
        "id": "q61jZ8i1LSoT"
      },
      "execution_count": 19,
      "outputs": []
    },
    {
      "cell_type": "code",
      "source": [
        "\n",
        "\n",
        "# Measurement of the estimation error\n",
        "nb_solutions = len(rvec)\n",
        "print(\"nombre de solutions trouvées =\", nb_solutions)\n",
        "\n",
        "erreurs = []\n",
        "\n",
        "for i in range (nb_solutions):\n",
        "  print(\"\\nSolution \",i, \":\\n\")\n",
        "\n",
        "  # Recovery of rotation and translation matrices\n",
        "\n",
        "  rodriguez = rvec[i]     # (3*1)\n",
        "  R_P3P = cv2.Rodrigues(rodriguez)[0]    # rotation matrix : (3*3)\n",
        "  print(\"R_P3P=\",R_P3P,\"\\n\")\n",
        "\n",
        "  T_P3P = tvecs[i]    # translation matrix : (1*3)\n",
        "  T_P3P = np.reshape(T_P3P,(3,1))    # (3*1)\n",
        "  print(\"T=\",T_P3P,\"\\n\")\n",
        "\n",
        "\n",
        "  # Point estimation\n",
        "  p1_P3P = np.reshape(projection3D2D(P1,T_P3P,R_P3P,A),(1,2))\n",
        "\n",
        "  p2_P3P = np.reshape(projection3D2D(P2,T_P3P,R_P3P,A),(1,2))\n",
        "  p3_P3P = np.reshape(projection3D2D(P3,T_P3P,R_P3P,A),(1,2))\n",
        "  p4_P3P = np.reshape(projection3D2D(P4,T_P3P,R_P3P,A),(1,2))\n",
        "\n",
        "  # Creation of a table of estimated points\n",
        "  pt_2D_P3P = np.concatenate((p1_P3P,p2_P3P,p3_P3P,p4_P3P),axis=0)    # (4,2)\n",
        "  print(\"pt_2D_P3P = \",pt_2D_P3P,\"\\n\")\n",
        "\n",
        "  # Creation of a table of original points\n",
        "\n",
        "  pt_2D = np.concatenate((p1,p2,p3,p4),axis=0)    # (4,2)\n",
        "  print(\"pt_2D = \",pt_2D)\n",
        "\n",
        "  # Calculation of the estimation error\n",
        "  erreurs.append([0])\n",
        "  for j in range(len(pt_2D)):\n",
        "    erreur_pt = distance(pt_2D[j],pt_2D_P3P[j])\n",
        "    print(\"erreur = \",erreur_pt)\n",
        "    erreurs[i]+=erreur_pt\n",
        "\n",
        "# Fin de best solution\n",
        "indice_max = 0\n",
        "max = erreurs[0]\n",
        "for i in range(1,len(erreurs)) :\n",
        "  if erreurs[i]>max :\n",
        "    max = erreurs[i]\n",
        "    indice_max = i\n",
        "\n",
        "rodriguez = rvec[indice_max]\n",
        "R_estime = cv2.Rodrigues(rodriguez)[0]\n",
        "T_estime = tvecs[indice_max]    # translation matrix : (1*3)\n",
        "T_estime = np.reshape(T_P3P,(3,1))\n",
        "\n",
        "print(\"\\n R estimé = \", R_estime,\"\\n\")\n",
        "print(\"T estimé = \", T_estime, \"\\n\")\n"
      ],
      "metadata": {
        "colab": {
          "base_uri": "https://localhost:8080/"
        },
        "id": "TX4KNBJFBtd-",
        "outputId": "2674bfdb-9860-4908-da1a-2d1f66a7a38b"
      },
      "execution_count": 20,
      "outputs": [
        {
          "output_type": "stream",
          "name": "stdout",
          "text": [
            "nombre de solutions trouvées = 2\n",
            "\n",
            "Solution  0 :\n",
            "\n",
            "R_P3P= [[ 0.15487196  0.20968726  0.96542526]\n",
            " [-0.98457873 -0.04771731  0.16830857]\n",
            " [ 0.08135966 -0.97660346  0.19906354]] \n",
            "\n",
            "T= [[ 62.7467562 ]\n",
            " [ 79.29557946]\n",
            " [169.26704983]] \n",
            "\n",
            "pt_2D_P3P =  [[26.2193501  26.48592855]\n",
            " [19.70856457 12.7426182 ]\n",
            " [18.06715032 21.37146402]\n",
            " [28.10878308 15.52322168]] \n",
            "\n",
            "pt_2D =  [[26.21935004 26.4859286 ]\n",
            " [19.70856451 12.74261826]\n",
            " [18.06715042 21.37146393]\n",
            " [28.10878288 15.52322197]]\n",
            "erreur =  7.373636208209806e-08\n",
            "erreur =  8.284789123890252e-08\n",
            "erreur =  1.3164376684733206e-07\n",
            "erreur =  3.442116761869532e-07\n",
            "\n",
            "Solution  1 :\n",
            "\n",
            "R_P3P= [[ 0.33960444  0.65929874 -0.67081592]\n",
            " [-0.61962227  0.69339154  0.36779941]\n",
            " [ 0.70762777  0.29074618  0.64399503]] \n",
            "\n",
            "T= [[ 67.83204786]\n",
            " [ 84.82638078]\n",
            " [176.01615717]] \n",
            "\n",
            "pt_2D_P3P =  [[26.21935005 26.48592865]\n",
            " [19.70856446 12.74261832]\n",
            " [18.06715048 21.37146378]\n",
            " [26.59014756 17.6312078 ]] \n",
            "\n",
            "pt_2D =  [[26.21935004 26.4859286 ]\n",
            " [19.70856451 12.74261826]\n",
            " [18.06715042 21.37146393]\n",
            " [28.10878288 15.52322197]]\n",
            "erreur =  5.8510092396485557e-08\n",
            "erreur =  7.722966705994913e-08\n",
            "erreur =  1.5957688226363863e-07\n",
            "erreur =  2.598048795218609\n",
            "\n",
            " R estimé =  [[ 0.33960444  0.65929874 -0.67081592]\n",
            " [-0.61962227  0.69339154  0.36779941]\n",
            " [ 0.70762777  0.29074618  0.64399503]] \n",
            "\n",
            "T estimé =  [[ 67.83204786]\n",
            " [ 84.82638078]\n",
            " [176.01615717]] \n",
            "\n"
          ]
        }
      ]
    }
  ]
}