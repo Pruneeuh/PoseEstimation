{
  "nbformat": 4,
  "nbformat_minor": 0,
  "metadata": {
    "colab": {
      "provenance": []
    },
    "kernelspec": {
      "name": "python3",
      "display_name": "Python 3"
    },
    "language_info": {
      "name": "python"
    }
  },
  "cells": [
    {
      "cell_type": "code",
      "execution_count": 141,
      "metadata": {
        "id": "nCteTBDNzd4Q",
        "colab": {
          "base_uri": "https://localhost:8080/"
        },
        "outputId": "9f624823-a41d-4445-ee31-1d97991e273b"
      },
      "outputs": [
        {
          "output_type": "stream",
          "name": "stdout",
          "text": [
            "[[2.00752347e+02]\n",
            " [4.64551080e+02]\n",
            " [8.36117022e-03]]\n"
          ]
        }
      ],
      "source": [
        "import numpy as np\n",
        "import cv2\n",
        "#np.random.seed(2)   # block the random\n",
        "\n",
        "# Definition of the camera parameters\n",
        "  # focal length\n",
        "fx = 60\n",
        "fy = 40\n",
        "  # center\n",
        "cx = 0\n",
        "cy = 0\n",
        "\n",
        "A = np.array([[fx, 0, cx], [0, fy, cy], [0, 0, 1]]) # intraseca matrix of the camera (3*3)\n",
        "\n",
        "# Generation of 3 random angles to define the rotation\n",
        "rax,pitch,yaw = np.random.uniform(0,np.pi,size=3)\n",
        "\n",
        "# Generation of the rotation matrix\n",
        "\n",
        "Rx = np.array([[1,0,0],[0, np.cos(rax), -np.sin(rax)],[0, np.sin(rax), np.cos(rax)]])\n",
        "Ry = np.array([[np.cos(pitch), 0, np.sin(pitch)],[0,1,0],[-np.sin(pitch),0, np.cos(pitch)]])\n",
        "Rz = np.array([[np.cos(yaw), -np.sin(yaw),0],[np.sin(yaw),np.cos(yaw),0],[0,0,1]])\n",
        "\n",
        "R = Rz @ Ry @ Rx  # rotation matrix  (3*3)\n",
        "\n",
        "# Generation of the camera translation\n",
        "T = np.random.uniform(-500,500,size=3)     # T = [tx,ty,tz]  (1*3)\n",
        "T = T.reshape((3,1))                       # (3*1)\n",
        "\n",
        "print(T)"
      ]
    },
    {
      "cell_type": "code",
      "source": [
        "# Projection from a 3D point to a 2D\n",
        "\n",
        "def projection3D2D(point3D,T,R,A) :\n",
        "  # 3D point = [ Xw, Yw, Zw ]'   (1*3)\n",
        "  # T : camera translation matrix : (3*1)\n",
        "  # R : camera rotation matrix : (3*3)\n",
        "  # A : intraseca matrix of the camera : (3*3)\n",
        "\n",
        "  PI = np.concatenate((np.eye(3),np.zeros((3,1))),axis=1)  # (3*4)\n",
        "\n",
        "  Rt = np.concatenate((R,T),axis=1)               # (3*4)\n",
        "  Rt = np.concatenate((Rt,np.array([[0,0,0,1]])),axis=0)   # (4*4)\n",
        "\n",
        "  point3D_bis = np.concatenate((np.reshape(point3D,(3,1)),np.array([[1]])),axis=0)   #(4*1)\n",
        "\n",
        "  point2D = A @ PI @ Rt @ point3D_bis   # 2D point = [u, v, w] (3*1)\n",
        "  point2D = point2D / point2D[2]        # 2D point = [u, v, 1] (3*1)\n",
        "  return point2D[:2]\n",
        "\n",
        "pt3D = [[3],[1],[4]]\n",
        "print(\"point 3D :\\n \", pt3D)\n",
        "pt2D = projection3D2D(pt3D,T,R,A)\n",
        "print(\"point 2D :\\n\", pt2D)"
      ],
      "metadata": {
        "colab": {
          "base_uri": "https://localhost:8080/"
        },
        "id": "keXsHSn3aC8Y",
        "outputId": "65589247-b6b4-4b40-b13e-3a728f489949"
      },
      "execution_count": 142,
      "outputs": [
        {
          "output_type": "stream",
          "name": "stdout",
          "text": [
            "point 3D :\n",
            "  [[3], [1], [4]]\n",
            "point 2D :\n",
            " [[-5308.75964146]\n",
            " [-8164.01167462]]\n"
          ]
        }
      ]
    },
    {
      "cell_type": "code",
      "source": [
        "# test of collinearity\n",
        "def areCollineary(P1,P2,P3) :\n",
        "  # return true if P1, P2 and P3 are collineary\n",
        "  v1 = P2 - P1\n",
        "  v2 = P3 - P1\n",
        "  return np.linalg.norm(np.cross(v1,v2)) == 0\n",
        "\n"
      ],
      "metadata": {
        "id": "P_BHmRVA3GG6"
      },
      "execution_count": 143,
      "outputs": []
    },
    {
      "cell_type": "code",
      "source": [
        "# Creation of 2D, 3D point couples\n",
        "def point3Daleatoire() :\n",
        "  return np.array([[np.random.uniform(-500,500),np.random.uniform(-500,500),np.random.uniform(-500,500)]])\n",
        "\n",
        "# 3D points\n",
        "  # random :\n",
        "P1 = point3Daleatoire()     # (1*3) -> pour P3P\n",
        "P2 = point3Daleatoire()\n",
        "P3 = point3Daleatoire()\n",
        "P4 = point3Daleatoire()\n",
        "  # set\n",
        "'''P1 = np.array([[-150,150,1]],dtype=np.float32)\n",
        "P2 = np.array([[162,-162,1]],dtype=np.float32)\n",
        "P3 = np.array([[-162,-162,1]],dtype=np.float32)\n",
        "P4 = np.array([[162,162,1]],dtype=np.float32)'''\n",
        "\n",
        "\n",
        "points3D = np.concatenate((P1,P2,P3),axis=0);     # (3*3)\n",
        "print(\"pt3D\\n\",points3D)\n",
        "print(\"Collinear points : \", areCollineary(P1,P2,P3))\n",
        "\n",
        "# 2D points\n",
        "p1 = projection3D2D(P1,T,R,A)   # (2*1)\n",
        "p1 = np.reshape(p1,(1,2))       # (1,2)\n",
        "p2 = projection3D2D(P2,T,R,A)\n",
        "p2 = np.reshape(p2,(1,2))\n",
        "p3 = projection3D2D(P3,T,R,A)\n",
        "p3 = np.reshape(p3,(1,2))\n",
        "p4 = projection3D2D(P4,T,R,A)\n",
        "p4 = np.reshape(p4,(1,2))\n",
        "\n",
        "\n",
        "points2D = np.concatenate((p1,p2,p3),axis=0);    # (3*2)\n",
        "print(\"pt2D\\n\",points2D)\n",
        "\n",
        "# Application of solveP3P to find the camera position\n",
        "retval, rvec, tvecs =  cv2.solveP3P(points3D,points2D,A,None, flags = cv2.SOLVEPNP_P3P)\n",
        "\n",
        "rvec = np.array(rvec)\n",
        "tvecs = np.array(tvecs)\n"
      ],
      "metadata": {
        "colab": {
          "base_uri": "https://localhost:8080/"
        },
        "id": "cNp-SeqFbsLR",
        "outputId": "a65a130e-2f59-4a64-d1c7-7cf4abfc44b3"
      },
      "execution_count": 144,
      "outputs": [
        {
          "output_type": "stream",
          "name": "stdout",
          "text": [
            "pt3D\n",
            " [[ 389.52006395 -158.38634733   67.14412763]\n",
            " [ -72.4540367   -63.25273697  276.559185  ]\n",
            " [  35.6041735   453.74222694   44.20816015]]\n",
            "Collinear points :  False\n",
            "pt2D\n",
            " [[   9.12388999  -49.56976836]\n",
            " [  24.4115538    74.14353107]\n",
            " [-373.60712713  -99.77894748]]\n"
          ]
        }
      ]
    },
    {
      "cell_type": "code",
      "source": [
        "# Calculation of the estimation error :\n",
        "def distance(pt, pt_estimation):\n",
        "    erreur = 0\n",
        "    for i in range(len(pt)):\n",
        "      erreur += (pt[i] - pt_estimation[i])**2\n",
        "    return np.sqrt(erreur)"
      ],
      "metadata": {
        "id": "q61jZ8i1LSoT"
      },
      "execution_count": 145,
      "outputs": []
    },
    {
      "cell_type": "code",
      "source": [
        "\n",
        "\n",
        "# Measurement of the estimation error\n",
        "nb_solutions = len(rvec)\n",
        "print(\"nombre de solutions trouvées =\", nb_solutions)\n",
        "\n",
        "erreurs = []\n",
        "\n",
        "for i in range (nb_solutions):\n",
        "  print(\"\\nSolution \",i+1, \":\\n\")\n",
        "\n",
        "  # Recovery of rotation and translation matrices\n",
        "\n",
        "  rodriguez = rvec[i]     # (3*1)\n",
        "  R_P3P = cv2.Rodrigues(rodriguez)[0]    # rotation matrix : (3*3)\n",
        "  print(\"R_P3P=\",R_P3P,\"\\n\")\n",
        "\n",
        "  T_P3P = tvecs[i]    # translation matrix : (1*3)\n",
        "  T_P3P = np.reshape(T_P3P,(3,1))    # (3*1)\n",
        "  print(\"T=\",T_P3P,\"\\n\")\n",
        "\n",
        "\n",
        "  # Point estimation\n",
        "  p1_P3P = np.reshape(projection3D2D(P1,T_P3P,R_P3P,A),(1,2))\n",
        "\n",
        "  p2_P3P = np.reshape(projection3D2D(P2,T_P3P,R_P3P,A),(1,2))\n",
        "  p3_P3P = np.reshape(projection3D2D(P3,T_P3P,R_P3P,A),(1,2))\n",
        "  p4_P3P = np.reshape(projection3D2D(P4,T_P3P,R_P3P,A),(1,2))\n",
        "\n",
        "  # Creation of a table of estimated points\n",
        "  pt_2D_P3P = np.concatenate((p1_P3P,p2_P3P,p3_P3P,p4_P3P),axis=0)    # (4,2)\n",
        "  print(\"pt_2D_P3P = \",pt_2D_P3P,\"\\n\")\n",
        "\n",
        "  # Creation of a table of original points\n",
        "\n",
        "  pt_2D = np.concatenate((p1,p2,p3,p4),axis=0)    # (4,2)\n",
        "  print(\"pt_2D = \",pt_2D)\n",
        "\n",
        "  # Calculation of the estimation error\n",
        "  erreurs.append([0])\n",
        "  for j in range(len(pt_2D)):\n",
        "    erreur_pt = distance(pt_2D[j],pt_2D_P3P[j])\n",
        "    print(\"erreur = \",erreur_pt)\n",
        "    erreurs[i]+=erreur_pt\n",
        "\n",
        "# Fin de best solution\n",
        "indice_max = 0\n",
        "max = erreurs[0]\n",
        "for i in range(1,len(erreurs)) :\n",
        "  if erreurs[i]>max :\n",
        "    max = erreurs[i]\n",
        "    indice_max = i\n",
        "\n",
        "rodriguez = rvec[indice_max]\n",
        "R_estime = cv2.Rodrigues(rodriguez)[0]\n",
        "T_estime = tvecs[indice_max]    # translation matrix : (1*3)\n",
        "T_estime = np.reshape(T_P3P,(3,1))\n",
        "\n",
        "print(\"\\n R estimé = \", R_estime,\"\\n\")\n",
        "print(\"T estimé = \", T_estime, \"\\n\")\n"
      ],
      "metadata": {
        "colab": {
          "base_uri": "https://localhost:8080/",
          "height": 228
        },
        "id": "TX4KNBJFBtd-",
        "outputId": "8d91b2e2-29e5-4503-b849-90a9ae4a0eb2"
      },
      "execution_count": 146,
      "outputs": [
        {
          "output_type": "stream",
          "name": "stdout",
          "text": [
            "nombre de solutions trouvées = 0\n"
          ]
        },
        {
          "output_type": "error",
          "ename": "IndexError",
          "evalue": "list index out of range",
          "traceback": [
            "\u001b[0;31m---------------------------------------------------------------------------\u001b[0m",
            "\u001b[0;31mIndexError\u001b[0m                                Traceback (most recent call last)",
            "\u001b[0;32m<ipython-input-146-2471062469>\u001b[0m in \u001b[0;36m<cell line: 0>\u001b[0;34m()\u001b[0m\n\u001b[1;32m     44\u001b[0m \u001b[0;31m# Fin de best solution\u001b[0m\u001b[0;34m\u001b[0m\u001b[0;34m\u001b[0m\u001b[0m\n\u001b[1;32m     45\u001b[0m \u001b[0mindice_max\u001b[0m \u001b[0;34m=\u001b[0m \u001b[0;36m0\u001b[0m\u001b[0;34m\u001b[0m\u001b[0;34m\u001b[0m\u001b[0m\n\u001b[0;32m---> 46\u001b[0;31m \u001b[0mmax\u001b[0m \u001b[0;34m=\u001b[0m \u001b[0merreurs\u001b[0m\u001b[0;34m[\u001b[0m\u001b[0;36m0\u001b[0m\u001b[0;34m]\u001b[0m\u001b[0;34m\u001b[0m\u001b[0;34m\u001b[0m\u001b[0m\n\u001b[0m\u001b[1;32m     47\u001b[0m \u001b[0;32mfor\u001b[0m \u001b[0mi\u001b[0m \u001b[0;32min\u001b[0m \u001b[0mrange\u001b[0m\u001b[0;34m(\u001b[0m\u001b[0;36m1\u001b[0m\u001b[0;34m,\u001b[0m\u001b[0mlen\u001b[0m\u001b[0;34m(\u001b[0m\u001b[0merreurs\u001b[0m\u001b[0;34m)\u001b[0m\u001b[0;34m)\u001b[0m \u001b[0;34m:\u001b[0m\u001b[0;34m\u001b[0m\u001b[0;34m\u001b[0m\u001b[0m\n\u001b[1;32m     48\u001b[0m   \u001b[0;32mif\u001b[0m \u001b[0merreurs\u001b[0m\u001b[0;34m[\u001b[0m\u001b[0mi\u001b[0m\u001b[0;34m]\u001b[0m\u001b[0;34m>\u001b[0m\u001b[0mmax\u001b[0m \u001b[0;34m:\u001b[0m\u001b[0;34m\u001b[0m\u001b[0;34m\u001b[0m\u001b[0m\n",
            "\u001b[0;31mIndexError\u001b[0m: list index out of range"
          ]
        }
      ]
    }
  ]
}