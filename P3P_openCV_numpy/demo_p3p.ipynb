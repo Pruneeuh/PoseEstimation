{
 "cells": [
  {
   "cell_type": "code",
   "execution_count": 1,
   "metadata": {},
   "outputs": [],
   "source": [
    "import numpy as np \n",
    "import matplotlib.pyplot as plt"
   ]
  },
  {
   "cell_type": "markdown",
   "metadata": {},
   "source": [
    "At first we have : \n",
    "- camera's parameters -> A (focal, etc) \n",
    "- rotation matrix  -> R \n",
    "- position matrix -> C \n",
    "- 3D points position ->  P1 P2 P3 (and P4 to determinate the best solution after P3P)"
   ]
  },
  {
   "cell_type": "code",
   "execution_count": 2,
   "metadata": {},
   "outputs": [
    {
     "name": "stdout",
     "output_type": "stream",
     "text": [
      "A = \n",
      " [[60  0  0]\n",
      " [ 0 40  0]\n",
      " [ 0  0  1]]\n",
      "R = \n",
      " [[ 1  0  0]\n",
      " [ 0 -1  0]\n",
      " [ 0  0 -1]]\n",
      "C = \n",
      " [[0 0 6]]\n"
     ]
    }
   ],
   "source": [
    "# This script defines the camera parameters, rotation matrix, and translation matrix.\n",
    "def camera() : \n",
    "  # Definition of the camera parameters\n",
    "  # focal length\n",
    "  fx = 60\n",
    "  fy = 40\n",
    "  # center\n",
    "  cx = 0\n",
    "  cy = 0\n",
    "\n",
    "  A = np.array([[fx, 0, cx], [0, fy, cy], [0, 0, 1]]) # intraseca matrix of the camera (3*3)\n",
    "  print(\"A = \\n\", A)\n",
    "  return A\n",
    "\n",
    "A = camera() \n",
    "\n",
    "\n",
    "def rotation_matrix() : \n",
    "  # Definition of the rotation matrix of the camera \n",
    "  R = np.array([[1, 0, 0],[0, -1, 0], [0, 0, -1]])\n",
    "  print(\"R = \\n\",R)\n",
    "  return R\n",
    "\n",
    "def camera_position() : \n",
    "  # Definition of the translation matrix of the camera (the position)\n",
    "  C = np.array([[0,0,6]])    # T = [tx,ty,tz]  (1*3)\n",
    "  #C = C.reshape((3,1))                       # (3*1)\n",
    "  print(\"C = \\n\",C)\n",
    "  return C\n",
    "\n",
    "R = rotation_matrix()\n",
    "C = camera_position()"
   ]
  },
  {
   "cell_type": "code",
   "execution_count": 3,
   "metadata": {},
   "outputs": [
    {
     "name": "stdout",
     "output_type": "stream",
     "text": [
      "P1 = \n",
      " [0.7161 0.5431 1.7807]\n",
      "P2 = \n",
      " [-1.1643  0.8371 -1.0551]\n",
      "P3 = \n",
      " [-1.5224  0.4292 -0.1994]\n",
      "P4 = \n",
      " [-1.5224  0.4292 -0.1994]\n"
     ]
    }
   ],
   "source": [
    "# Definition of 3D points in the world coordinate system\n",
    "def point3Daleatoire(x) :\n",
    "  # Generation of one random points in 3D space \n",
    "  return np.array([[np.random.uniform(-x,x),np.random.uniform(-x,x),np.random.uniform(-x,x)]])\n",
    "\n",
    "def pts_3D_4pts():\n",
    "  # Generate randomly 4 3D points\n",
    "  # Output : array which concatenate the 4 points = [ P1, P2, P3, P4 ] \n",
    "\n",
    "  P1 = point3Daleatoire(2)     # (1*3) -> pour P3P\n",
    "  P2 = point3Daleatoire(2)\n",
    "  P3 = point3Daleatoire(2)\n",
    "  P4 = point3Daleatoire(2)\n",
    "  \n",
    "  points3D = np.concatenate((P1,P2,P3,P4),axis=0);     # (LIGNES 4* COLONNES 3) - xyz\n",
    "  print(\"points3D = \\n\", points3D)\n",
    "  return points3D\n",
    "\n",
    "P1 = np.array([0.7161, 0.5431, 1.7807])\n",
    "P2 = np.array([-1.1643, 0.8371, -1.0551])\n",
    "P3 = np.array([-1.5224, 0.4292, -0.1994])\n",
    "P4 = np.array([-1.5224, 0.4292, -0.1994])\n",
    "\n",
    "print(\"P1 = \\n\", P1)\n",
    "print(\"P2 = \\n\", P2)\n",
    "print(\"P3 = \\n\", P3)\n",
    "print(\"P4 = \\n\", P4)"
   ]
  },
  {
   "cell_type": "markdown",
   "metadata": {},
   "source": [
    "We create the 3 direction features vectors f1, f2, f3"
   ]
  },
  {
   "cell_type": "code",
   "execution_count": 4,
   "metadata": {},
   "outputs": [
    {
     "name": "stdout",
     "output_type": "stream",
     "text": [
      "points3D = \n",
      " [array([0.7161, 0.5431, 1.7807]), array([-1.1643,  0.8371, -1.0551]), array([-1.5224,  0.4292, -0.1994])]\n",
      "features vectors = \n",
      " [[ 0.16599598  0.12589362 -0.97805733]\n",
      " [-0.16172274  0.11627424 -0.97996227]\n",
      " [-0.23794915  0.06708341 -0.96895821]]\n"
     ]
    }
   ],
   "source": [
    "def features_vectors(points3D,C) :\n",
    "    '''\n",
    "    This function computes the features vectors for P3P algorithm.\n",
    "    args:\n",
    "    points3D : array with the 4 3D points = [ P1, P2, P3, P4 ] (4*3) \n",
    "    but we only use the first three points for P3P\n",
    "    C: camera position matrix : (1*3)\n",
    "    returns:\n",
    "    featuresVect : array with the features vectors (3*3)\n",
    "    '''\n",
    "    P1 = points3D[0]\n",
    "    P2 = points3D[1]\n",
    "    P3 = points3D[2]\n",
    "\n",
    "    f1 = (P1 - C) / np.linalg.norm(P1 - C)\n",
    "    f2 = (P2 - C) / np.linalg.norm(P2 - C)\n",
    "    f3 = (P3 - C) / np.linalg.norm(P3 - C)\n",
    "    \n",
    "    featuresVect = np.concatenate((f1,f2,f3),axis=0)\n",
    "    print(\"features vectors = \\n\",featuresVect)\n",
    "\n",
    "    return featuresVect # Return the features vectors need in P3P\n",
    "\n",
    "\n",
    "points3D = [P1, P2, P3]  # We define the points3D with the first three points\n",
    "print(\"points3D = \\n\", points3D)  # Print the points3D to check the values\n",
    "#print(points3D[:3,:]) # we print the first three columns of points3D to check the shape\n",
    "featuresVect = features_vectors(points3D, C)  # call the function to get the features vectors OK"
   ]
  },
  {
   "cell_type": "markdown",
   "metadata": {},
   "source": [
    "Lastly we need the functions to resolve the polynomial roots. - for test go to test resolution polynome "
   ]
  },
  {
   "cell_type": "code",
   "execution_count": 5,
   "metadata": {},
   "outputs": [],
   "source": [
    "def sqrt_3(x) : # we define a function to compute the cubic root of a complex number\n",
    "  if np.real(x) >= 0 :\n",
    "    return x**(1/3)\n",
    "  else :\n",
    "    return -(-x)**(1/3)\n",
    "\n",
    "  \n",
    "def polynomial_root_calculation_3rd_degree(a,b,c,d): # cardan method\n",
    "  # Solving a polynomial of 3rd degree  \n",
    "  # Input : the 4th coefficiants of the polynomial \n",
    "  # Output : roots of the polynomial a*x^3 + b*x^2 + c*x + d = 0  -> array : [x1,x2,x3]\n",
    "\n",
    "  # Calculation of the discriminant\n",
    "  p = (3*a*c - b**2)/(3*a**2)\n",
    "  q = (2* b**3 - 9*a*b*c + 27* a**2 *d ) / (27 * a**3)\n",
    "\n",
    "  delta = - 4 * p**3 - 27* q**2 \n",
    "\n",
    "  roots = []\n",
    "\n",
    "  j_ = np.exp((2*1j*np.pi)/3)\n",
    "\n",
    "  for k in range(3):\n",
    "\n",
    "    u_k = j_**k * sqrt_3( 0.5 * (-q + np.sqrt(-delta/27,dtype=complex)) )\n",
    "    v_k = j_**(-k) * sqrt_3( 0.5 * (-q - np.sqrt(-delta/27,dtype=complex)))\n",
    "\n",
    "    roots.append((u_k + v_k)- b/(3*a))\n",
    "\n",
    "  return np.array(roots)\n",
    "\n",
    "\n",
    "def polynomial_root_calculation_4th_degree_ferrari(a): # Ferrari's Method\n",
    "    # Solving a polynomial of 4th degree\n",
    "\n",
    "    # Input : array 5*1 with the 5 coefficiants of the polynomial \n",
    "    # Output : roots of the polynomial a[4]*x^4 + a[3]*x^3 + a[2]*x^2 + a[1]*x + a[0]   -> array : [x1,x2,x3,x4]  (4*1)\n",
    "\n",
    "    if np.shape(a)[0] != 5 :\n",
    "      print(\"Expeted 5 coefficiants for a 4th order polynomial\")\n",
    "      return\n",
    "\n",
    "    a0 = a[0]\n",
    "    a1 = a[1]\n",
    "    a2 = a[2]\n",
    "    a3 = a[3]\n",
    "    a4 = a[4]\n",
    "\n",
    "    # Reduce the quartic equation to the form : x^4 + a*x^3 + b*x^2 + c*x + d = 0\n",
    "    a = a3/a4\n",
    "    b = a2/a4\n",
    "    c = a1/a4\n",
    "    d = a0/a4\n",
    "\n",
    "    # Computation of the coefficients of the Ferrari's Method\n",
    "    S = a/4\n",
    "    b0 = d - c*S + b* S**2 - 3* S**4\n",
    "    b1 = c - 2*b*S + 8*S**3\n",
    "    b2 = b - 6 * S**2\n",
    "\n",
    "\n",
    "    # Solve the cubic equation m^3 + b2*m^2 + (b2^2/4  - b0)*m - b1^2/8 = 0\n",
    "    x_cube = polynomial_root_calculation_3rd_degree(1,b2,(b2**2)/4-b0,(-b1**2)/8)\n",
    "\n",
    "    # Find a real and positive solution\n",
    "    alpha_0 = 0\n",
    "    for r in x_cube :\n",
    "      if np.isclose(np.imag(r),0) and np.real(r) > 0 :\n",
    "        alpha_0 = r\n",
    "\n",
    "    if alpha_0 !=0 :\n",
    "      x1 = np.sqrt(alpha_0/2) - S  + np.sqrt( -alpha_0/2 - b2/2 - b1/(2*np.sqrt(2*alpha_0)),dtype = complex)\n",
    "      x2 = np.sqrt(alpha_0/2) - S - np.sqrt( -alpha_0/2 - b2/2 - b1/(2*np.sqrt(2*alpha_0,)),dtype = complex)\n",
    "      x3 = - np.sqrt(alpha_0/2) - S + np.sqrt( -alpha_0/2 - b2/2 + b1/(2*np.sqrt(2*alpha_0)),dtype = complex)\n",
    "      x4 = - np.sqrt(alpha_0/2) - S - np.sqrt( -alpha_0/2 - b2/2 + b1/(2*np.sqrt(2*alpha_0)),dtype = complex)\n",
    "\n",
    "    else :\n",
    "      x1 = - S + np.sqrt(-b2/2 + np.sqrt((b2**2)/4 - b0),dtype = complex)\n",
    "      x2 = - S - np.sqrt(-b2/2 + np.sqrt((b2**2)/4 - b0),dtype = complex)\n",
    "      x3 = - S + np.sqrt(-b2/2 - np.sqrt((b2**2)/4 - b0),dtype = complex)\n",
    "      x4 = - S - np.sqrt(-b2/2 - np.sqrt((b2**2)/4 - b0),dtype = complex)\n",
    "    return np.array([x1,x2,x3,x4])"
   ]
  },
  {
   "cell_type": "markdown",
   "metadata": {},
   "source": [
    "We have all the variables needed for the p3p so we start"
   ]
  },
  {
   "cell_type": "markdown",
   "metadata": {},
   "source": [
    "1. Storage of points : already done "
   ]
  },
  {
   "cell_type": "code",
   "execution_count": 6,
   "metadata": {},
   "outputs": [
    {
     "name": "stdout",
     "output_type": "stream",
     "text": [
      "[0.7161 0.5431 1.7807] [-1.1643  0.8371 -1.0551] [-1.5224  0.4292 -0.1994]\n"
     ]
    }
   ],
   "source": [
    "print(P1, P2, P3)"
   ]
  },
  {
   "cell_type": "markdown",
   "metadata": {},
   "source": [
    "2. Storage of the features vectors : done"
   ]
  },
  {
   "cell_type": "code",
   "execution_count": 7,
   "metadata": {},
   "outputs": [
    {
     "name": "stdout",
     "output_type": "stream",
     "text": [
      "f1 =  [ 0.16599598  0.12589362 -0.97805733]\n",
      "f2 =  [-0.16172274  0.11627424 -0.97996227]\n",
      "f3 =  [-0.23794915  0.06708341 -0.96895821]\n"
     ]
    }
   ],
   "source": [
    "# we got featuresVect and we access the 3 values \n",
    "f1 = featuresVect[0]\n",
    "f2 = featuresVect[1]\n",
    "f3 = featuresVect[2]\n",
    "\n",
    "print(\"f1 = \", f1)\n",
    "print(\"f2 = \", f2)\n",
    "print(\"f3 = \", f3)"
   ]
  },
  {
   "cell_type": "markdown",
   "metadata": {},
   "source": [
    "3. Création of a solution variable : maximum 4 solutions  \n",
    "\n",
    "    Matrix (4,3,4)  \n",
    "    Each layer is a solution, for each leayer : first column stres the camera position matrix C (3,1) and the remaining 3 columns store the rotation matrix R (3,3)"
   ]
  },
  {
   "cell_type": "code",
   "execution_count": 8,
   "metadata": {},
   "outputs": [
    {
     "name": "stdout",
     "output_type": "stream",
     "text": [
      "solutions = \n",
      " [[[0. 0. 0. 0.]\n",
      "  [0. 0. 0. 0.]\n",
      "  [0. 0. 0. 0.]]\n",
      "\n",
      " [[0. 0. 0. 0.]\n",
      "  [0. 0. 0. 0.]\n",
      "  [0. 0. 0. 0.]]\n",
      "\n",
      " [[0. 0. 0. 0.]\n",
      "  [0. 0. 0. 0.]\n",
      "  [0. 0. 0. 0.]]\n",
      "\n",
      " [[0. 0. 0. 0.]\n",
      "  [0. 0. 0. 0.]\n",
      "  [0. 0. 0. 0.]]]\n"
     ]
    }
   ],
   "source": [
    "solutions = np.zeros((4,3,4))\n",
    "print(\"solutions = \\n\", solutions)"
   ]
  },
  {
   "cell_type": "markdown",
   "metadata": {},
   "source": [
    "4. Verification that the 3 points given are not collinear "
   ]
  },
  {
   "cell_type": "code",
   "execution_count": 9,
   "metadata": {},
   "outputs": [
    {
     "name": "stdout",
     "output_type": "stream",
     "text": [
      "The points are not collinear : P3P can be correctly applied \n"
     ]
    }
   ],
   "source": [
    "# Test of non-collinearity\n",
    "v1 = P2 - P1\n",
    "v2 = P3 - P1\n",
    "if np.linalg.norm(np.cross(v1,v2))==0 :\n",
    "    print('Problem: the points must not be collinear')\n",
    "else:\n",
    "    print('The points are not collinear : P3P can be correctly applied ')"
   ]
  },
  {
   "cell_type": "markdown",
   "metadata": {},
   "source": [
    "5. Creation of an orthonormal frame from f1, f2, f3 (the features vectors)"
   ]
  },
  {
   "cell_type": "code",
   "execution_count": 10,
   "metadata": {},
   "outputs": [
    {
     "name": "stdout",
     "output_type": "stream",
     "text": [
      "tx =  [ 0.16599598  0.12589362 -0.97805733]\n",
      "tz =  [-0.02983063  0.99200453  0.12262602]\n",
      "ty =  [-0.98567513 -0.00882064 -0.16842425]\n"
     ]
    }
   ],
   "source": [
    "# Calculation of vectors of the base τ = (C,tx,ty,tz)\n",
    "tx = f1     \n",
    "print(\"tx = \", tx)\n",
    "tz = np.cross(f1,f2)/np.linalg.norm(np.cross(f1,f2))\n",
    "print(\"tz = \", tz)\n",
    "ty = np.cross(tz,tx)\n",
    "print(\"ty = \", ty)"
   ]
  },
  {
   "cell_type": "markdown",
   "metadata": {},
   "source": [
    "Display for the verification of non-collinearity of the 3 vectors "
   ]
  },
  {
   "cell_type": "code",
   "execution_count": 11,
   "metadata": {},
   "outputs": [
    {
     "name": "stdout",
     "output_type": "stream",
     "text": [
      "tx = [ 0.16599598  0.12589362 -0.97805733]\n",
      "ty = [-0.98567513 -0.00882064 -0.16842425]\n",
      "tz = [-0.02983063  0.99200453  0.12262602]\n",
      "\n",
      "Orthogonality verification :\n",
      "tx · ty = 0.0\n",
      "tx · tz = -2.7755575615628914e-17\n",
      "ty · tz = -3.469446951953614e-18\n"
     ]
    },
    {
     "data": {
      "image/png": "[encoded data removed]",
      "text/plain": [
       "<Figure size 640x480 with 1 Axes>"
      ]
     },
     "metadata": {},
     "output_type": "display_data"
    }
   ],
   "source": [
    "print(\"tx =\", tx)\n",
    "print(\"ty =\", ty)\n",
    "print(\"tz =\", tz)\n",
    "\n",
    "print(\"\\nOrthogonality verification :\")\n",
    "print(\"tx · ty =\", np.dot(tx, ty))\n",
    "print(\"tx · tz =\", np.dot(tx, tz))\n",
    "print(\"ty · tz =\", np.dot(ty, tz))\n",
    "\n",
    "fig = plt.figure()\n",
    "ax = fig.add_subplot(111, projection='3d')\n",
    "\n",
    "origin = np.zeros(3)\n",
    "\n",
    "ax.quiver(*origin, *tx, color='r', label='tx')\n",
    "ax.quiver(*origin, *ty, color='g', label='ty')\n",
    "ax.quiver(*origin, *tz, color='b', label='tz')\n",
    "\n",
    "ax.set_xlim([-1, 1])\n",
    "ax.set_ylim([-1, 1])\n",
    "ax.set_zlim([-1, 1])\n",
    "\n",
    "ax.set_xlabel('X')\n",
    "ax.set_ylabel('Y')\n",
    "ax.set_zlabel('Z')\n",
    "ax.set_title('Frame τ (tx, ty, tz)')\n",
    "ax.legend()\n",
    "plt.show()\n"
   ]
  },
  {
   "cell_type": "markdown",
   "metadata": {},
   "source": [
    "5. (bis) Creation of a transformation matrix T and expression of the f3 vector in this frame"
   ]
  },
  {
   "cell_type": "code",
   "execution_count": 12,
   "metadata": {},
   "outputs": [
    {
     "name": "stdout",
     "output_type": "stream",
     "text": [
      "tx = \n",
      " [[ 0.16599598  0.12589362 -0.97805733]]\n",
      "ty = \n",
      " [[-0.98567513 -0.00882064 -0.16842425]]\n",
      "tz = \n",
      " [[-0.02983063  0.99200453  0.12262602]]\n",
      "f3_T = \n",
      " [ 0.91664345  0.39714491 -0.04517427]\n",
      "T = \n",
      " [[ 0.16599598  0.12589362 -0.97805733]\n",
      " [-0.98567513 -0.00882064 -0.16842425]\n",
      " [-0.02983063  0.99200453  0.12262602]]\n"
     ]
    }
   ],
   "source": [
    "tx = np.reshape(tx,(1,3))   # (1*3)\n",
    "ty = np.reshape(ty,(1,3))\n",
    "tz = np.reshape(tz,(1,3))\n",
    "\n",
    "# Computation of the matrix T and the feature vector f3\n",
    "T = np.concatenate((tx,ty,tz),axis = 0) # (3*3)\n",
    "f3_T = np.dot(T,f3) # (3,)\n",
    "\n",
    "print(\"tx = \\n\", tx)\n",
    "print(\"ty = \\n\", ty)\n",
    "print(\"tz = \\n\", tz)\n",
    "print(\"f3_T = \\n\", f3_T)\n",
    "print(\"T = \\n\", T)"
   ]
  },
  {
   "cell_type": "markdown",
   "metadata": {},
   "source": [
    "The condition that the z-coordinate in f3_T must be negative has to be satisfied; otherwise, the order of the vectors is reversed in order to change the sign of theta."
   ]
  },
  {
   "cell_type": "code",
   "execution_count": 13,
   "metadata": {},
   "outputs": [],
   "source": [
    "# Having teta in [ 0, pi ] \n",
    "if f3_T[2] > 0 :\n",
    "    f1 = featuresVect[1]\n",
    "    print(\"f1 = \", f1)\n",
    "    f2 = featuresVect[0]\n",
    "    print(\"f2 = \", f2)\n",
    "    f3 = featuresVect[2]\n",
    "    print(\"f3 = \", f3)\n",
    "\n",
    "\n",
    "    # Re calculation of vectors of the base τ = (C,tx,ty,tz) to ensure orthogonality\n",
    "    tx = f1         # (3,)\n",
    "    tz = np.cross(f1,f2)/np.linalg.norm(np.cross(f1,f2))\n",
    "    ty = np.cross(tz,tx)\n",
    "\n",
    "    tx = np.reshape(tx,(1,3))   # (1*3)\n",
    "    print(\"tx = \\n\", tx)\n",
    "    ty = np.reshape(ty,(1,3))\n",
    "    print(\"ty = \\n\", ty)\n",
    "    tz = np.reshape(tz,(1,3))\n",
    "    print(\"tz = \\n\", tz)\n",
    "\n",
    "    # Computation of the matrix T and the feature vector f3\n",
    "    T = np.concatenate((tx,ty,tz),axis = 0) # (3*3)\n",
    "    print(\"T = \\n\", T) \n",
    "    f3_T= np.dot(T,f3) # (3,)"
   ]
  },
  {
   "cell_type": "markdown",
   "metadata": {},
   "source": [
    "6. Change of frame is performed on the 3D points side, and the transformation matrix N is defined"
   ]
  },
  {
   "cell_type": "code",
   "execution_count": 14,
   "metadata": {},
   "outputs": [
    {
     "name": "stdout",
     "output_type": "stream",
     "text": [
      "nx =  [-0.55058527  0.08608385 -0.83032851]\n",
      "ny =  [-0.77466775 -0.42330379  0.46979121]\n",
      "nz =  [-0.31103977  0.90188884  0.29975122]\n",
      "nx = \n",
      " [[-0.55058527  0.08608385 -0.83032851]]\n",
      "ny = \n",
      " [[-0.77466775 -0.42330379  0.46979121]]\n",
      "nz = \n",
      " [[-0.31103977  0.90188884  0.29975122]]\n",
      "N = \n",
      " [[-0.55058527  0.08608385 -0.83032851]\n",
      " [-0.77466775 -0.42330379  0.46979121]\n",
      " [-0.31103977  0.90188884  0.29975122]]\n",
      "P3_n = \n",
      " [2.86681366e+00 8.52074476e-01 1.22990009e-16]\n"
     ]
    }
   ],
   "source": [
    "# Calculation of vectors of the base η = (P1,nx,ny,nz)\n",
    "nx = (P2 - P1)/np.linalg.norm(P2 - P1)      #(3,)\n",
    "nz = np.cross(nx,P3-P1)/np.linalg.norm(np.cross(nx,P3-P1))  \n",
    "ny = np.cross(nz,nx)\n",
    "print(\"nx = \", nx)\n",
    "print(\"ny = \", ny)\n",
    "print(\"nz = \", nz)\n",
    "\n",
    "# Reshape the vectors to (1,3) for concatenation\n",
    "nx = np.reshape(nx,(1,3))  # (1,3)\n",
    "ny = np.reshape(ny,(1,3))\n",
    "nz = np.reshape(nz,(1,3))\n",
    "print(\"nx = \\n\", nx)\n",
    "print(\"ny = \\n\", ny)\n",
    "print(\"nz = \\n\", nz)\n",
    "\n",
    "# Computation of the matrix N and the world point P3\n",
    "N = np.concatenate((nx,ny,nz),axis = 0) # (3*3) T's equivalent in the world coordinate system\n",
    "P3_N = np.dot(N,P3-P1) # (3,)\n",
    "\n",
    "print(\"N = \\n\", N)\n",
    "print(\"P3_n = \\n\", P3_N)"
   ]
  },
  {
   "cell_type": "markdown",
   "metadata": {},
   "source": [
    "7. Definition of the variables for the following steps "
   ]
  },
  {
   "cell_type": "code",
   "execution_count": 15,
   "metadata": {},
   "outputs": [
    {
     "name": "stdout",
     "output_type": "stream",
     "text": [
      "phi1 =  -20.29127378614751\n",
      "phi2 =  -8.791396593921803\n",
      "p1 =  2.8668136593135083\n",
      "p2 =  0.8520744760720703\n",
      "d12 =  3.4152747766468217\n",
      "cosBeta =  0.9462521400867492\n",
      "b =  2.9256794072780483\n"
     ]
    }
   ],
   "source": [
    "# Computation of phi1 et phi2 with f3_T = [f3,x ; f3,y ; f3,z] \n",
    "phi1 = f3_T[0]/f3_T[2]\n",
    "phi2 = f3_T[1]/f3_T[2]\n",
    "print(\"phi1 = \", phi1)\n",
    "print(\"phi2 = \", phi2)\n",
    "\n",
    "# Extraction of p1 and p2 from P3_T\n",
    "p1 = P3_N[0] #x\n",
    "p2 = P3_N[1] #y\n",
    "print(\"p1 = \", p1)\n",
    "print(\"p2 = \", p2)\n",
    "\n",
    "# Computation of d12\n",
    "d12 = np.linalg.norm(P2-P1)\n",
    "print(\"d12 = \", d12)\n",
    "\n",
    "# Computation of b = cot(beta)\n",
    "cosBeta = np.dot(f1,f2)/(np.linalg.norm(f1)*np.linalg.norm(f2)) \n",
    "print(\"cosBeta = \", cosBeta)  \n",
    "b = np.sqrt(1/(1-cosBeta**2)-1)\n",
    "\n",
    "if cosBeta < 0 :\n",
    "    b = -b\n",
    "print(\"b = \", b)"
   ]
  },
  {
   "cell_type": "markdown",
   "metadata": {},
   "source": [
    "8. Calculation of the coefficients of the polynomial "
   ]
  },
  {
   "cell_type": "code",
   "execution_count": 16,
   "metadata": {},
   "outputs": [
    {
     "name": "stdout",
     "output_type": "stream",
     "text": [
      "a4 =  -258.3021202517885\n",
      "a3 =  214.06407775251841\n",
      "a2 =  -468.54012904994937\n",
      "a1 =  -228.47483485047505\n",
      "a0 =  653.6390577906441\n"
     ]
    }
   ],
   "source": [
    "a4 = - phi2**2 * p2**4 - phi1**2 * p2**4 - p2**4\n",
    "a3 = 2 * p2**3 * d12 * b + 2 * phi2**2 * p2**3 * d12 * b - 2 * phi1 * phi2 * p2**3 * d12\n",
    "a2 = - phi2**2 * p1**2 * p2**2 - phi2**2 * p2**2 * d12**2 * b**2 - phi2**2 * p2**2 * d12**2 + phi2**2 * p2**4 + phi1**2 * p2 **4 + 2 * p1 * p2**2 * d12 + 2 * phi1 * phi2 * p1 * p2**2 * d12 * b - phi1**2 * p1**2 * p2**2 + 2 * phi2**2 * p1 * p2**2 * d12 - p2**2 * d12**2 * b**2 - 2 * p1**2 * p2**2\n",
    "a1 = 2 * p1**2 * p2 * d12 * b + 2 * phi1 * phi2 * p2**3 * d12 - 2 * phi2**2 * p2**3 * d12 * b - 2 * p1 * p2 * d12**2 * b\n",
    "a0 = - 2 * phi1 * phi2 * p1 * p2**2 * d12 * b + phi2**2 * p2**2 * d12**2 + 2 * p1**3 * d12 - p1**2 * d12**2 + phi2**2 * p1**2 * p2**2 - p1**4 - 2 * phi2**2 * p1 * p2**2 * d12 + phi1**2 * p1**2 * p2**2 + phi2**2 * p2**2 * d12**2 * b**2\n",
    "\n",
    "print(\"a4 = \", a4)\n",
    "print(\"a3 = \", a3)\n",
    "print(\"a2 = \", a2)\n",
    "print(\"a1 = \", a1)\n",
    "print(\"a0 = \", a0)\n"
   ]
  },
  {
   "cell_type": "markdown",
   "metadata": {},
   "source": [
    "9. Recovery of the polynomial roots cos (teta)"
   ]
  },
  {
   "cell_type": "code",
   "execution_count": 17,
   "metadata": {},
   "outputs": [
    {
     "name": "stdout",
     "output_type": "stream",
     "text": [
      "roots = \n",
      " [ 0.4313253 +1.60436442j  0.4313253 -1.60436442j  0.94071362+0.j\n",
      " -0.97462895-0.j        ]\n"
     ]
    }
   ],
   "source": [
    "# Computation of the roots\n",
    "roots = polynomial_root_calculation_4th_degree_ferrari(np.array([a0,a1,a2,a3,a4])) # (4,)\n",
    "\n",
    "print(\"roots = \\n\", roots)"
   ]
  },
  {
   "cell_type": "markdown",
   "metadata": {},
   "source": [
    "10. For each solution : computation of the camera position and rotation matrix"
   ]
  },
  {
   "cell_type": "code",
   "execution_count": null,
   "metadata": {},
   "outputs": [
    {
     "name": "stdout",
     "output_type": "stream",
     "text": [
      "C= [[0 0 6]]\n",
      "Q= [[np.float64(0.90697102272521), np.float64(-0.18167120729682484), np.float64(-0.37999886365106494)], [np.float64(0.4211930245585586), np.float64(0.3911995476525675), np.float64(0.8182660630746212)], [0, np.float64(-0.9021964787981278), np.float64(0.4313252991006432)]]\n",
      "C [0.98322484 0.75167905 2.83875073]\n",
      "C new axis [[0 0 6]]\n",
      "R [[ 1  0  0]\n",
      " [ 0 -1  0]\n",
      " [ 0  0 -1]]\n",
      "C= [[0 0 6]]\n",
      "Q= [[np.float64(0.90697102272521), np.float64(-0.18167120729682484), np.float64(-0.37999886365106494)], [np.float64(0.4211930245585586), np.float64(0.3911995476525675), np.float64(0.8182660630746212)], [0, np.float64(-0.9021964787981278), np.float64(0.4313252991006432)]]\n",
      "C [0.98322484 0.75167905 2.83875073]\n",
      "C new axis [[0 0 6]]\n",
      "R [[ 1  0  0]\n",
      " [ 0 -1  0]\n",
      " [ 0  0 -1]]\n",
      "C= [[0 0 6]]\n",
      "Q= [[np.float64(0.7315513400141576), np.float64(-0.6413657144495065), np.float64(-0.23126317746706782)], [np.float64(0.6817863572435946), np.float64(0.6881803117058223), np.float64(0.24814355050451525)], [0, np.float64(-0.33920182621730005), np.float64(0.9407136233152195)]]\n",
      "C [1.02140518e-14 2.03170814e-14 6.00000000e+00]\n",
      "C new axis [[0 0 6]]\n",
      "R [[ 1  0  0]\n",
      " [ 0 -1  0]\n",
      " [ 0  0 -1]]\n",
      "C= [[0 0 6]]\n",
      "Q= [[np.float64(-0.9509358068032775), np.float64(0.3015387485587808), np.float64(-0.06924936430758162)], [np.float64(0.3093882533959552), np.float64(0.9268095669301956), np.float64(-0.21284486206451794)], [0, np.float64(-0.22382674050315754), np.float64(-0.974628950029565)]]\n",
      "C [-1.25864955  2.26707244 -3.99101139]\n",
      "C new axis [[0 0 6]]\n",
      "R [[ 1  0  0]\n",
      " [ 0 -1  0]\n",
      " [ 0  0 -1]]\n"
     ]
    }
   ],
   "source": [
    "# For each solution of the polynomial\n",
    "for i in range(4):\n",
    "  #if np.isclose(np.imag(roots[i]),0) : # if real solution \n",
    "\n",
    "    # Computation of trigonometrics forms\n",
    "    cos_teta = np.real(roots[i])\n",
    "    sin_teta = np.sqrt(1-cos_teta**2)\n",
    "\n",
    "    cot_alpha = ((phi1/phi2)*p1 + cos_teta*p2 -d12*b )/ ((phi1/phi2)*cos_teta* p2 - p1 + d12)\n",
    "\n",
    "    sin_alpha = np.sqrt(1/(cot_alpha**2+1))\n",
    "    cos_alpha= np.sqrt(1-sin_alpha**2)\n",
    "\n",
    "    if cot_alpha < 0 :\n",
    "      cos_alpha = -cos_alpha\n",
    "\n",
    "    # Computation of the intermediate rotation's matrixs\n",
    "    C_estime = [d12*cos_alpha*(sin_alpha*b + cos_alpha), d12*sin_alpha*cos_teta*(sin_alpha*b+cos_alpha), d12*sin_alpha*sin_teta*(sin_alpha*b+cos_alpha)]     # (3,)\n",
    "    Q = [[-cos_alpha, -sin_alpha*cos_teta, -sin_alpha*sin_teta], [sin_alpha, -cos_alpha*cos_teta, -cos_alpha*sin_teta], [0, -sin_teta, cos_teta]]      # (3*3)\n",
    "    \n",
    "    # Computation of the absolute camera center\n",
    "    C_estime = P1 + np.transpose(N) @ C_estime  # (3,)\n",
    "    C_estime= C_estime[:,np.newaxis]   # (3,1)\n",
    "    \n",
    "    # Computation of the orientation matrix\n",
    "    R_estime = np.transpose(N) @ np.transpose(Q) @ T   # (3*3)\n",
    "    \n",
    "    # Adding C and R to the solutions\n",
    "    solutions[i,:,:1]= C_estime\n",
    "    solutions[i,:,1:] = R_estime\n",
    "\n",
    "\n"
   ]
  },
  {
   "cell_type": "code",
   "execution_count": 19,
   "metadata": {},
   "outputs": [
    {
     "name": "stdout",
     "output_type": "stream",
     "text": [
      "solutions = \n",
      " [[[ 9.83224841e-01  7.21398703e-01  5.36922132e-01  4.37376880e-01]\n",
      "  [ 7.51679051e-01 -6.54088592e-01  7.35743066e-01  1.75642405e-01]\n",
      "  [ 2.83875073e+00 -2.27490712e-01 -4.12791431e-01  8.81958735e-01]]\n",
      "\n",
      " [[ 9.83224841e-01  7.21398703e-01  5.36922132e-01  4.37376880e-01]\n",
      "  [ 7.51679051e-01 -6.54088592e-01  7.35743066e-01  1.75642405e-01]\n",
      "  [ 2.83875073e+00 -2.27490712e-01 -4.12791431e-01  8.81958735e-01]]\n",
      "\n",
      " [[ 1.02140518e-14  1.00000000e+00  5.08993741e-15  2.38264186e-15]\n",
      "  [ 2.03170814e-14 -5.06323217e-15  1.00000000e+00  3.61729435e-15]\n",
      "  [ 6.00000000e+00 -2.37109070e-15 -3.65269861e-15  1.00000000e+00]]\n",
      "\n",
      " [[-1.25864955e+00  8.47829541e-01  5.19199262e-01 -1.07783094e-01]\n",
      "  [ 2.26707244e+00  5.27913852e-01 -8.07308662e-01  2.63741710e-01]\n",
      "  [-3.99101139e+00  4.99202756e-02 -2.80508201e-01 -9.58552615e-01]]]\n"
     ]
    }
   ],
   "source": [
    "print(\"solutions = \\n\", solutions)"
   ]
  },
  {
   "cell_type": "markdown",
   "metadata": {},
   "source": [
    "11. Reprojection of points in 2D from the newly estimated matrices to verify the estimation error."
   ]
  },
  {
   "cell_type": "code",
   "execution_count": 20,
   "metadata": {},
   "outputs": [
    {
     "name": "stdout",
     "output_type": "stream",
     "text": [
      "pt3D [array([0.7161, 0.5431, 1.7807]), array([-1.1643,  0.8371, -1.0551]), array([-1.5224,  0.4292, -0.1994])]\n",
      "pt3D[0] [0.7161 0.5431 1.7807] <class 'numpy.ndarray'>\n",
      "C [[0 0 6]]\n",
      "R [[ 1  0  0]\n",
      " [ 0 -1  0]\n",
      " [ 0  0 -1]]\n",
      "A [[60  0  0]\n",
      " [ 0 40  0]\n",
      " [ 0  0  1]]\n",
      "p1 =  [[10.18320575]\n",
      " [-5.14872135]]\n",
      "p2 =  [[-9.90177319]\n",
      " [-4.74607022]]\n",
      "p3 =  [[-14.73432913]\n",
      " [ -2.76930025]]\n",
      "p4 =  [[-14.73432913]\n",
      " [ -2.76930025]]\n"
     ]
    }
   ],
   "source": [
    "def projection3D2D(point3D,C,R,A) :\n",
    "  # 3D point = [ Xw, Yw, Zw ]'   (1*3)\n",
    "  # C : camera position matrix : (3*1)\n",
    "  # R : camera rotation matrix : (3*3)\n",
    "  # A : intraseca matrix of the camera : (3*3)\n",
    "  # Output : return the coordonates of the point in 2D \n",
    "\n",
    "  PI = np.concatenate((np.eye(3),np.zeros((3,1))),axis=1)  # (3*4)\n",
    "  \n",
    "  Rt = np.concatenate((R,C),axis=1)               # (3*4)\n",
    "  Rt = np.concatenate((Rt,np.array([[0,0,0,1]])),axis=0)   # (4*4)\n",
    "\n",
    "  point3D_bis = np.concatenate((np.reshape(point3D,(3,1)),np.array([[1]])),axis=0)   #(4*1)\n",
    " \n",
    "  point2D = A @ PI @ Rt @ point3D_bis   # 2D point = [u, v, w] (3*1)\n",
    "  point2D = point2D / point2D[2]        # 2D point = [u, v, 1] (3*1)\n",
    "  return point2D[:2]\n",
    "\n",
    "print(\"pt3D\",points3D)\n",
    "# Example usage of the projection function\n",
    "print(\"pt3D[0]\",points3D[0],type(points3D[0]))\n",
    "print(\"C\",C)\n",
    "print(\"R\",R)\n",
    "print(\"A\",A)\n",
    "C_transpose = np.reshape(C,(3,1))\n",
    "\n",
    "p1 = projection3D2D(points3D[0],C_transpose,R,A)\n",
    "print(\"p1 = \", p1)\n",
    "p2 = projection3D2D(points3D[1],C_transpose,R,A)\n",
    "print(\"p2 = \", p2)\n",
    "p3 = projection3D2D(points3D[2],C_transpose,R,A)\n",
    "print(\"p3 = \", p3)\n",
    "p4 = projection3D2D(P4,C_transpose,R,A)\n",
    "print(\"p4 = \", p4)\n",
    "\n",
    "# Concatenation of the 4 3D points to compute the error\n",
    "new_points3D = np.concatenate((points3D, P4.reshape(1, 3)), axis=0)\n",
    "\n"
   ]
  },
  {
   "cell_type": "markdown",
   "metadata": {},
   "source": [
    "12. Calculation of errors = distance between the 2D points estimated from the found rotation and position matrices and the 2D points from the initial matrices"
   ]
  },
  {
   "cell_type": "code",
   "execution_count": 21,
   "metadata": {},
   "outputs": [],
   "source": [
    "def distance(pt, pt_estimation):\n",
    "    # Euclidean distance between 2 points  \n",
    "    erreur = 0\n",
    "    print(pt.shape)\n",
    "    for i in range(len(pt)):\n",
    "      erreur += (pt[i] - pt_estimation[i])**2\n",
    "    return np.sqrt(erreur)\n",
    "\n",
    "\n",
    "\n",
    "def affichage_erreur(solutions,points2D,points3D,A) : \n",
    "   print(\"pt 2D\",points2D)\n",
    "   # Compute the error of estimation for each points after the P3P algorithm \n",
    "\n",
    "   # solutions : solution matrix returned by P3P (4*3*4)\n",
    "   # points 3D : 4 pts 3D used for P3P \n",
    "   # points 2D : 4 pts 2D used for P3P (image of the 3D points)\n",
    "   \n",
    "   P1 = points3D[0]\n",
    "   P2 = points3D[1]\n",
    "   P3 = points3D[2]\n",
    "   P4 = points3D[3]\n",
    "\n",
    "   erreurs = []\n",
    "   nb_sol = 0\n",
    "\n",
    "   for i in range(len(solutions)) : \n",
    "      R = solutions[i,:,1:]   # Rotation matrix (3*3)\n",
    "      C = solutions[i,:,:1]   # Position matrix (3*1)\n",
    "\n",
    "      if not np.all(R==np.zeros((3,3))) : \n",
    "        nb_sol += 1 \n",
    "        print(\"------------ Solution n° : \",nb_sol,\"----------------\")\n",
    "        print(\"R = \\n\",R,)\n",
    "        print(\"C = \\n\",C,)\n",
    "\n",
    "        p1_P3P = np.reshape(projection3D2D(P1,C,R,A),(1,2))\n",
    "        p2_P3P = np.reshape(projection3D2D(P2,C,R,A),(1,2))\n",
    "        p3_P3P = np.reshape(projection3D2D(P3,C,R,A),(1,2))\n",
    "        p4_P3P = np.reshape(projection3D2D(P4,C,R,A),(1,2))\n",
    "        pt_2D_P3P = np.concatenate((p1_P3P,p2_P3P,p3_P3P,p4_P3P),axis=0)    # (4,2)\n",
    "\n",
    "        erreurs.append([0])\n",
    "        for j in range(len(points2D)):\n",
    "            erreur_pt = distance(points2D[j],pt_2D_P3P[j])\n",
    "            print(\"erreur_pt\",j,\" = \",erreur_pt)\n",
    "            erreurs[i]+=erreur_pt\n",
    "\n",
    "   # Find the best solution (with the smallest estimation error)     \n",
    "   indice_min = 0\n",
    "   min = erreurs[0]\n",
    "   for i in range(1,len(erreurs)) :\n",
    "    if erreurs[i]<min :\n",
    "      min = erreurs[i]\n",
    "      indice_min = i\n",
    "\n",
    "   R_opti = solutions[indice_min,:,1:] \n",
    "   C_opti = solutions[indice_min,:,:1]\n",
    "   \n",
    "   print(\"\\n------------ Best solution : ----------------\")\n",
    "   print(\"Solution n° :\",indice_min+1,\"\\n\")\n",
    "   print(\"R estimé = \\n\", R_opti,\"\\n\")\n",
    "   print(\"C estimé = \\n\", C_opti, \"\\n\")\n",
    "\n",
    "   dist_R = np.linalg.norm(R_opti-R)\n",
    "   dist_C = np.linalg.norm(C_opti-C)\n",
    "   print(\"distance_R\",dist_R)\n",
    "   print(\"distance_c\",dist_C)\n",
    "\n",
    "   "
   ]
  },
  {
   "cell_type": "code",
   "execution_count": 22,
   "metadata": {},
   "outputs": [
    {
     "name": "stdout",
     "output_type": "stream",
     "text": [
      "<class 'numpy.ndarray'>\n",
      "[[10.18320575]\n",
      " [-5.14872135]]\n",
      "p&fve [array([[10.18320575],\n",
      "       [-5.14872135]]), array([[-9.90177319],\n",
      "       [-4.74607022]]), array([[-14.73432913],\n",
      "       [ -2.76930025]]), array([[-14.73432913],\n",
      "       [ -2.76930025]])]\n",
      "pt 2D [array([[10.18320575],\n",
      "       [-5.14872135]]), array([[-9.90177319],\n",
      "       [-4.74607022]]), array([[-14.73432913],\n",
      "       [ -2.76930025]]), array([[-14.73432913],\n",
      "       [ -2.76930025]])]\n",
      "------------ Solution n° :  1 ----------------\n",
      "R = \n",
      " [[ 0.7213987   0.53692213  0.43737688]\n",
      " [-0.65408859  0.73574307  0.17564241]\n",
      " [-0.22749071 -0.41279143  0.88195873]]\n",
      "C = \n",
      " [[0.98322484]\n",
      " [0.75167905]\n",
      " [2.83875073]]\n",
      "(2, 1)\n",
      "erreur_pt 0  =  [31.92796732]\n",
      "(2, 1)\n",
      "erreur_pt 1  =  [49.38068066]\n",
      "(2, 1)\n",
      "erreur_pt 2  =  [34.95752733]\n",
      "(2, 1)\n",
      "erreur_pt 3  =  [34.95752733]\n",
      "------------ Solution n° :  2 ----------------\n",
      "R = \n",
      " [[ 0.7213987   0.53692213  0.43737688]\n",
      " [-0.65408859  0.73574307  0.17564241]\n",
      " [-0.22749071 -0.41279143  0.88195873]]\n",
      "C = \n",
      " [[0.98322484]\n",
      " [0.75167905]\n",
      " [2.83875073]]\n",
      "(2, 1)\n",
      "erreur_pt 0  =  [31.92796732]\n",
      "(2, 1)\n",
      "erreur_pt 1  =  [49.38068066]\n",
      "(2, 1)\n",
      "erreur_pt 2  =  [34.95752733]\n",
      "(2, 1)\n",
      "erreur_pt 3  =  [34.95752733]\n",
      "------------ Solution n° :  3 ----------------\n",
      "R = \n",
      " [[ 1.00000000e+00  5.08993741e-15  2.38264186e-15]\n",
      " [-5.06323217e-15  1.00000000e+00  3.61729435e-15]\n",
      " [-2.37109070e-15 -3.65269861e-15  1.00000000e+00]]\n",
      "C = \n",
      " [[1.02140518e-14]\n",
      " [2.03170814e-14]\n",
      " [6.00000000e+00]]\n",
      "(2, 1)\n",
      "erreur_pt 0  =  [9.20767668]\n",
      "(2, 1)\n",
      "erreur_pt 1  =  [12.26815127]\n",
      "(2, 1)\n",
      "erreur_pt 2  =  [5.81786534]\n",
      "(2, 1)\n",
      "erreur_pt 3  =  [5.81786534]\n",
      "------------ Solution n° :  4 ----------------\n",
      "R = \n",
      " [[ 0.84782954  0.51919926 -0.10778309]\n",
      " [ 0.52791385 -0.80730866  0.26374171]\n",
      " [ 0.04992028 -0.2805082  -0.95855261]]\n",
      "C = \n",
      " [[-1.25864955]\n",
      " [ 2.26707244]\n",
      " [-3.99101139]]\n",
      "(2, 1)\n",
      "erreur_pt 0  =  [13.97001741]\n",
      "(2, 1)\n",
      "erreur_pt 1  =  [41.19748797]\n",
      "(2, 1)\n",
      "erreur_pt 2  =  [49.96822136]\n",
      "(2, 1)\n",
      "erreur_pt 3  =  [49.96822136]\n",
      "\n",
      "------------ Best solution : ----------------\n",
      "Solution n° : 3 \n",
      "\n",
      "R estimé = \n",
      " [[ 1.00000000e+00  5.08993741e-15  2.38264186e-15]\n",
      " [-5.06323217e-15  1.00000000e+00  3.61729435e-15]\n",
      " [-2.37109070e-15 -3.65269861e-15  1.00000000e+00]] \n",
      "\n",
      "C estimé = \n",
      " [[1.02140518e-14]\n",
      " [2.03170814e-14]\n",
      " [6.00000000e+00]] \n",
      "\n",
      "distance_R 2.7992969600621223\n",
      "distance_c 10.322021346673084\n"
     ]
    }
   ],
   "source": [
    "print(type(p1))\n",
    "print(p1)\n",
    "print(\"p&fve\",[p1, p2, p3, p4])\n",
    "affichage_erreur(solutions, [p1, p2, p3, p4], new_points3D, A)"
   ]
  }
 ],
 "metadata": {
  "kernelspec": {
   "display_name": "Python 3",
   "language": "python",
   "name": "python3"
  },
  "language_info": {
   "codemirror_mode": {
    "name": "ipython",
    "version": 3
   },
   "file_extension": ".py",
   "mimetype": "text/x-python",
   "name": "python",
   "nbconvert_exporter": "python",
   "pygments_lexer": "ipython3",
   "version": "3.11.9"
  }
 },
 "nbformat": 4,
 "nbformat_minor": 2
}
