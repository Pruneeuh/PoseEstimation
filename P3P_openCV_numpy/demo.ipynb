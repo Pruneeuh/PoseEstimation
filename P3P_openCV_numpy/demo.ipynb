{
 "cells": [
  {
   "cell_type": "markdown",
   "id": "e62e0aa2",
   "metadata": {},
   "source": [
    "Test de l'algorithme P3P avec opencv et numpy \n",
    "\n",
    "Test de P3P version open CV : \n",
    "- affichage des matrices de rotation et de translation générée initialement (correspondant à celle du papier de Kneip)\n",
    "- puis des solutions générées par l'algorithme opencv \n",
    "- ansi que des erreurs (distance euclidienne) entre les points initiaux et les points retrouvés à partir des matrices retrouvées par P3P"
   ]
  },
  {
   "cell_type": "code",
   "execution_count": 1,
   "id": "f05d030e",
   "metadata": {},
   "outputs": [
    {
     "name": "stdout",
     "output_type": "stream",
     "text": [
      "R = \n",
      " [[ 1  0  0]\n",
      " [ 0 -1  0]\n",
      " [ 0  0 -1]]\n",
      "T = \n",
      " [[0]\n",
      " [0]\n",
      " [6]]\n",
      "------------ Solution n° :  1 ----------------\n",
      "R = \n",
      " [[ 1.0000000e+00  0.0000000e+00 -0.0000000e+00]\n",
      " [-0.0000000e+00 -1.0000000e+00 -1.2246468e-16]\n",
      " [ 0.0000000e+00  1.2246468e-16 -1.0000000e+00]]\n",
      "T = \n",
      " [[-1.33232314e-12]\n",
      " [ 1.56141766e-12]\n",
      " [ 6.00000000e+00]]\n",
      "erreur_pt 0  =  7.24450534529106e-12\n",
      "erreur_pt 1  =  9.784969542309688e-12\n",
      "erreur_pt 2  =  3.1956342184544215e-11\n",
      "erreur_pt 3  =  2.348549048809458e-11\n",
      "------------ Solution n° :  2 ----------------\n",
      "R = \n",
      " [[ 0.86336438 -0.16045879 -0.47838785]\n",
      " [ 0.48164725  0.54465656  0.68656038]\n",
      " [ 0.15039243 -0.82316597  0.54752161]]\n",
      "T = \n",
      " [[-0.22862136]\n",
      " [ 2.17220401]\n",
      " [ 4.62098862]]\n",
      "erreur_pt 0  =  3.346997642614819e-11\n",
      "erreur_pt 1  =  1.1506392390986726e-11\n",
      "erreur_pt 2  =  2.2120334588466035e-11\n",
      "erreur_pt 3  =  24.184228750570135\n",
      "\n",
      "------------ Best solution : ----------------\n",
      "Solution n° : 1 \n",
      "\n",
      "R estimé = \n",
      " [[ 1.0000000e+00  0.0000000e+00 -0.0000000e+00]\n",
      " [-0.0000000e+00 -1.0000000e+00 -1.2246468e-16]\n",
      " [ 0.0000000e+00  1.2246468e-16 -1.0000000e+00]] \n",
      "\n",
      "T estimé = \n",
      " [[-1.33232314e-12]\n",
      " [ 1.56141766e-12]\n",
      " [ 6.00000000e+00]] \n",
      "\n"
     ]
    }
   ],
   "source": [
    "%run test_openCV.py "
   ]
  },
  {
   "cell_type": "markdown",
   "id": "2d35ba95",
   "metadata": {},
   "source": [
    "Test des fonctions de résolutions de racines des polynomes de degré 3 et 4 : \n",
    "- affichage des coeffiçiants (générés aléatoirement) du polynome\n",
    "- puis des racines trouvées pas l'algorithme\n",
    "- calcul du polynome appliqué à chaque racine \n",
    "- vérificiation que le polynome appliqué à la racine a bien une valeur proche de zéro (à  10^(-10) près )"
   ]
  },
  {
   "cell_type": "code",
   "execution_count": 2,
   "id": "e1e08e3a",
   "metadata": {},
   "outputs": [
    {
     "name": "stdout",
     "output_type": "stream",
     "text": [
      "---- Begin of test_polynomial_root_calculation_3rd_degree ----\n",
      "f(x) =  16.614251223605628 *x**3 +  17.579476733538087 *x**2 +  -2.762173729807415 *x +  19.748978488109344\n",
      "Roots : [-1.61609443-0.j          0.27899909+0.81097718j  0.27899909-0.81097718j] \n",
      "\n",
      "f(r) =  (1.0658141036401503e-14+0j) \n",
      "\n",
      "f(r) =  (-1.4210854715202004e-14-3.4638958368304884e-14j) \n",
      "\n",
      "f(r) =  (-2.4868995751603507e-14-3.9968028886505635e-15j) \n",
      "\n",
      "Values lower in norm than 10^(-10) :  True \n",
      "\n",
      "---- Begin of test_polynomial_root_calculation_4th_degree_ferrari ----\n",
      "f(x) =  -3.2723963857540994 *x**4 +  -17.98901436481621 *x**3 +  7.082102813144523 *x**2 +  -11.173585160355444 *x +  11.766915429940418\n",
      "Roots : [-0.11951949+0.91046411j -0.11951949-0.91046411j  0.71403102+0.j\n",
      " -5.97219111-0.j        ] \n",
      "\n",
      "f(r) =  (1.7763568394002505e-15+3.552713678800501e-15j) \n",
      "\n",
      "f(r) =  (1.7763568394002505e-15-3.552713678800501e-15j) \n",
      "\n",
      "f(r) =  (3.552713678800501e-15+0j) \n",
      "\n",
      "f(r) =  (-1.9184653865522705e-13+0j) \n",
      "\n",
      "Values lower in norm than 10^(-10) :  True \n",
      "\n"
     ]
    }
   ],
   "source": [
    "%run test_resolution_polynomes.py"
   ]
  },
  {
   "cell_type": "markdown",
   "id": "af130c2c",
   "metadata": {},
   "source": [
    "Test de P3P version numpy : \n",
    "- affichage des matrices de rotation et de translation générée initialement (correspondant à celle du papier de Kneip)\n",
    "- calcul des features vectors (fi = TPi / ||TP|| ) avec T matrice de translation de la caméra et Pi les points utilisés pour la résolution de P3P\n",
    "- puis des solutions générées par l'algorithme P3P_numpy \n",
    "- ansi que des erreurs (distance euclidienne) entre les points initiaux et les points retrouvés à partir des matrices retrouvées par P3P"
   ]
  },
  {
   "cell_type": "code",
   "execution_count": 3,
   "id": "726b0e66",
   "metadata": {},
   "outputs": [
    {
     "name": "stdout",
     "output_type": "stream",
     "text": [
      "R = \n",
      " [[ 1  0  0]\n",
      " [ 0 -1  0]\n",
      " [ 0  0 -1]]\n",
      "T = \n",
      " [[0]\n",
      " [0]\n",
      " [6]]\n",
      "features vectors = \n",
      " [[-0.07939407  0.10438052 -0.53004309]\n",
      " [-0.1215374  -0.06193074 -0.57322427]\n",
      " [ 0.04934058  0.0564917  -0.67884883]]\n",
      "------------ Solution n° :  1 ----------------\n",
      "R = \n",
      " [[-0.57104868  0.52839779  0.10056391]\n",
      " [-0.34371081 -0.10931269  0.53331802]\n",
      " [ 0.71073291  0.18469544  0.16464107]]\n",
      "T = \n",
      " [[-1.27792837]\n",
      " [ 3.70669826]\n",
      " [ 1.81781513]]\n",
      "erreur_pt 0  =  116.85777397679166\n",
      "erreur_pt 1  =  513.7445639433797\n",
      "erreur_pt 2  =  71.11516647269359\n",
      "erreur_pt 3  =  84.4429316787973\n",
      "------------ Solution n° :  2 ----------------\n",
      "R = \n",
      " [[-0.91092191  0.05941308 -0.06702242]\n",
      " [-0.05546337  0.54927462 -0.09003696]\n",
      " [ 0.34135038 -0.14153929 -0.55592197]]\n",
      "T = \n",
      " [[-3.06888072]\n",
      " [-1.10108156]\n",
      " [-4.41840232]]\n",
      "erreur_pt 0  =  37.677462656533265\n",
      "erreur_pt 1  =  37.239916693213324\n",
      "erreur_pt 2  =  54.78299643752006\n",
      "erreur_pt 3  =  38.54136332599207\n",
      "\n",
      "------------ Best solution : ----------------\n",
      "Solution n° : 2 \n",
      "\n",
      "R estimé = \n",
      " [[-0.91092191  0.05941308 -0.06702242]\n",
      " [-0.05546337  0.54927462 -0.09003696]\n",
      " [ 0.34135038 -0.14153929 -0.55592197]] \n",
      "\n",
      "T estimé = \n",
      " [[-3.06888072]\n",
      " [-1.10108156]\n",
      " [-4.41840232]] \n",
      "\n"
     ]
    }
   ],
   "source": [
    "%run test_numpy.py"
   ]
  },
  {
   "cell_type": "markdown",
   "id": "13015469",
   "metadata": {},
   "source": [
    "Pour la méthode P3P pour l'instant valeurs d'erreurs très élevées - pb dans la résolution de P3P à chercher "
   ]
  },
  {
   "cell_type": "markdown",
   "id": "2f996a3d",
   "metadata": {},
   "source": [
    "Affichage des matrices de rotation et de potition trouvée par l'algo open cv et l'algo numpy "
   ]
  },
  {
   "cell_type": "code",
   "execution_count": 4,
   "id": "d41cae5d",
   "metadata": {},
   "outputs": [
    {
     "name": "stdout",
     "output_type": "stream",
     "text": [
      "R = \n",
      " [[ 1  0  0]\n",
      " [ 0 -1  0]\n",
      " [ 0  0 -1]]\n",
      "T = \n",
      " [[0]\n",
      " [0]\n",
      " [6]]\n",
      "features vectors = \n",
      " [[ 0.00421989  0.0250702  -0.49555492]\n",
      " [ 0.10007844  0.05051166 -0.63397391]\n",
      " [-0.01766522  0.13999813 -0.60264213]]\n",
      "--------- Solutions : --------------------- \n",
      "Solution open CV : \n",
      " [[[ 3.71561615e-10  1.00000000e+00  0.00000000e+00 -0.00000000e+00]\n",
      "  [-4.52938687e-10 -0.00000000e+00 -1.00000000e+00 -1.22464680e-16]\n",
      "  [ 6.00000000e+00  0.00000000e+00  1.22464680e-16 -1.00000000e+00]]\n",
      "\n",
      " [[ 9.32057948e-01  2.49487564e-01 -7.69075959e-01 -5.88454013e-01]\n",
      "  [-1.03642678e+00  8.01288980e-01 -1.77273961e-01  5.71410459e-01]\n",
      "  [ 6.92089453e+00 -5.43775620e-01 -6.14081519e-01  5.72024442e-01]]\n",
      "\n",
      " [[ 0.00000000e+00  0.00000000e+00  0.00000000e+00  0.00000000e+00]\n",
      "  [ 0.00000000e+00  0.00000000e+00  0.00000000e+00  0.00000000e+00]\n",
      "  [ 0.00000000e+00  0.00000000e+00  0.00000000e+00  0.00000000e+00]]\n",
      "\n",
      " [[ 0.00000000e+00  0.00000000e+00  0.00000000e+00  0.00000000e+00]\n",
      "  [ 0.00000000e+00  0.00000000e+00  0.00000000e+00  0.00000000e+00]\n",
      "  [ 0.00000000e+00  0.00000000e+00  0.00000000e+00  0.00000000e+00]]]\n",
      "Solution numpy : \n",
      " [[[-1.45569727 -0.22644398  0.72342797 -0.28793859]\n",
      "  [-0.7234648  -0.24686488 -0.59367458 -0.24068008]\n",
      "  [ 2.63696973 -0.40184892  0.30819952  0.32729239]]\n",
      "\n",
      " [[ 1.65801284  0.30772819  0.51679831  0.20597968]\n",
      "  [ 0.37176715  0.40125665 -0.81476162 -0.02380993]\n",
      "  [-3.05840244  0.13415722  0.19966844 -0.45272651]]\n",
      "\n",
      " [[ 0.          0.          0.          0.        ]\n",
      "  [ 0.          0.          0.          0.        ]\n",
      "  [ 0.          0.          0.          0.        ]]\n",
      "\n",
      " [[ 0.          0.          0.          0.        ]\n",
      "  [ 0.          0.          0.          0.        ]\n",
      "  [ 0.          0.          0.          0.        ]]]\n"
     ]
    }
   ],
   "source": [
    "%run test_comparaison"
   ]
  }
 ],
 "metadata": {
  "kernelspec": {
   "display_name": "Python 3",
   "language": "python",
   "name": "python3"
  },
  "language_info": {
   "codemirror_mode": {
    "name": "ipython",
    "version": 3
   },
   "file_extension": ".py",
   "mimetype": "text/x-python",
   "name": "python",
   "nbconvert_exporter": "python",
   "pygments_lexer": "ipython3",
   "version": "3.11.9"
  }
 },
 "nbformat": 4,
 "nbformat_minor": 5
}
