{
 "cells": [
  {
   "cell_type": "markdown",
   "id": "e62e0aa2",
   "metadata": {},
   "source": [
    "Test de l'algorithme P3P avec opencv et numpy \n",
    "\n",
    "Test de P3P version open CV : \n",
    "- affichage des matrices de rotation et de translation générée initialement (correspondant à celle du papier de Kneip)\n",
    "- puis des solutions générées par l'algorithme opencv \n",
    "- ansi que des erreurs (distance euclidienne) entre les points initiaux et les points retrouvés à partir des matrices retrouvées par P3P"
   ]
  },
  {
   "cell_type": "code",
   "execution_count": 18,
   "id": "f05d030e",
   "metadata": {},
   "outputs": [
    {
     "name": "stdout",
     "output_type": "stream",
     "text": [
      "R = \n",
      " [[ 1  0  0]\n",
      " [ 0 -1  0]\n",
      " [ 0  0 -1]]\n",
      "T = \n",
      " [[0]\n",
      " [0]\n",
      " [6]]\n",
      "------------ Solution n° :  1 ----------------\n",
      "R = \n",
      " [[ 1.0000000e+00  0.0000000e+00  0.0000000e+00]\n",
      " [ 0.0000000e+00 -1.0000000e+00 -1.2246468e-16]\n",
      " [ 0.0000000e+00  1.2246468e-16 -1.0000000e+00]]\n",
      "T = \n",
      " [[-3.50820151e-10]\n",
      " [-2.28022046e-11]\n",
      " [ 6.00000000e+00]]\n",
      "erreur_pt 0  =  1.7894137967863079e-09\n",
      "erreur_pt 1  =  4.64876749890262e-09\n",
      "erreur_pt 2  =  3.3089417283457984e-09\n",
      "erreur_pt 3  =  1.347280091063442e-09\n",
      "------------ Solution n° :  2 ----------------\n",
      "R = \n",
      " [[ 0.74977217 -0.63946142 -0.17009055]\n",
      " [ 0.39383199  0.22469409  0.89129621]\n",
      " [-0.53173119 -0.73525619  0.42030973]]\n",
      "T = \n",
      " [[ 0.69136646]\n",
      " [-1.79025506]\n",
      " [ 6.24181107]]\n",
      "erreur_pt 0  =  2.0019817813980848e-09\n",
      "erreur_pt 1  =  1.2260465193754163e-09\n",
      "erreur_pt 2  =  1.6324339518546964e-09\n",
      "erreur_pt 3  =  17.106636591017885\n"
     ]
    }
   ],
   "source": [
    "%run test_openCV.py "
   ]
  },
  {
   "cell_type": "markdown",
   "id": "2d35ba95",
   "metadata": {},
   "source": [
    "Test des fonctions de résolutions de racines des polynomes de degré 3 et 4 : \n",
    "- affichage des coeffiçiants (générés aléatoirement) du polynome\n",
    "- puis des racines trouvées pas l'algorithme\n",
    "- calcul du polynome appliqué à chaque racine \n",
    "- vérificiation que le polynome appliqué à la racine a bien une valeur proche de zéro (à  10^(-10) près )"
   ]
  },
  {
   "cell_type": "code",
   "execution_count": 19,
   "id": "e1e08e3a",
   "metadata": {},
   "outputs": [
    {
     "name": "stdout",
     "output_type": "stream",
     "text": [
      "---- Begin of test_polynomial_root_calculation_3rd_degree ----\n",
      "f(x) =  -6.542744728628165 *x**3 +  18.01899788992803 *x**2 +  -2.3384067212921877 *x +  -17.89945687531036\n",
      "Roots : [-0.82570924-0.j          1.78987593+0.33103306j  1.78987593-0.33103306j] \n",
      "\n",
      "f(r) =  0j \n",
      "\n",
      "f(r) =  (1.0658141036401503e-14+1.0436096431476471e-14j) \n",
      "\n",
      "f(r) =  (7.105427357601002e-15+7.327471962526033e-15j) \n",
      "\n",
      "Values lower in norm than 10^(-10) :  True \n",
      "\n",
      "---- Begin of test_polynomial_root_calculation_4th_degree_ferrari ----\n",
      "f(x) =  -17.031268896855867 *x**4 +  0.29391348039503384 *x**3 +  17.093448869619117 *x**2 +  -1.361187832932778 *x +  -11.074988542660131\n",
      "Roots : [ 0.81325798+0.41776994j  0.81325798-0.41776994j -0.80462934+0.36122755j\n",
      " -0.80462934-0.36122755j] \n",
      "\n",
      "f(r) =  (-7.105427357601002e-15+3.3306690738754696e-16j) \n",
      "\n",
      "f(r) =  (-7.105427357601002e-15-3.3306690738754696e-16j) \n",
      "\n",
      "f(r) =  (-5.329070518200751e-15-3.3861802251067274e-15j) \n",
      "\n",
      "f(r) =  (-5.329070518200751e-15+3.3861802251067274e-15j) \n",
      "\n",
      "Values lower in norm than 10^(-10) :  True \n",
      "\n"
     ]
    }
   ],
   "source": [
    "%run test_resolution_polynomes.py"
   ]
  },
  {
   "cell_type": "markdown",
   "id": "af130c2c",
   "metadata": {},
   "source": [
    "Test de P3P version numpy : \n",
    "- affichage des matrices de rotation et de translation générée initialement (correspondant à celle du papier de Kneip)\n",
    "- calcul des features vectors (fi = TPi / ||TP|| ) avec T matrice de translation de la caméra et Pi les points utilisés pour la résolution de P3P\n",
    "- puis des solutions générées par l'algorithme P3P_numpy \n",
    "- ansi que des erreurs (distance euclidienne) entre les points initiaux et les points retrouvés à partir des matrices retrouvées par P3P"
   ]
  },
  {
   "cell_type": "code",
   "execution_count": 20,
   "id": "726b0e66",
   "metadata": {},
   "outputs": [
    {
     "name": "stdout",
     "output_type": "stream",
     "text": [
      "R = \n",
      " [[ 1  0  0]\n",
      " [ 0 -1  0]\n",
      " [ 0  0 -1]]\n",
      "T = \n",
      " [[0]\n",
      " [0]\n",
      " [6]]\n",
      "features vectors = \n",
      " [[-0.07363515 -0.08217048 -0.59713374]\n",
      " [ 0.084291    0.19354298 -0.57320041]\n",
      " [ 0.1714294   0.0096822  -0.6972817 ]]\n",
      "------------ Solution n° :  1 ----------------\n",
      "R = \n",
      " [[-0.83513792  0.33672181  0.26944486]\n",
      " [-0.12938097 -0.61508449 -0.03748883]\n",
      " [ 0.36305545 -0.18560466  0.54779152]]\n",
      "T = \n",
      " [[2.2062749 ]\n",
      " [1.08089318]\n",
      " [4.5660049 ]]\n",
      "erreur_pt 0  =  48.17082621276599\n",
      "erreur_pt 1  =  23.551849792498206\n",
      "erreur_pt 2  =  15.679386027897406\n",
      "erreur_pt 3  =  55.80887736958333\n",
      "------------ Solution n° :  2 ----------------\n",
      "R = \n",
      " [[-0.89791972  0.24365548 -0.10463413]\n",
      " [ 0.18155897  0.03284666 -0.59674561]\n",
      " [ 0.08234418 -0.68243147 -0.08383242]]\n",
      "T = \n",
      " [[-1.34074395]\n",
      " [-5.50730682]\n",
      " [-0.81890959]]\n",
      "erreur_pt 0  =  8829.670642215518\n",
      "erreur_pt 1  =  135.4773949120523\n",
      "erreur_pt 2  =  398.84824249906194\n",
      "erreur_pt 3  =  516.0625726452305\n"
     ]
    }
   ],
   "source": [
    "%run test_numpy.py"
   ]
  },
  {
   "cell_type": "markdown",
   "id": "13015469",
   "metadata": {},
   "source": [
    "Pour la méthode P3P pour l'instant valeurs d'erreurs très élevées - pb dans la résolution de P3P à chercher "
   ]
  },
  {
   "cell_type": "markdown",
   "id": "2f996a3d",
   "metadata": {},
   "source": [
    "Affichage des matrices de rotation et de potition trouvée par l'algo open cv et l'algo numpy "
   ]
  },
  {
   "cell_type": "code",
   "execution_count": 21,
   "id": "d41cae5d",
   "metadata": {},
   "outputs": [
    {
     "name": "stdout",
     "output_type": "stream",
     "text": [
      "R = \n",
      " [[ 1  0  0]\n",
      " [ 0 -1  0]\n",
      " [ 0  0 -1]]\n",
      "T = \n",
      " [[0]\n",
      " [0]\n",
      " [6]]\n",
      "features vectors = \n",
      " [[-0.12666154  0.19254873 -0.41764781]\n",
      " [ 0.165314    0.15085441 -0.51701275]\n",
      " [-0.04391728  0.10914631 -0.67164034]]\n",
      "--------- Solutions : --------------------- \n",
      "Solution open CV : \n",
      " [[[ 1.07136522e-14  1.00000000e+00 -0.00000000e+00  0.00000000e+00]\n",
      "  [ 1.77635684e-15  0.00000000e+00 -1.00000000e+00 -1.22464680e-16]\n",
      "  [ 6.00000000e+00  0.00000000e+00  1.22464680e-16 -1.00000000e+00]]\n",
      "\n",
      " [[ 8.83641151e-01  8.81345208e-01 -4.69520841e-01 -5.27333336e-02]\n",
      "  [-1.99161553e+00  3.66256309e-01  7.49449365e-01 -5.51526939e-01]\n",
      "  [ 2.23919402e+00  2.98474356e-01  4.66771709e-01  8.32488577e-01]]\n",
      "\n",
      " [[ 0.00000000e+00  0.00000000e+00  0.00000000e+00  0.00000000e+00]\n",
      "  [ 0.00000000e+00  0.00000000e+00  0.00000000e+00  0.00000000e+00]\n",
      "  [ 0.00000000e+00  0.00000000e+00  0.00000000e+00  0.00000000e+00]]\n",
      "\n",
      " [[ 0.00000000e+00  0.00000000e+00  0.00000000e+00  0.00000000e+00]\n",
      "  [ 0.00000000e+00  0.00000000e+00  0.00000000e+00  0.00000000e+00]\n",
      "  [ 0.00000000e+00  0.00000000e+00  0.00000000e+00  0.00000000e+00]]]\n",
      "Solution numpy : \n",
      " [[[ 0.00000000e+00  0.00000000e+00  0.00000000e+00  0.00000000e+00]\n",
      "  [ 0.00000000e+00  0.00000000e+00  0.00000000e+00  0.00000000e+00]\n",
      "  [ 0.00000000e+00  0.00000000e+00  0.00000000e+00  0.00000000e+00]]\n",
      "\n",
      " [[ 0.00000000e+00  0.00000000e+00  0.00000000e+00  0.00000000e+00]\n",
      "  [ 0.00000000e+00  0.00000000e+00  0.00000000e+00  0.00000000e+00]\n",
      "  [ 0.00000000e+00  0.00000000e+00  0.00000000e+00  0.00000000e+00]]\n",
      "\n",
      " [[ 1.52218848e+00 -5.74548436e-01 -1.18932649e-01  8.12231857e-02]\n",
      "  [-1.96079207e+00 -1.69322407e-01 -4.94844411e-01 -6.16486511e-01]\n",
      "  [ 4.87771093e+00 -2.94208103e-04 -7.86886701e-01  1.05547924e-01]]\n",
      "\n",
      " [[-1.25031029e+00 -4.62510121e-01  3.59118590e-01 -3.78835657e-02]\n",
      "  [ 7.28314182e-02  3.79260134e-01  8.52362915e-01  1.57295635e-01]\n",
      "  [-3.41736678e+00  3.19719824e-02 -1.50724733e-01 -6.09603237e-01]]]\n"
     ]
    }
   ],
   "source": [
    "%run test_comparaison"
   ]
  }
 ],
 "metadata": {
  "kernelspec": {
   "display_name": "Python 3",
   "language": "python",
   "name": "python3"
  },
  "language_info": {
   "codemirror_mode": {
    "name": "ipython",
    "version": 3
   },
   "file_extension": ".py",
   "mimetype": "text/x-python",
   "name": "python",
   "nbconvert_exporter": "python",
   "pygments_lexer": "ipython3",
   "version": "3.11.9"
  }
 },
 "nbformat": 4,
 "nbformat_minor": 5
}
