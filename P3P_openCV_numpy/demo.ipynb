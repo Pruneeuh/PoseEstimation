{
 "cells": [
  {
   "cell_type": "markdown",
   "id": "e62e0aa2",
   "metadata": {},
   "source": [
    "Test de l'algorithme P3P avec opencv et numpy \n",
    "\n",
    "Test de P3P version open CV : \n",
    "- affichage des matrices de rotation et de translation générée initialement (correspondant à celle du papier de Kneip)\n",
    "- puis des solutions générées par l'algorithme opencv \n",
    "- ansi que des erreurs (distance euclidienne) entre les points initiaux et les points retrouvés à partir des matrices retrouvées par P3P"
   ]
  },
  {
   "cell_type": "code",
   "execution_count": 1,
   "id": "f05d030e",
   "metadata": {},
   "outputs": [
    {
     "name": "stdout",
     "output_type": "stream",
     "text": [
      "R = \n",
      " [[ 1  0  0]\n",
      " [ 0 -1  0]\n",
      " [ 0  0 -1]]\n",
      "T = \n",
      " [[0]\n",
      " [0]\n",
      " [6]]\n",
      "------------ Solution n° :  1 ----------------\n",
      "R = \n",
      " [[ 1.0000000e+00 -0.0000000e+00  0.0000000e+00]\n",
      " [ 0.0000000e+00 -1.0000000e+00 -1.2246468e-16]\n",
      " [ 0.0000000e+00  1.2246468e-16 -1.0000000e+00]]\n",
      "T = \n",
      " [[7.08655357e-13]\n",
      " [3.63542529e-13]\n",
      " [6.00000000e+00]]\n",
      "erreur_pt 0  =  1.810859921846042e-11\n",
      "erreur_pt 1  =  4.818510360754164e-12\n",
      "erreur_pt 2  =  7.395834821850691e-12\n",
      "erreur_pt 3  =  3.048653665785706e-12\n",
      "------------ Solution n° :  2 ----------------\n",
      "R = \n",
      " [[-0.86428499  0.0542953   0.50006348]\n",
      " [ 0.13308775 -0.93404319  0.33143772]\n",
      " [ 0.4850764   0.35300897  0.80005347]]\n",
      "T = \n",
      " [[ 1.16376725]\n",
      " [-0.58389455]\n",
      " [ 3.00125862]]\n",
      "erreur_pt 0  =  3.528789531849031e-12\n",
      "erreur_pt 1  =  4.594352688068417e-12\n",
      "erreur_pt 2  =  5.3326744158000054e-12\n",
      "erreur_pt 3  =  15.899086551182474\n",
      "\n",
      "------------ Best solution : ----------------\n",
      "Solution n° : 1 \n",
      "\n",
      "R estimé =  [[-0.86428499  0.0542953   0.50006348]\n",
      " [ 0.13308775 -0.93404319  0.33143772]\n",
      " [ 0.4850764   0.35300897  0.80005347]] \n",
      "\n",
      "T estimé =  [[ 1.16376725]\n",
      " [-0.58389455]\n",
      " [ 3.00125862]] \n",
      "\n"
     ]
    }
   ],
   "source": [
    "%run test_openCV.py "
   ]
  },
  {
   "cell_type": "markdown",
   "id": "2d35ba95",
   "metadata": {},
   "source": [
    "Test des fonctions de résolutions de racines des polynomes de degré 3 et 4 : \n",
    "- affichage des coeffiçiants (générés aléatoirement) du polynome\n",
    "- puis des racines trouvées pas l'algorithme\n",
    "- calcul du polynome appliqué à chaque racine \n",
    "- vérificiation que le polynome appliqué à la racine a bien une valeur proche de zéro (à  10^(-10) près )"
   ]
  },
  {
   "cell_type": "code",
   "execution_count": 2,
   "id": "e1e08e3a",
   "metadata": {},
   "outputs": [
    {
     "name": "stdout",
     "output_type": "stream",
     "text": [
      "---- Begin of test_polynomial_root_calculation_3rd_degree ----\n",
      "f(x) =  -17.97121111600312 *x**3 +  -8.58950962829741 *x**2 +  14.96894294854797 *x +  -12.847443187926375\n",
      "Roots : [-1.41951636-0.j         0.47077847+0.5310207j  0.47077847-0.5310207j] \n",
      "\n",
      "f(r) =  (-5.329070518200751e-15+0j) \n",
      "\n",
      "f(r) =  (-3.552713678800501e-15+8.881784197001252e-15j) \n",
      "\n",
      "f(r) =  (-5.329070518200751e-15+1.509903313490213e-14j) \n",
      "\n",
      "Values lower in norm than 10^(-10) :  True \n",
      "\n",
      "---- Begin of test_polynomial_root_calculation_4th_degree_ferrari ----\n",
      "f(x) =  18.409208408946746 *x**4 +  3.9257138437698913 *x**3 +  0.5269504569643217 *x**2 +  -13.002078972528341 *x +  -13.042357691913327\n",
      "Roots : [ 1.04050765+0.j         -0.71787905+0.j         -0.26793794+0.93631249j\n",
      " -0.26793794-0.93631249j] \n",
      "\n",
      "f(r) =  (-8.881784197001252e-15+0j) \n",
      "\n",
      "f(r) =  (-1.4210854715202004e-14+0j) \n",
      "\n",
      "f(r) =  (-1.2434497875801753e-14+0j) \n",
      "\n",
      "f(r) =  (-1.2434497875801753e-14+0j) \n",
      "\n",
      "Values lower in norm than 10^(-10) :  True \n",
      "\n"
     ]
    }
   ],
   "source": [
    "%run test_resolution_polynomes.py"
   ]
  },
  {
   "cell_type": "markdown",
   "id": "af130c2c",
   "metadata": {},
   "source": [
    "Test de P3P version numpy : \n",
    "- affichage des matrices de rotation et de translation générée initialement (correspondant à celle du papier de Kneip)\n",
    "- calcul des features vectors (fi = TPi / ||TP|| ) avec T matrice de translation de la caméra et Pi les points utilisés pour la résolution de P3P\n",
    "- puis des solutions générées par l'algorithme P3P_numpy \n",
    "- ansi que des erreurs (distance euclidienne) entre les points initiaux et les points retrouvés à partir des matrices retrouvées par P3P"
   ]
  },
  {
   "cell_type": "code",
   "execution_count": 3,
   "id": "726b0e66",
   "metadata": {},
   "outputs": [
    {
     "name": "stdout",
     "output_type": "stream",
     "text": [
      "R = \n",
      " [[ 1  0  0]\n",
      " [ 0 -1  0]\n",
      " [ 0  0 -1]]\n",
      "T = \n",
      " [[0]\n",
      " [0]\n",
      " [6]]\n",
      "features vectors = \n",
      " [[ 0.13415588  0.07019628 -0.62886368]\n",
      " [-0.06786469  0.14452995 -0.48801804]\n",
      " [ 0.05129853 -0.13577486 -0.58393552]]\n",
      "------------ Solution n° :  1 ----------------\n",
      "R = \n",
      " [[-0.19362516 -0.29772902 -0.64990743]\n",
      " [-0.24382212 -0.87476287  0.11399482]\n",
      " [-0.6647586   0.06155529  0.07021091]]\n",
      "T = \n",
      " [[-1.95803255]\n",
      " [ 2.15178474]\n",
      " [ 1.16220207]]\n",
      "erreur_pt 0  =  445.6873973797423\n",
      "erreur_pt 1  =  102.09279972868153\n",
      "erreur_pt 2  =  241.6976031321923\n",
      "erreur_pt 3  =  218.13261286891822\n",
      "------------ Solution n° :  2 ----------------\n",
      "R = \n",
      " [[ 0.44434658 -0.49412953 -0.11369193]\n",
      " [-0.57374497 -0.72784974 -0.29041745]\n",
      " [ 0.11052941  0.28933107 -0.58569267]]\n",
      "T = \n",
      " [[ 0.07192721]\n",
      " [-0.01386939]\n",
      " [-5.03917717]]\n",
      "erreur_pt 0  =  22.44802664265796\n",
      "erreur_pt 1  =  27.916024632521584\n",
      "erreur_pt 2  =  28.03645888711508\n",
      "erreur_pt 3  =  13.052873247395214\n",
      "\n",
      "------------ Best solution : ----------------\n",
      "Solution n° : 0 \n",
      "\n",
      "R estimé =  [[-0.19362516 -0.29772902 -0.64990743]\n",
      " [-0.24382212 -0.87476287  0.11399482]\n",
      " [-0.6647586   0.06155529  0.07021091]] \n",
      "\n",
      "T estimé =  [[-1.95803255]\n",
      " [ 2.15178474]\n",
      " [ 1.16220207]] \n",
      "\n"
     ]
    }
   ],
   "source": [
    "%run test_numpy.py"
   ]
  },
  {
   "cell_type": "markdown",
   "id": "13015469",
   "metadata": {},
   "source": [
    "Pour la méthode P3P pour l'instant valeurs d'erreurs très élevées - pb dans la résolution de P3P à chercher "
   ]
  },
  {
   "cell_type": "markdown",
   "id": "2f996a3d",
   "metadata": {},
   "source": [
    "Affichage des matrices de rotation et de potition trouvée par l'algo open cv et l'algo numpy "
   ]
  },
  {
   "cell_type": "code",
   "execution_count": 4,
   "id": "d41cae5d",
   "metadata": {},
   "outputs": [
    {
     "name": "stdout",
     "output_type": "stream",
     "text": [
      "R = \n",
      " [[ 1  0  0]\n",
      " [ 0 -1  0]\n",
      " [ 0  0 -1]]\n",
      "T = \n",
      " [[0]\n",
      " [0]\n",
      " [6]]\n",
      "features vectors = \n",
      " [[-0.14797776  0.13931927 -0.45033839]\n",
      " [-0.15724004  0.12207411 -0.5007142 ]\n",
      " [ 0.12100459 -0.1191205  -0.48181234]]\n",
      "--------- Solutions : --------------------- \n",
      "Solution open CV : \n",
      " [[[ 9.42879108e-12  1.00000000e+00  0.00000000e+00 -0.00000000e+00]\n",
      "  [ 4.21895852e-12 -0.00000000e+00 -1.00000000e+00 -1.22464680e-16]\n",
      "  [ 6.00000000e+00  0.00000000e+00  1.22464680e-16 -1.00000000e+00]]\n",
      "\n",
      " [[ 3.92533648e-01 -1.16749327e-01 -9.84159675e-01 -1.33414123e-01]\n",
      "  [ 1.00352723e+00  7.57135264e-01 -1.26131306e-03 -6.53256919e-01]\n",
      "  [ 3.54298636e+00  6.42740840e-01 -1.77279842e-01  7.45289253e-01]]\n",
      "\n",
      " [[ 0.00000000e+00  0.00000000e+00  0.00000000e+00  0.00000000e+00]\n",
      "  [ 0.00000000e+00  0.00000000e+00  0.00000000e+00  0.00000000e+00]\n",
      "  [ 0.00000000e+00  0.00000000e+00  0.00000000e+00  0.00000000e+00]]\n",
      "\n",
      " [[ 0.00000000e+00  0.00000000e+00  0.00000000e+00  0.00000000e+00]\n",
      "  [ 0.00000000e+00  0.00000000e+00  0.00000000e+00  0.00000000e+00]\n",
      "  [ 0.00000000e+00  0.00000000e+00  0.00000000e+00  0.00000000e+00]]]\n",
      "Solution numpy : \n",
      " [[[-2.07518617 -0.95397401 -0.10116351  0.17797441]\n",
      "  [ 1.39840145  0.09878458  0.49594038  0.10390059]\n",
      "  [-1.35011933  0.03291943  0.14594645 -0.49734685]]\n",
      "\n",
      " [[ 0.17622045 -0.07564794 -0.50203634  0.14276368]\n",
      "  [ 2.22810338  0.95635786  0.12006307 -0.16034944]\n",
      "  [ 4.11593888 -0.02378073  0.1050507   0.4936909 ]]\n",
      "\n",
      " [[ 0.          0.          0.          0.        ]\n",
      "  [ 0.          0.          0.          0.        ]\n",
      "  [ 0.          0.          0.          0.        ]]\n",
      "\n",
      " [[ 0.          0.          0.          0.        ]\n",
      "  [ 0.          0.          0.          0.        ]\n",
      "  [ 0.          0.          0.          0.        ]]]\n"
     ]
    }
   ],
   "source": [
    "%run test_comparaison"
   ]
  }
 ],
 "metadata": {
  "kernelspec": {
   "display_name": "Python 3",
   "language": "python",
   "name": "python3"
  },
  "language_info": {
   "codemirror_mode": {
    "name": "ipython",
    "version": 3
   },
   "file_extension": ".py",
   "mimetype": "text/x-python",
   "name": "python",
   "nbconvert_exporter": "python",
   "pygments_lexer": "ipython3",
   "version": "3.11.9"
  }
 },
 "nbformat": 4,
 "nbformat_minor": 5
}
