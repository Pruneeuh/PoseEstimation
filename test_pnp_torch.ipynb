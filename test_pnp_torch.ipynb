{
 "cells": [
  {
   "cell_type": "code",
   "execution_count": 2,
   "metadata": {},
   "outputs": [],
   "source": [
    "import numpy as np \n",
    "import torch"
   ]
  },
  {
   "cell_type": "markdown",
   "metadata": {},
   "source": [
    "At first we have : \n",
    "- first camera parameters -> A (focal, etc) \n",
    "- rotation  -> R \n",
    "- position - C ou T ?  matrix\n",
    "- 3D points position ->  P1 P2 P3 "
   ]
  },
  {
   "cell_type": "code",
   "execution_count": 5,
   "metadata": {},
   "outputs": [
    {
     "name": "stdout",
     "output_type": "stream",
     "text": [
      "A = \n",
      " tensor([[60,  0,  0],\n",
      "        [ 0, 40,  0],\n",
      "        [ 0,  0,  1]])\n",
      "R = \n",
      " tensor([[ 1,  0,  0],\n",
      "        [ 0, -1,  0],\n",
      "        [ 0,  0, -1]])\n",
      "C = \n",
      " tensor([[0, 0, 6]])\n"
     ]
    }
   ],
   "source": [
    "# This script defines the camera parameters, rotation matrix, and translation matrix.\n",
    "def camera() : \n",
    "  # Definition of the camera parameters\n",
    "  # focal length\n",
    "  fx = 60\n",
    "  fy = 40\n",
    "  # center\n",
    "  cx = 0\n",
    "  cy = 0\n",
    "\n",
    "  A = torch.tensor([[fx, 0, cx], [0, fy, cy], [0, 0, 1]]) # intraseca matrix of the camera (3*3)\n",
    "  #A = torch.from_numpy(A)  # Convert to a PyTorch tensor\n",
    "  print(\"A = \\n\", A)\n",
    "  return A\n",
    "\n",
    "A = camera() \n",
    "\n",
    "\n",
    "def rotation_matrix() : \n",
    "  # Definition of the rotation matrix of the camera \n",
    "  R = torch.tensor([[1, 0, 0],[0, -1, 0], [0, 0, -1]])\n",
    "  #R = torch.from_numpy(R)  # Convert to a PyTorch tensor\n",
    "  print(\"R = \\n\",R)\n",
    "  return R\n",
    "\n",
    "def camera_position() : \n",
    "  # Definition of the translation matrix of the camera (the position)\n",
    "  C = torch.tensor([[0,0,6]])    # T = [tx,ty,tz]  (1*3)\n",
    "  #C = torch.from_numpy(C)    # Convert to a PyTorch tensor\n",
    "  #C = C.reshape((3,1))                       # (3*1)\n",
    "  print(\"C = \\n\",C)\n",
    "  return C\n",
    "\n",
    "R = rotation_matrix()\n",
    "C = camera_position()"
   ]
  },
  {
   "cell_type": "code",
   "execution_count": 72,
   "metadata": {},
   "outputs": [
    {
     "name": "stdout",
     "output_type": "stream",
     "text": [
      "P1 = \n",
      " tensor([0.7161, 0.5431, 1.7807], dtype=torch.float64)\n",
      "P2 = \n",
      " tensor([-1.1643,  0.8371, -1.0551], dtype=torch.float64)\n",
      "P3 = \n",
      " tensor([-1.5224,  0.4292, -0.1994], dtype=torch.float64)\n"
     ]
    }
   ],
   "source": [
    "# Definition of 3D points in the world coordinate system\n",
    "def point3Daleatoire(x) :\n",
    "  # Generation of one random points in 3D space \n",
    "  return torch.tensor([[np.random.uniform(-x,x),np.random.uniform(-x,x),np.random.uniform(-x,x)]])\n",
    "\n",
    "def pts_3D_4pts():\n",
    "  # Generate randomly 4 3D points\n",
    "  # Output : array which concatenate the 4 points = [ P1, P2, P3, P4 ] \n",
    "\n",
    "  P1 = point3Daleatoire(2)     # (1*3) -> pour P3P\n",
    "  P2 = point3Daleatoire(2)\n",
    "  P3 = point3Daleatoire(2)\n",
    "  P4 = point3Daleatoire(2)\n",
    "  \n",
    "  points3D = torch.cat((P1,P2,P3,P4),dim=0);     # (LIGNES 4* COLONNES 3) - xyz\n",
    "  print(\"points3D = \\n\", points3D)\n",
    "  return points3D\n",
    "\n",
    "P1 = torch.tensor([0.7161, 0.5431, 1.7807], dtype=torch.float64)\n",
    "P2 = torch.tensor([-1.1643, 0.8371, -1.0551], dtype=torch.float64)\n",
    "P3 = torch.tensor([-1.5224, 0.4292, -0.1994], dtype=torch.float64)\n",
    "\n",
    "print(\"P1 = \\n\", P1)\n",
    "print(\"P2 = \\n\", P2)\n",
    "print(\"P3 = \\n\", P3)"
   ]
  },
  {
   "cell_type": "markdown",
   "metadata": {},
   "source": [
    "We create the 3 direction features vectors f1, f2, f3"
   ]
  },
  {
   "cell_type": "code",
   "execution_count": 73,
   "metadata": {},
   "outputs": [
    {
     "name": "stdout",
     "output_type": "stream",
     "text": [
      "points3D = \n",
      " [tensor([0.7161, 0.5431, 1.7807], dtype=torch.float64), tensor([-1.1643,  0.8371, -1.0551], dtype=torch.float64), tensor([-1.5224,  0.4292, -0.1994], dtype=torch.float64)]\n",
      "features vectors = \n",
      " tensor([[ 0.1660,  0.1259, -0.9781],\n",
      "        [-0.1617,  0.1163, -0.9800],\n",
      "        [-0.2379,  0.0671, -0.9690]], dtype=torch.float64)\n"
     ]
    }
   ],
   "source": [
    "def features_vectors(points3D,C) :\n",
    "    '''\n",
    "    This function computes the features vectors for P3P algorithm.\n",
    "    args:\n",
    "    points3D : array with the 4 3D points = [ P1, P2, P3, P4 ] (4*3) \n",
    "    but we only use the first three points for P3P\n",
    "    C: camera position matrix : (3*1)\n",
    "    returns:\n",
    "    featuresVect : array with the features vectors (9*1)\n",
    "    '''\n",
    "    P1 = points3D[0]\n",
    "    P2 = points3D[1]\n",
    "    P3 = points3D[2]\n",
    "\n",
    "    f1 = (P1 - C) /torch.norm(P1 - C)\n",
    "    f2 = (P2 - C) / torch.norm(P2 - C)\n",
    "    f3 = (P3 - C) / torch.norm(P3 - C)\n",
    "    \n",
    "    featuresVect = torch.cat((f1,f2,f3),dim=0)\n",
    "    print(\"features vectors = \\n\",featuresVect)\n",
    "\n",
    "    return featuresVect # Return the features vectors need in P3P\n",
    "\n",
    "\n",
    "points3D = [P1, P2, P3]  # We define the points3D with the first three points\n",
    "print(\"points3D = \\n\", points3D)  # Print the points3D to check the values\n",
    "#print(points3D[:3,:]) # we print the first three columns of points3D to check the shape\n",
    "featuresVect = features_vectors(points3D, C)  # call the function to get the features vectors OK"
   ]
  },
  {
   "cell_type": "markdown",
   "metadata": {},
   "source": [
    "Lastly we need the functions to resolve the polynomial roots. - for test go to test resolution polynome "
   ]
  },
  {
   "cell_type": "code",
   "execution_count": 74,
   "metadata": {},
   "outputs": [],
   "source": [
    "import math\n",
    "\n",
    "def sqrt_3(x):\n",
    "    # Assumes x is a tensor (real or complex)\n",
    "    x_real = torch.real(x)\n",
    "\n",
    "    # Create mask for positive real part\n",
    "    positive_mask = x_real >= 0\n",
    "\n",
    "    # Handle both cases using torch.where\n",
    "    return torch.where(positive_mask, x**(1/3), -(-x)**(1/3))\n",
    "\n",
    "def polynomial_root_calculation_3rd_degree(a, b, c, d):\n",
    "    # Convert to complex tensors\n",
    "    a = torch.tensor(a, dtype=torch.complex64)\n",
    "    b = torch.tensor(b, dtype=torch.complex64)\n",
    "    c = torch.tensor(c, dtype=torch.complex64)\n",
    "    d = torch.tensor(d, dtype=torch.complex64)\n",
    "\n",
    "    # Discriminant terms\n",
    "    p = (3 * a * c - b**2) / (3 * a**2)\n",
    "    q = (2 * b**3 - 9 * a * b * c + 27 * a**2 * d) / (27 * a**3)\n",
    "    delta = -4 * p**3 - 27 * q**2\n",
    "\n",
    "    roots = []\n",
    "\n",
    "    j_ = torch.exp(2j * math.pi / 3)  # cube root of unity\n",
    "\n",
    "    for k in range(3):\n",
    "        com = -delta / 27\n",
    "        sqrt_term = torch.sqrt(com.to(torch.complex64))\n",
    "\n",
    "        u_k = j_**k * sqrt_3(0.5 * (-q + sqrt_term))\n",
    "        v_k = j_**(-k) * sqrt_3(0.5 * (-q - sqrt_term))\n",
    "\n",
    "        root = u_k + v_k - b / (3 * a)\n",
    "        roots.append(root)\n",
    "\n",
    "    return torch.stack(roots)\n",
    "\n",
    "\n",
    "def polynomial_root_calculation_4th_degree_ferrari(a): # Ferrari's Method\n",
    "    # Solving a polynomial of 4th degree\n",
    "\n",
    "    # Input : array 5*1 with the 5 coefficiants of the polynomial \n",
    "    # Output : roots of the polynomial a[4]*x^4 + a[3]*x^3 + a[2]*x^2 + a[1]*x + a[0]   -> array : [x1,x2,x3,x4]  (4*1)\n",
    "\n",
    "    if torch.shape(a)[0] != 5 :\n",
    "      print(\"Expeted 5 coefficiants for a 4th order polynomial\")\n",
    "      return\n",
    "\n",
    "    a0, a1, a2, a3, a4 = a\n",
    "\n",
    "    # Reduce the quartic equation to the form : x^4 + a*x^3 + b*x^2 + c*x + d = 0\n",
    "    a = a3/a4\n",
    "    b = a2/a4\n",
    "    c = a1/a4\n",
    "    d = a0/a4\n",
    "\n",
    "    # Computation of the coefficients of the Ferrari's Method\n",
    "    S = a/4\n",
    "    b0 = d - c*S + b* S**2 - 3* S**4\n",
    "    b1 = c - 2*b*S + 8*S**3\n",
    "    b2 = b - 6 * S**2\n",
    "\n",
    "\n",
    "    # Solve the cubic equation m^3 + b2*m^2 + (b2^2/4  - b0)*m - b1^2/8 = 0\n",
    "    x_cube = polynomial_root_calculation_3rd_degree(1,b2,(b2**2)/4-b0,(-b1**2)/8)\n",
    "\n",
    "    # Find a real and positive solution\n",
    "    alpha_0 = 0\n",
    "    for r in x_cube :\n",
    "      if torch.isclose(torch.imag(r),torch.tensor(0.0),atol=1e-7) and torch.real(r) > 0 :\n",
    "        alpha_0 = r\n",
    "        \n",
    "    def torch_sqrt(x):\n",
    "        return torch.sqrt(x.to(torch.complex64))\n",
    "\n",
    "    if alpha_0 != 0:\n",
    "        sqrt_alpha = torch.sqrt(alpha_0 / 2)\n",
    "        term = -alpha_0 / 2 - b2 / 2\n",
    "        denom = 2 * torch.sqrt(2 * alpha_0)\n",
    "\n",
    "        x1 = sqrt_alpha - S + torch_sqrt(term - b1 / denom)\n",
    "        x2 = sqrt_alpha - S - torch_sqrt(term - b1 / denom)\n",
    "        x3 = -sqrt_alpha - S + torch_sqrt(term + b1 / denom)\n",
    "        x4 = -sqrt_alpha - S - torch_sqrt(term + b1 / denom)\n",
    "    else:\n",
    "        sqrt_inner1 = torch_sqrt((b2**2) / 4 - b0)\n",
    "        x1 = -S + torch_sqrt(-b2 / 2 + sqrt_inner1)\n",
    "        x2 = -S - torch_sqrt(-b2 / 2 + sqrt_inner1)\n",
    "        x3 = -S + torch_sqrt(-b2 / 2 - sqrt_inner1)\n",
    "        x4 = -S - torch_sqrt(-b2 / 2 - sqrt_inner1)\n",
    "\n",
    "    return torch.cat([x1, x2, x3, x4])"
   ]
  },
  {
   "cell_type": "markdown",
   "metadata": {},
   "source": [
    "We have all the variables needed for the p3p so we start"
   ]
  },
  {
   "cell_type": "markdown",
   "metadata": {},
   "source": [
    "1. on stocke les points : c'est fait"
   ]
  },
  {
   "cell_type": "code",
   "execution_count": 75,
   "metadata": {},
   "outputs": [
    {
     "name": "stdout",
     "output_type": "stream",
     "text": [
      "tensor([0.7161, 0.5431, 1.7807], dtype=torch.float64) tensor([-1.1643,  0.8371, -1.0551], dtype=torch.float64) tensor([-1.5224,  0.4292, -0.1994], dtype=torch.float64)\n"
     ]
    }
   ],
   "source": [
    "print(P1, P2, P3)"
   ]
  },
  {
   "cell_type": "markdown",
   "metadata": {},
   "source": [
    "2. Stpockage des features vectors : fait"
   ]
  },
  {
   "cell_type": "code",
   "execution_count": 76,
   "metadata": {},
   "outputs": [
    {
     "name": "stdout",
     "output_type": "stream",
     "text": [
      "f1 =  tensor([ 0.1660,  0.1259, -0.9781], dtype=torch.float64)\n",
      "f2 =  tensor([-0.1617,  0.1163, -0.9800], dtype=torch.float64)\n",
      "f3 =  tensor([-0.2379,  0.0671, -0.9690], dtype=torch.float64)\n"
     ]
    }
   ],
   "source": [
    "# we got featuresVect and we access the 3 values \n",
    "f1 = featuresVect[0]\n",
    "f2 = featuresVect[1]\n",
    "f3 = featuresVect[2]\n",
    "\n",
    "print(\"f1 = \", f1)\n",
    "print(\"f2 = \", f2)\n",
    "print(\"f3 = \", f3)"
   ]
  },
  {
   "cell_type": "markdown",
   "metadata": {},
   "source": [
    "3. on créer la variable de solution, au maximum on a 4 solutions, on a la (3,1) qui contiendra C et (3,3) contiendra R "
   ]
  },
  {
   "cell_type": "code",
   "execution_count": 78,
   "metadata": {},
   "outputs": [
    {
     "name": "stdout",
     "output_type": "stream",
     "text": [
      "solutions = \n",
      " tensor([[[0., 0., 0., 0.],\n",
      "         [0., 0., 0., 0.],\n",
      "         [0., 0., 0., 0.]],\n",
      "\n",
      "        [[0., 0., 0., 0.],\n",
      "         [0., 0., 0., 0.],\n",
      "         [0., 0., 0., 0.]],\n",
      "\n",
      "        [[0., 0., 0., 0.],\n",
      "         [0., 0., 0., 0.],\n",
      "         [0., 0., 0., 0.]],\n",
      "\n",
      "        [[0., 0., 0., 0.],\n",
      "         [0., 0., 0., 0.],\n",
      "         [0., 0., 0., 0.]]], dtype=torch.float64)\n"
     ]
    }
   ],
   "source": [
    "solutions = torch.zeros((4,3,4), dtype=torch.float64)\n",
    "print(\"solutions = \\n\", solutions)"
   ]
  },
  {
   "cell_type": "markdown",
   "metadata": {},
   "source": [
    "4. On teste si les 3 points ne sont pas colinéaires"
   ]
  },
  {
   "cell_type": "code",
   "execution_count": 79,
   "metadata": {},
   "outputs": [
    {
     "name": "stdout",
     "output_type": "stream",
     "text": [
      "The points are not collinear, we can continue\n"
     ]
    }
   ],
   "source": [
    "# Test of non-collinearity\n",
    "v1 = P2 - P1\n",
    "v2 = P3 - P1\n",
    "if torch.norm(torch.cross(v1,v2))==0 :\n",
    "    print('Problem: the points must not be collinear')\n",
    "else:\n",
    "    print('The points are not collinear, we can continue')"
   ]
  },
  {
   "cell_type": "markdown",
   "metadata": {},
   "source": [
    "5. On crée un repère orthonormée à partir de f1, f2, f3"
   ]
  },
  {
   "cell_type": "code",
   "execution_count": 80,
   "metadata": {},
   "outputs": [
    {
     "name": "stdout",
     "output_type": "stream",
     "text": [
      "tx =  tensor([ 0.1660,  0.1259, -0.9781], dtype=torch.float64)\n",
      "tz =  tensor([-0.0298,  0.9920,  0.1226], dtype=torch.float64)\n",
      "ty =  tensor([-0.9857, -0.0088, -0.1684], dtype=torch.float64)\n"
     ]
    }
   ],
   "source": [
    "# Calculation of vectors of the base τ = (C,tx,ty,tz)\n",
    "tx = f1     \n",
    "print(\"tx = \", tx)\n",
    "tz = torch.cross(f1,f2)/torch.norm(torch.cross(f1,f2))\n",
    "print(\"tz = \", tz)\n",
    "ty = torch.cross(tz,tx)\n",
    "print(\"ty = \", ty)"
   ]
  },
  {
   "cell_type": "code",
   "execution_count": 81,
   "metadata": {},
   "outputs": [
    {
     "name": "stdout",
     "output_type": "stream",
     "text": [
      "tx = tensor([ 0.1660,  0.1259, -0.9781], dtype=torch.float64)\n",
      "ty = tensor([-0.9857, -0.0088, -0.1684], dtype=torch.float64)\n",
      "tz = tensor([-0.0298,  0.9920,  0.1226], dtype=torch.float64)\n",
      "\n",
      "Vérification orthogonalité :\n",
      "tx · ty = -2.7755575615628914e-17\n",
      "tx · tz = -1.3877787807814457e-17\n",
      "ty · tz = -3.469446951953614e-18\n"
     ]
    },
    {
     "data": {
      "image/png": "[encoded data removed]",
      "text/plain": [
       "<Figure size 432x288 with 1 Axes>"
      ]
     },
     "metadata": {
      "needs_background": "light"
     },
     "output_type": "display_data"
    }
   ],
   "source": [
    "import numpy as np\n",
    "import matplotlib.pyplot as plt\n",
    "print(\"tx =\", tx)\n",
    "print(\"ty =\", ty)\n",
    "print(\"tz =\", tz)\n",
    "\n",
    "print(\"\\nVérification orthogonalité :\")\n",
    "print(\"tx · ty =\", np.dot(tx, ty))\n",
    "print(\"tx · tz =\", np.dot(tx, tz))\n",
    "print(\"ty · tz =\", np.dot(ty, tz))\n",
    "\n",
    "fig = plt.figure()\n",
    "ax = fig.add_subplot(111, projection='3d')\n",
    "\n",
    "origin = np.zeros(3)\n",
    "\n",
    "ax.quiver(*origin, *tx, color='r', label='tx')\n",
    "ax.quiver(*origin, *ty, color='g', label='ty')\n",
    "ax.quiver(*origin, *tz, color='b', label='tz')\n",
    "\n",
    "ax.set_xlim([-1, 1])\n",
    "ax.set_ylim([-1, 1])\n",
    "ax.set_zlim([-1, 1])\n",
    "\n",
    "ax.set_xlabel('X')\n",
    "ax.set_ylabel('Y')\n",
    "ax.set_zlabel('Z')\n",
    "ax.set_title('Base τ (tx, ty, tz)')\n",
    "ax.legend()\n",
    "plt.show()\n"
   ]
  },
  {
   "cell_type": "markdown",
   "metadata": {},
   "source": [
    "5.bis On crée la matrice de transformation T  "
   ]
  },
  {
   "cell_type": "code",
   "execution_count": 82,
   "metadata": {},
   "outputs": [
    {
     "name": "stdout",
     "output_type": "stream",
     "text": [
      "tx = \n",
      " tensor([[ 0.1660,  0.1259, -0.9781]], dtype=torch.float64)\n",
      "ty = \n",
      " tensor([[-0.9857, -0.0088, -0.1684]], dtype=torch.float64)\n",
      "tz = \n",
      " tensor([[-0.0298,  0.9920,  0.1226]], dtype=torch.float64)\n",
      "f3_T = \n",
      " tensor([ 0.9166,  0.3971, -0.0452], dtype=torch.float64)\n",
      "T = \n",
      " tensor([[ 0.1660,  0.1259, -0.9781],\n",
      "        [-0.9857, -0.0088, -0.1684],\n",
      "        [-0.0298,  0.9920,  0.1226]], dtype=torch.float64)\n"
     ]
    }
   ],
   "source": [
    "tx = torch.reshape(tx,(1,3))   # (1*3)\n",
    "ty = torch.reshape(ty,(1,3))\n",
    "tz = torch.reshape(tz,(1,3))\n",
    "\n",
    "# Computation of the matrix T and the feature vector f3\n",
    "T = torch.cat((tx,ty,tz),dim = 0) # (3*3)\n",
    "f3_T = torch.tensordot(T,f3, dims=1) # (3,)\n",
    "\n",
    "print(\"tx = \\n\", tx)\n",
    "print(\"ty = \\n\", ty)\n",
    "print(\"tz = \\n\", tz)\n",
    "print(\"f3_T = \\n\", f3_T)\n",
    "print(\"T = \\n\", T)"
   ]
  },
  {
   "cell_type": "markdown",
   "metadata": {},
   "source": [
    "Il faut satisfaire la condition que z dans f3_T est négative, sinon on inverse l'ordre des vecteur afin de .... "
   ]
  },
  {
   "cell_type": "code",
   "execution_count": 83,
   "metadata": {},
   "outputs": [],
   "source": [
    "# Having teta in [ 0, pi ] \n",
    "if f3_T[2] > 0 :\n",
    "    # We have teta in [ 0, pi ]\n",
    "    f1 = featuresVect[1]\n",
    "    print(\"f1 = \", f1)\n",
    "    f2 = featuresVect[0]\n",
    "    print(\"f2 = \", f2)\n",
    "    f3 = featuresVect[2]\n",
    "    print(\"f3 = \", f3)\n",
    "\n",
    "\n",
    "    # RE calculation of vectors of the base τ = (C,tx,ty,tz) to ensure orthogonality\n",
    "    tx = f1         # (3,)\n",
    "    tz = torch.cross(f1,f2)/torch.norm(torch.cross(f1,f2), dim=0)  # (3,)\n",
    "    ty = torch.cross(tz,tx)\n",
    "\n",
    "    tx = torch.reshape(tx,(1,3))   # (1*3)\n",
    "    prin(\"tx = \\n\", tx)\n",
    "    ty = torch.reshape(ty,(1,3))\n",
    "    print(\"ty = \\n\", ty)\n",
    "    tz = torch.reshape(tz,(1,3))\n",
    "    print(\"tz = \\n\", tz)\n",
    "\n",
    "    # Computation of the matrix T and the feature vector f3\n",
    "    T = torch.cat((tx,ty,tz),dim = 0) # (3*3)\n",
    "    print(\"T = \\n\", T) \n",
    "    f3_T= torch.tensordot(T,f3, dims=1) # (3,)"
   ]
  },
  {
   "cell_type": "markdown",
   "metadata": {},
   "source": [
    "6. on change de base du coté des points 3D"
   ]
  },
  {
   "cell_type": "code",
   "execution_count": 84,
   "metadata": {},
   "outputs": [
    {
     "name": "stdout",
     "output_type": "stream",
     "text": [
      "nx =  tensor([-0.5506,  0.0861, -0.8303], dtype=torch.float64)\n",
      "ny =  tensor([-0.7747, -0.4233,  0.4698], dtype=torch.float64)\n",
      "nz =  tensor([-0.3110,  0.9019,  0.2998], dtype=torch.float64)\n",
      "nx = \n",
      " tensor([[-0.5506,  0.0861, -0.8303]], dtype=torch.float64)\n",
      "ny = \n",
      " tensor([[-0.7747, -0.4233,  0.4698]], dtype=torch.float64)\n",
      "nz = \n",
      " tensor([[-0.3110,  0.9019,  0.2998]], dtype=torch.float64)\n",
      "torch.Size([3, 3])\n",
      "torch.float64\n",
      "CC tensor([-2.2385, -0.1139, -1.9801], dtype=torch.float64)\n",
      "N = \n",
      " tensor([[-0.5506,  0.0861, -0.8303],\n",
      "        [-0.7747, -0.4233,  0.4698],\n",
      "        [-0.3110,  0.9019,  0.2998]], dtype=torch.float64)\n",
      "P3_n = \n",
      " tensor([2.8668, 0.8521, 0.0000], dtype=torch.float64)\n"
     ]
    }
   ],
   "source": [
    "# Calculation of vectors of the base η = (P1,nx,ny,nz)\n",
    "nx = (P2 - P1)/torch.norm(P2 - P1)      #(3,)\n",
    "nz = torch.cross(nx,P3-P1)/torch.norm(torch.cross(nx,P3-P1), dim=0)  \n",
    "ny = torch.cross(nz,nx)\n",
    "print(\"nx = \", nx)\n",
    "print(\"ny = \", ny)\n",
    "print(\"nz = \", nz)\n",
    "\n",
    "# Reshape the vectors to (1,3) for concatenation\n",
    "nx = torch.reshape(nx,(1,3))  # (1,3)\n",
    "ny = torch.reshape(ny,(1,3))\n",
    "nz = torch.reshape(nz,(1,3))\n",
    "print(\"nx = \\n\", nx)\n",
    "print(\"ny = \\n\", ny)\n",
    "print(\"nz = \\n\", nz)\n",
    "\n",
    "# Computation of the matrix N and the world point P3\n",
    "N = torch.cat((nx,ny,nz),dim = 0) # (3*3) T's equivalent in the world coordinate system\n",
    "print(N.shape)\n",
    "print((P3-P1).dtype)\n",
    "print(\"CC\",P3-P1)\n",
    "\n",
    "P3_n = torch.tensordot(N,P3-P1, dims=1) # (3,)\n",
    "\n",
    "print(\"N = \\n\", N)\n",
    "print(\"P3_n = \\n\", P3_n)"
   ]
  },
  {
   "cell_type": "markdown",
   "metadata": {},
   "source": [
    "7. On définit des variable pour la suite"
   ]
  },
  {
   "cell_type": "code",
   "execution_count": null,
   "metadata": {},
   "outputs": [
    {
     "name": "stdout",
     "output_type": "stream",
     "text": [
      "phi1 =  -20.29127378614751\n",
      "phi2 =  -8.791396593921803\n",
      "p1 =  2.8668136593135083\n",
      "p2 =  0.8520744760720703\n",
      "d12 =  3.4152747766468217\n",
      "cosBeta =  0.9462521400867492\n",
      "b =  2.9256794072780483\n"
     ]
    }
   ],
   "source": [
    "# Computation of phi1 et phi2 with 0=x, 1=y, 2=z\n",
    "phi1 = f3_T[0]/f3_T[2]\n",
    "phi2 = f3_T[1]/f3_T[2]\n",
    "print(\"phi1 = \", phi1)\n",
    "print(\"phi2 = \", phi2)\n",
    "\n",
    "# Extraction of p1 and p2 from P3_eta\n",
    "p1 = P3_n[0] #x\n",
    "p2 = P3_n[1] #y\n",
    "print(\"p1 = \", p1)\n",
    "print(\"p2 = \", p2)\n",
    "\n",
    "# Computation of d12\n",
    "d12 = torch.norm(P2-P1)\n",
    "print(\"d12 = \", d12)\n",
    "\n",
    "# Computation of b = cot(beta)\n",
    "cosBeta = torch.dot(f1,f2)/(np.linalg.norm(f1)*np.linalg.norm(f2)) \n",
    "print(\"cosBeta = \", cosBeta)  \n",
    "b = np.sqrt(1/(1-cosBeta**2)-1)\n",
    "\n",
    "if cosBeta < 0 :\n",
    "    b = -b\n",
    "print(\"b = \", b)"
   ]
  },
  {
   "cell_type": "code",
   "execution_count": 16,
   "metadata": {},
   "outputs": [
    {
     "name": "stdout",
     "output_type": "stream",
     "text": [
      "a4 =  -258.3021202517885\n",
      "a3 =  214.06407775251841\n",
      "a2 =  -468.54012904994937\n",
      "a1 =  -228.47483485047505\n",
      "a0 =  653.6390577906441\n"
     ]
    }
   ],
   "source": [
    "a4 = - phi2**2 * p2**4 - phi1**2 * p2**4 - p2**4\n",
    "a3 = 2 * p2**3 * d12 * b + 2 * phi2**2 * p2**3 * d12 * b - 2 * phi1 * phi2 * p2**3 * d12\n",
    "a2 = - phi2**2 * p1**2 * p2**2 - phi2**2 * p2**2 * d12**2 * b**2 - phi2**2 * p2**2 * d12**2 + phi2**2 * p2**4 + phi1**2 * p2 **4 + 2 * p1 * p2**2 * d12 + 2 * phi1 * phi2 * p1 * p2**2 * d12 * b - phi1**2 * p1**2 * p2**2 + 2 * phi2**2 * p1 * p2**2 * d12 - p2**2 * d12**2 * b**2 - 2 * p1**2 * p2**2\n",
    "a1 = 2 * p1**2 * p2 * d12 * b + 2 * phi1 * phi2 * p2**3 * d12 - 2 * phi2**2 * p2**3 * d12 * b - 2 * p1 * p2 * d12**2 * b\n",
    "a0 = - 2 * phi1 * phi2 * p1 * p2**2 * d12 * b + phi2**2 * p2**2 * d12**2 + 2 * p1**3 * d12 - p1**2 * d12**2 + phi2**2 * p1**2 * p2**2 - p1**4 - 2 * phi2**2 * p1 * p2**2 * d12 + phi1**2 * p1**2 * p2**2 + phi2**2 * p2**2 * d12**2 * b**2\n",
    "\n",
    "print(\"a4 = \", a4)\n",
    "print(\"a3 = \", a3)\n",
    "print(\"a2 = \", a2)\n",
    "print(\"a1 = \", a1)\n",
    "print(\"a0 = \", a0)\n"
   ]
  },
  {
   "cell_type": "code",
   "execution_count": 17,
   "metadata": {},
   "outputs": [
    {
     "name": "stdout",
     "output_type": "stream",
     "text": [
      "roots = \n",
      " [ 0.4313253 +1.60436442j  0.4313253 -1.60436442j  0.94071362+0.j\n",
      " -0.97462895-0.j        ]\n"
     ]
    }
   ],
   "source": [
    "# Computation of the roots\n",
    "roots = polynomial_root_calculation_4th_degree_ferrari(np.array([a0,a1,a2,a3,a4])) # (4,)\n",
    "\n",
    "print(\"roots = \\n\", roots)"
   ]
  },
  {
   "cell_type": "code",
   "execution_count": 20,
   "metadata": {},
   "outputs": [],
   "source": [
    "# For each solution of the polynomial\n",
    "for i in range(4):\n",
    "  #if np.isclose(np.imag(roots[i]),0) : # if real solution \n",
    "\n",
    "    # Computation of trigonometrics forms\n",
    "    cos_teta = np.real(roots[i])\n",
    "    sin_teta = np.sqrt(1-cos_teta**2)\n",
    "\n",
    "    cot_alpha = ((phi1/phi2)*p1 + cos_teta*p2 -d12*b )/ ((phi1/phi2)*cos_teta* p2 - p1 + d12)\n",
    "\n",
    "    sin_alpha = np.sqrt(1/(cot_alpha**2+1))\n",
    "    cos_alpha= np.sqrt(1-sin_alpha**2)\n",
    "\n",
    "    if cot_alpha < 0 :\n",
    "      cos_alpha = -cos_alpha\n",
    "\n",
    "    # Computation of the intermediate rotation's matrixs\n",
    "    C = [d12*cos_alpha*(sin_alpha*b + cos_alpha), d12*sin_alpha*cos_teta*(sin_alpha*b+cos_alpha), d12*sin_alpha*sin_teta*(sin_alpha*b+cos_alpha)]     # (3,)\n",
    "    Q = [[-cos_alpha, -sin_alpha*cos_teta, -sin_alpha*sin_teta], [sin_alpha, -cos_alpha*cos_teta, -cos_alpha*sin_teta], [0, -sin_teta, cos_teta]]      # (3*3)\n",
    "\n",
    "    # Computation of the absolute camera center\n",
    "    C = P1 + np.transpose(N) @ C  # (3,)\n",
    "    C = C[:,np.newaxis]   # (3,1)\n",
    "\n",
    "    # Computation of the orientation matrix\n",
    "    R = np.transpose(N) @ np.transpose(Q) @ T   # (3*3)\n",
    "\n",
    "    # Adding C and R to the solutions\n",
    "    solutions[i,:,:1]= C\n",
    "    solutions[i,:,1:] = R\n",
    "\n",
    "\n"
   ]
  },
  {
   "cell_type": "code",
   "execution_count": 21,
   "metadata": {},
   "outputs": [
    {
     "name": "stdout",
     "output_type": "stream",
     "text": [
      "solutions = \n",
      " [[[ 9.83224841e-01  7.21398703e-01  5.36922132e-01  4.37376880e-01]\n",
      "  [ 7.51679051e-01 -6.54088592e-01  7.35743066e-01  1.75642405e-01]\n",
      "  [ 2.83875073e+00 -2.27490712e-01 -4.12791431e-01  8.81958735e-01]]\n",
      "\n",
      " [[ 9.83224841e-01  7.21398703e-01  5.36922132e-01  4.37376880e-01]\n",
      "  [ 7.51679051e-01 -6.54088592e-01  7.35743066e-01  1.75642405e-01]\n",
      "  [ 2.83875073e+00 -2.27490712e-01 -4.12791431e-01  8.81958735e-01]]\n",
      "\n",
      " [[ 1.02140518e-14  1.00000000e+00  5.08993741e-15  2.38264186e-15]\n",
      "  [ 2.03170814e-14 -5.06323217e-15  1.00000000e+00  3.61729435e-15]\n",
      "  [ 6.00000000e+00 -2.37109070e-15 -3.65269861e-15  1.00000000e+00]]\n",
      "\n",
      " [[-1.25864955e+00  8.47829541e-01  5.19199262e-01 -1.07783094e-01]\n",
      "  [ 2.26707244e+00  5.27913852e-01 -8.07308662e-01  2.63741710e-01]\n",
      "  [-3.99101139e+00  4.99202756e-02 -2.80508201e-01 -9.58552615e-01]]]\n"
     ]
    }
   ],
   "source": [
    "print(\"solutions = \\n\", solutions)"
   ]
  },
  {
   "cell_type": "code",
   "execution_count": null,
   "metadata": {},
   "outputs": [
    {
     "name": "stdout",
     "output_type": "stream",
     "text": [
      "p1 =  [[  5.7938345 ]\n",
      " [-18.41125529]]\n",
      "p2 =  [[31.12103871]\n",
      " [-8.53578256]]\n",
      "p3 =  [[ 34.60807743]\n",
      " [-10.65283124]]\n",
      "p4 =  [[ 34.60807743]\n",
      " [-10.65283124]]\n"
     ]
    }
   ],
   "source": [
    "def projection3D2D(point3D,C,R,A) :\n",
    "  # 3D point = [ Xw, Yw, Zw ]'   (1*3)\n",
    "  # T : camera translation matrix : (3*1)\n",
    "  # R : camera rotation matrix : (3*3)\n",
    "  # A : intraseca matrix of the camera : (3*3)\n",
    "  # Output : return the coordonates of the point in 2D \n",
    "\n",
    "  PI = np.concatenate((np.eye(3),np.zeros((3,1))),axis=1)  # (3*4)\n",
    "  \n",
    "  Rt = np.concatenate((R,C),axis=1)               # (3*4)\n",
    "  Rt = np.concatenate((Rt,np.array([[0,0,0,1]])),axis=0)   # (4*4)\n",
    "\n",
    "  point3D_bis = np.concatenate((np.reshape(point3D,(3,1)),np.array([[1]])),axis=0)   #(4*1)\n",
    " \n",
    "  point2D = A @ PI @ Rt @ point3D_bis   # 2D point = [u, v, w] (3*1)\n",
    "  point2D = point2D / point2D[2]        # 2D point = [u, v, 1] (3*1)\n",
    "  return point2D[:2]\n",
    "\n",
    "\n",
    "# Example usage of the projection function\n",
    "p1 = projection3D2D(points3D[0],C,R,A)\n",
    "print(\"p1 = \", p1)\n",
    "p2 = projection3D2D(points3D[1],C,R,A)\n",
    "print(\"p2 = \", p2)\n",
    "p3 = projection3D2D(points3D[2],C,R,A)\n",
    "print(\"p3 = \", p3)\n",
    "P4 = np.array([-1.5224, 0.4292, -0.1994])\n",
    "p4 = projection3D2D(P4,C,R,A)\n",
    "print(\"p4 = \", p4)\n",
    "new_points3D = np.concatenate((points3D, P4.reshape(1, 3)), axis=0)\n",
    "\n"
   ]
  },
  {
   "cell_type": "code",
   "execution_count": 34,
   "metadata": {},
   "outputs": [],
   "source": [
    "def distance(pt, pt_estimation):\n",
    "    erreur = 0\n",
    "    for i in range(len(pt)):\n",
    "      erreur += (pt[i] - pt_estimation[i])**2\n",
    "    return np.sqrt(erreur)\n",
    "\n",
    "\n",
    "\n",
    "def affichage_erreur(solutions,points2D,points3D,A) : \n",
    "   # Compute the error of estimation for each points after the P3P algorithm \n",
    "\n",
    "   # solutions : solution matrix returned by P3P (4*3*4)\n",
    "   # points 3D : 4 pts 3D used for P3P \n",
    "   # points 2D : 4 pts 2D used for P3P (image of the 3D points)\n",
    "   \n",
    "   P1 = points3D[0]\n",
    "   P2 = points3D[1]\n",
    "   P3 = points3D[2]\n",
    "   P4 = points3D[3]\n",
    "\n",
    "   erreurs = []\n",
    "   nb_sol = 0\n",
    "\n",
    "   for i in range(len(solutions)) : \n",
    "      R = solutions[i,:,1:] \n",
    "      C = solutions[i,:,:1]\n",
    "\n",
    "      if not np.all(R==np.zeros((3,3))) : \n",
    "        nb_sol += 1 \n",
    "        print(\"------------ Solution n° : \",nb_sol,\"----------------\")\n",
    "        print(\"R = \\n\",R,)\n",
    "        print(\"T = \\n\",C,)\n",
    "\n",
    "        p1_P3P = np.reshape(projection3D2D(P1,C,R,A),(1,2))\n",
    "        p2_P3P = np.reshape(projection3D2D(P2,C,R,A),(1,2))\n",
    "        p3_P3P = np.reshape(projection3D2D(P3,C,R,A),(1,2))\n",
    "        p4_P3P = np.reshape(projection3D2D(P4,C,R,A),(1,2))\n",
    "        pt_2D_P3P = np.concatenate((p1_P3P,p2_P3P,p3_P3P,p4_P3P),axis=0)    # (4,2)\n",
    "\n",
    "        erreurs.append([0])\n",
    "        for j in range(len(points2D)):\n",
    "            erreur_pt = distance(points2D[j],pt_2D_P3P[j])\n",
    "            print(\"erreur_pt\",j,\" = \",erreur_pt)\n",
    "            erreurs[i]+=erreur_pt\n",
    "        \n",
    "   indice_min = 0\n",
    "   min = erreurs[0]\n",
    "   for i in range(1,len(erreurs)) :\n",
    "    if erreurs[i]<min :\n",
    "      min = erreurs[i]\n",
    "      indice_min = i\n",
    "\n",
    "   R_opti = solutions[indice_min,:,1:] \n",
    "   C_opti = solutions[indice_min,:,:1]\n",
    "   print(\"\\n------------ Best solution : ----------------\")\n",
    "   print(\"Solution n° :\",indice_min+1,\"\\n\")\n",
    "   print(\"R estimé = \\n\", R_opti,\"\\n\")\n",
    "   print(\"T estimé = \\n\", C_opti, \"\\n\")"
   ]
  },
  {
   "cell_type": "code",
   "execution_count": 35,
   "metadata": {},
   "outputs": [
    {
     "name": "stdout",
     "output_type": "stream",
     "text": [
      "------------ Solution n° :  1 ----------------\n",
      "R = \n",
      " [[ 0.7213987   0.53692213  0.43737688]\n",
      " [-0.65408859  0.73574307  0.17564241]\n",
      " [-0.22749071 -0.41279143  0.88195873]]\n",
      "T = \n",
      " [[0.98322484]\n",
      " [0.75167905]\n",
      " [2.83875073]]\n",
      "erreur_pt 0  =  [43.13882519]\n",
      "erreur_pt 1  =  [57.68967664]\n",
      "erreur_pt 2  =  [51.97281155]\n",
      "erreur_pt 3  =  [51.97281155]\n",
      "------------ Solution n° :  2 ----------------\n",
      "R = \n",
      " [[ 0.7213987   0.53692213  0.43737688]\n",
      " [-0.65408859  0.73574307  0.17564241]\n",
      " [-0.22749071 -0.41279143  0.88195873]]\n",
      "T = \n",
      " [[0.98322484]\n",
      " [0.75167905]\n",
      " [2.83875073]]\n",
      "erreur_pt 0  =  [43.13882519]\n",
      "erreur_pt 1  =  [57.68967664]\n",
      "erreur_pt 2  =  [51.97281155]\n",
      "erreur_pt 3  =  [51.97281155]\n",
      "------------ Solution n° :  3 ----------------\n",
      "R = \n",
      " [[ 1.00000000e+00  5.08993741e-15  2.38264186e-15]\n",
      " [-5.06323217e-15  1.00000000e+00  3.61729435e-15]\n",
      " [-2.37109070e-15 -3.65269861e-15  1.00000000e+00]]\n",
      "T = \n",
      " [[1.02140518e-14]\n",
      " [2.03170814e-14]\n",
      " [6.00000000e+00]]\n",
      "erreur_pt 0  =  [21.20503283]\n",
      "erreur_pt 1  =  [47.76736406]\n",
      "erreur_pt 2  =  [52.16290395]\n",
      "erreur_pt 3  =  [52.16290395]\n",
      "------------ Solution n° :  4 ----------------\n",
      "R = \n",
      " [[ 0.84782954  0.51919926 -0.10778309]\n",
      " [ 0.52791385 -0.80730866  0.26374171]\n",
      " [ 0.04992028 -0.2805082  -0.95855261]]\n",
      "T = \n",
      " [[-1.25864955]\n",
      " [ 2.26707244]\n",
      " [-3.99101139]]\n",
      "erreur_pt 0  =  [0.]\n",
      "erreur_pt 1  =  [0.]\n",
      "erreur_pt 2  =  [0.]\n",
      "erreur_pt 3  =  [0.]\n",
      "\n",
      "------------ Best solution : ----------------\n",
      "Solution n° : 4 \n",
      "\n",
      "R estimé = \n",
      " [[ 0.84782954  0.51919926 -0.10778309]\n",
      " [ 0.52791385 -0.80730866  0.26374171]\n",
      " [ 0.04992028 -0.2805082  -0.95855261]] \n",
      "\n",
      "T estimé = \n",
      " [[-1.25864955]\n",
      " [ 2.26707244]\n",
      " [-3.99101139]] \n",
      "\n"
     ]
    }
   ],
   "source": [
    "affichage_erreur(solutions, [p1, p2, p3, p4], new_points3D, A)"
   ]
  }
 ],
 "metadata": {
  "kernelspec": {
   "display_name": "yolov5_env",
   "language": "python",
   "name": "python3"
  },
  "language_info": {
   "codemirror_mode": {
    "name": "ipython",
    "version": 3
   },
   "file_extension": ".py",
   "mimetype": "text/x-python",
   "name": "python",
   "nbconvert_exporter": "python",
   "pygments_lexer": "ipython3",
   "version": "3.8.20"
  }
 },
 "nbformat": 4,
 "nbformat_minor": 2
}
