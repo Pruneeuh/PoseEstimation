{
  "nbformat": 4,
  "nbformat_minor": 0,
  "metadata": {
    "colab": {
      "provenance": []
    },
    "kernelspec": {
      "name": "python3",
      "display_name": "Python 3"
    },
    "language_info": {
      "name": "python"
    }
  },
  "cells": [
    {
      "cell_type": "code",
      "execution_count": 20,
      "metadata": {
        "id": "nCteTBDNzd4Q",
        "colab": {
          "base_uri": "https://localhost:8080/"
        },
        "outputId": "094e6859-dc69-48d9-af56-c222c8dcc7b3"
      },
      "outputs": [
        {
          "output_type": "stream",
          "name": "stdout",
          "text": [
            "[[ 215.56959031]\n",
            " [-382.34687755]\n",
            " [  51.97476212]]\n"
          ]
        }
      ],
      "source": [
        "#include <opencv2/calib3d.hpp>\n",
        "import numpy as np\n",
        "import cv2\n",
        "\n",
        "# Définition des paramètres intrasèques de la caméra\n",
        "  # focale\n",
        "fx = 60\n",
        "fy = 40\n",
        "  # centre\n",
        "cx = 0\n",
        "cy = 0\n",
        "\n",
        "A = np.array([[fx, 0, cx], [0, fy, cy], [0, 0, 1]]) # matrice intrasèque de la caméra (3*3)\n",
        "\n",
        "# Génération de 3 angles aléatoire pour définir la rotation\n",
        "rax,pitch,yaw = np.random.uniform(0,2*np.pi,size=3)\n",
        "\n",
        "# Génération de la matrice de rotation\n",
        "\n",
        "Rx = np.array([[1,0,0],[0, np.cos(rax), -np.sin(rax)],[0, np.sin(rax), np.cos(rax)]])\n",
        "Ry = np.array([[np.cos(pitch), 0, np.sin(pitch)],[0,1,0],[-np.sin(pitch),0, np.cos(pitch)]])\n",
        "Rz = np.array([[np.cos(yaw), -np.sin(yaw),0],[np.sin(yaw),np.cos(yaw),0],[0,0,1]])\n",
        "\n",
        "R = Rz @ Ry @ Rx  # matrice de rotation (3*3)\n",
        "\n",
        "# Génération de la translation de la caméra\n",
        "T = np.random.uniform(-500,500,size=3)     # T = [tx,ty,tz]  (1*3)\n",
        "T = T.reshape((3,1))                       # (3*1)\n",
        "\n",
        "print(T)"
      ]
    },
    {
      "cell_type": "code",
      "source": [
        "# Projection d'un point 3D vers 2D\n",
        "def projection3D2D(point3D,T,R,A) :\n",
        "  # point 3D = [ Xw, Yw, Zw ]'   (1*3)\n",
        "  # T : matrice de translation de la caméra : (3*1)\n",
        "  # R : matrice de rotation : (3*3)\n",
        "  # A : matrice intrasèque de la caméra : (3*3)\n",
        "\n",
        "  PI = np.concatenate((np.eye(3),np.zeros((3,1))),axis=1)  # (3*4)\n",
        "\n",
        "  Rt = np.concatenate((R,T),axis=1)               # (3*4)\n",
        "  Rt = np.concatenate((Rt,np.array([[0,0,0,1]])),axis=0)   # (4*4)\n",
        "\n",
        "  point3D_bis = np.concatenate((np.reshape(point3D,(3,1)),np.array([[1]])),axis=0)   #(4*1)\n",
        "\n",
        "  point2D = A @ PI @ Rt @ point3D_bis   # point 2D = [u, v, w] (3*1)\n",
        "  point2D = point2D / point2D[2]        # point 2D = [u, v, 1] (3*1)\n",
        "  return point2D[:2]\n",
        "\n",
        "pt3D = [[3],[1],[4]]\n",
        "print(\"point 3D :\\n \", pt3D)\n",
        "pt2D = projection3D2D(pt3D,T,R,A)\n",
        "print(\"point 2D :\\n\", pt2D)"
      ],
      "metadata": {
        "colab": {
          "base_uri": "https://localhost:8080/"
        },
        "id": "keXsHSn3aC8Y",
        "outputId": "31532796-3f0b-495b-d131-5e1db37701de"
      },
      "execution_count": 55,
      "outputs": [
        {
          "output_type": "stream",
          "name": "stdout",
          "text": [
            "point 3D :\n",
            "  [[3], [1], [4]]\n",
            "point 2D :\n",
            " [[ 246.04225531]\n",
            " [-297.41503819]]\n"
          ]
        }
      ]
    },
    {
      "cell_type": "code",
      "source": [
        "# Création des couples de point 2D,3D\n",
        "def point3Daleatoire() :\n",
        "  return np.array([[np.random.uniform(-500,500),np.random.uniform(-500,500),np.random.uniform(-500,500)]])\n",
        "\n",
        "# points 3D\n",
        "P1 = point3Daleatoire()     # (1*3) -> pour P3P\n",
        "P2 = point3Daleatoire()\n",
        "P3 = point3Daleatoire()\n",
        "P4 = point3Daleatoire()\n",
        "\n",
        "print(np.shape(P1))\n",
        "print(\"P1\\n\",P1)\n",
        "points3D = np.concatenate((P1,P2,P3),axis=0);     # (3*3)\n",
        "print(\"pt3D\\n\",points3D)\n",
        "\n",
        "# point 2D\n",
        "p1 = projection3D2D(P1,T,R,A)   # (2*1)\n",
        "p2 = projection3D2D(P2,T,R,A)\n",
        "p3 = projection3D2D(P3,T,R,A)\n",
        "p4 = projection3D2D(P4,T,R,A)\n",
        "\n",
        "\n",
        "points2D = np.concatenate((p1,p2,p3),axis=1);    # (2*3)\n",
        "print(\"pt2D\\n\",points2D)\n",
        "# Application de solveP3P pour retrouver la position de la caméra\n",
        "retval, rvec, tvecs =  cv2.solveP3P(points3D,points2D,A,None, flags = 0 )\n",
        "\n",
        "\n",
        "# Mesure de l'erreur d'estimation\n",
        "def erreur_estimation(R,T,R_P3P,T_P3P):\n",
        "  erreur = 0\n",
        "  for i in range(np.shape(R,1)) :\n",
        "    for j in range(np.shape(R,2)):\n",
        "      erreur += (R[i,j] - R_P3P[i,j])**2\n",
        "  for i in range(np.shape(T,1)):\n",
        "    erreur += (T[i] - T_P3P[i])**2\n",
        "  return np.sqrt(erreur)\n"
      ],
      "metadata": {
        "colab": {
          "base_uri": "https://localhost:8080/",
          "height": 401
        },
        "id": "cNp-SeqFbsLR",
        "outputId": "96dbc58c-0d24-49ad-9536-9e19f5ed97c8"
      },
      "execution_count": 59,
      "outputs": [
        {
          "output_type": "stream",
          "name": "stdout",
          "text": [
            "(1, 3)\n",
            "P1\n",
            " [[  66.80110072 -417.18855951  218.63686809]]\n",
            "pt3D\n",
            " [[  66.80110072 -417.18855951  218.63686809]\n",
            " [ 463.78084932   16.66928994  244.86760743]\n",
            " [ 433.97096202   62.13032291  369.026299  ]]\n",
            "pt2D\n",
            " [[ -28.24092247  -86.27407179 -220.91489487]\n",
            " [ 256.61599718  -89.22673852 -160.10439117]]\n"
          ]
        },
        {
          "output_type": "error",
          "ename": "error",
          "evalue": "OpenCV(4.11.0) /io/opencv/modules/calib3d/src/solvepnp.cpp:421: error: (-215:Assertion failed) npoints == std::max(ipoints.checkVector(2, CV_32F), ipoints.checkVector(2, CV_64F)) in function 'solveP3P'\n",
          "traceback": [
            "\u001b[0;31m---------------------------------------------------------------------------\u001b[0m",
            "\u001b[0;31merror\u001b[0m                                     Traceback (most recent call last)",
            "\u001b[0;32m<ipython-input-59-3316032786>\u001b[0m in \u001b[0;36m<cell line: 0>\u001b[0;34m()\u001b[0m\n\u001b[1;32m     24\u001b[0m \u001b[0mprint\u001b[0m\u001b[0;34m(\u001b[0m\u001b[0;34m\"pt2D\\n\"\u001b[0m\u001b[0;34m,\u001b[0m\u001b[0mpoints2D\u001b[0m\u001b[0;34m)\u001b[0m\u001b[0;34m\u001b[0m\u001b[0;34m\u001b[0m\u001b[0m\n\u001b[1;32m     25\u001b[0m \u001b[0;31m# Application de solveP3P pour retrouver la position de la caméra\u001b[0m\u001b[0;34m\u001b[0m\u001b[0;34m\u001b[0m\u001b[0m\n\u001b[0;32m---> 26\u001b[0;31m \u001b[0mretval\u001b[0m\u001b[0;34m,\u001b[0m \u001b[0mrvec\u001b[0m\u001b[0;34m,\u001b[0m \u001b[0mtvecs\u001b[0m \u001b[0;34m=\u001b[0m  \u001b[0mcv2\u001b[0m\u001b[0;34m.\u001b[0m\u001b[0msolveP3P\u001b[0m\u001b[0;34m(\u001b[0m\u001b[0mpoints3D\u001b[0m\u001b[0;34m,\u001b[0m\u001b[0mpoints2D\u001b[0m\u001b[0;34m,\u001b[0m\u001b[0mA\u001b[0m\u001b[0;34m,\u001b[0m\u001b[0;32mNone\u001b[0m\u001b[0;34m,\u001b[0m \u001b[0mflags\u001b[0m \u001b[0;34m=\u001b[0m \u001b[0;36m0\u001b[0m \u001b[0;34m)\u001b[0m\u001b[0;34m\u001b[0m\u001b[0;34m\u001b[0m\u001b[0m\n\u001b[0m\u001b[1;32m     27\u001b[0m \u001b[0;34m\u001b[0m\u001b[0m\n\u001b[1;32m     28\u001b[0m \u001b[0;34m\u001b[0m\u001b[0m\n",
            "\u001b[0;31merror\u001b[0m: OpenCV(4.11.0) /io/opencv/modules/calib3d/src/solvepnp.cpp:421: error: (-215:Assertion failed) npoints == std::max(ipoints.checkVector(2, CV_32F), ipoints.checkVector(2, CV_64F)) in function 'solveP3P'\n"
          ]
        }
      ]
    }
  ]
}