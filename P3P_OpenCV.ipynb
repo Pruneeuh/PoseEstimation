{
  "nbformat": 4,
  "nbformat_minor": 0,
  "metadata": {
    "colab": {
      "provenance": []
    },
    "kernelspec": {
      "name": "python3",
      "display_name": "Python 3"
    },
    "language_info": {
      "name": "python"
    }
  },
  "cells": [
    {
      "cell_type": "code",
      "execution_count": 699,
      "metadata": {
        "id": "nCteTBDNzd4Q",
        "colab": {
          "base_uri": "https://localhost:8080/"
        },
        "outputId": "0b137aed-0730-4946-8f3d-bbc511fd91de"
      },
      "outputs": [
        {
          "output_type": "stream",
          "name": "stdout",
          "text": [
            "R= [[ 1  0  0]\n",
            " [ 0 -1  0]\n",
            " [ 0  0 -1]] \n",
            "\n",
            "T= [[0]\n",
            " [0]\n",
            " [6]] \n",
            "\n"
          ]
        }
      ],
      "source": [
        "import numpy as np\n",
        "import cv2\n",
        "#np.random.seed(2)   # block the random\n",
        "\n",
        "# Definition of the camera parameters\n",
        "  # focal length\n",
        "fx = 800\n",
        "fy = 800\n",
        "  # center\n",
        "cx = 0\n",
        "cy = 0\n",
        "\n",
        "A = np.array([[fx, 0, cx], [0, fy, cy], [0, 0, 1]]) # intraseca matrix of the camera (3*3)\n",
        "\n",
        "# Generation of 3 random angles to define the rotation\n",
        "rax,pitch,yaw = np.random.uniform(0,np.pi,size=3)\n",
        "\n",
        "# Generation of the rotation matrix\n",
        "\n",
        "'''Rx = np.array([[1,0,0],[0, np.cos(rax), -np.sin(rax)],[0, np.sin(rax), np.cos(rax)]])\n",
        "Ry = np.array([[np.cos(pitch), 0, np.sin(pitch)],[0,1,0],[-np.sin(pitch),0, np.cos(pitch)]])\n",
        "Rz = np.array([[np.cos(yaw), -np.sin(yaw),0],[np.sin(yaw),np.cos(yaw),0],[0,0,1]])\n",
        "\n",
        "R = Rz @ Ry @ Rx  # rotation matrix  (3*3)'''\n",
        "R = np.array([[1, 0, 0],[0, -1, 0], [0, 0, -1]])  # with the values of the Kneip's article  (3*3)\n",
        "print(\"R=\",R,\"\\n\")\n",
        "\n",
        "# Generation of the camera translation\n",
        "#T = np.random.uniform(-500,500,size=3)     # T = [tx,ty,tz]  (1*3)\n",
        "T = np.array([0,0,6])                       # with the values of the Kneip's article\n",
        "T = T.reshape((3,1))                       # (3*1)\n",
        "\n",
        "print(\"T=\",T,\"\\n\")"
      ]
    },
    {
      "cell_type": "code",
      "source": [
        "# Projection from a 3D point to a 2D\n",
        "\n",
        "def projection3D2D(point3D,T,R,A) :\n",
        "  # 3D point = [ Xw, Yw, Zw ]'   (1*3)\n",
        "  # T : camera translation matrix : (3*1)\n",
        "  # R : camera rotation matrix : (3*3)\n",
        "  # A : intraseca matrix of the camera : (3*3)\n",
        "\n",
        "  PI = np.concatenate((np.eye(3),np.zeros((3,1))),axis=1)  # (3*4)\n",
        "\n",
        "  Rt = np.concatenate((R,T),axis=1)               # (3*4)\n",
        "  Rt = np.concatenate((Rt,np.array([[0,0,0,1]])),axis=0)   # (4*4)\n",
        "\n",
        "  point3D_bis = np.concatenate((np.reshape(point3D,(3,1)),np.array([[1]])),axis=0)   #(4*1)\n",
        "\n",
        "  point2D = A @ PI @ Rt @ point3D_bis   # 2D point = [u, v, w] (3*1)\n",
        "  point2D = point2D / point2D[2]        # 2D point = [u, v, 1] (3*1)\n",
        "  return point2D[:2]\n",
        "\n",
        "'''pt3D = [[3],[1],[4]]\n",
        "print(\"point 3D :\\n \", pt3D)\n",
        "pt2D = projection3D2D(pt3D,T,R,A)\n",
        "print(\"point 2D :\\n\", pt2D)'''"
      ],
      "metadata": {
        "colab": {
          "base_uri": "https://localhost:8080/",
          "height": 36
        },
        "id": "keXsHSn3aC8Y",
        "outputId": "f359e254-3896-48e0-e81d-b8bdc7457f57"
      },
      "execution_count": 700,
      "outputs": [
        {
          "output_type": "execute_result",
          "data": {
            "text/plain": [
              "'pt3D = [[3],[1],[4]]\\nprint(\"point 3D :\\n \", pt3D)\\npt2D = projection3D2D(pt3D,T,R,A)\\nprint(\"point 2D :\\n\", pt2D)'"
            ],
            "application/vnd.google.colaboratory.intrinsic+json": {
              "type": "string"
            }
          },
          "metadata": {},
          "execution_count": 700
        }
      ]
    },
    {
      "cell_type": "code",
      "source": [
        "# test of collinearity\n",
        "def areCollineary(P1,P2,P3) :\n",
        "  # return true if P1, P2 and P3 are collineary\n",
        "  return np.linalg.norm(crossproduct(P1,P2,P3))==0\n",
        "\n",
        "def crossproduct(P1,P2,P3) :\n",
        "  v1 = P2 - P1\n",
        "  v2 = P3 - P1\n",
        "  return np.cross(v1,v2)\n"
      ],
      "metadata": {
        "id": "P_BHmRVA3GG6"
      },
      "execution_count": 701,
      "outputs": []
    },
    {
      "cell_type": "code",
      "source": [
        "# Creation of 2D, 3D point couples\n",
        "def point3Daleatoire() :\n",
        "  return np.array([[np.random.uniform(-2,2),np.random.uniform(-2,2),np.random.uniform(-2,2)]])\n",
        "\n",
        "# 3D points\n",
        "  # random :\n",
        "P1 = point3Daleatoire()     # (1*3) -> pour P3P\n",
        "P2 = point3Daleatoire()\n",
        "P3 = point3Daleatoire()\n",
        "P4 = point3Daleatoire()\n",
        "  # set\n",
        "'''P1 = np.array([[-150,150,1]],dtype=np.float32)\n",
        "P2 = np.array([[162,-162,1]],dtype=np.float32)\n",
        "P3 = np.array([[-162,-162,1]],dtype=np.float32)\n",
        "P4 = np.array([[162,162,1]],dtype=np.float32)'''\n",
        "\n",
        "\n",
        "points3D = np.concatenate((P1,P2,P3),axis=0);     # (3*3)\n",
        "print(\"pt3D\\n\",points3D,\"\\n\")\n",
        "print(\"Collinear points : \", areCollineary(P1,P2,P3))\n",
        "print(\"v1 x v2 = \",crossproduct(P1,P2,P3),\"\\n\")\n",
        "\n",
        "# 2D points\n",
        "p1 = projection3D2D(P1,T,R,A)   # (2*1)\n",
        "p1 = np.reshape(p1,(1,2))       # (1,2)\n",
        "p2 = projection3D2D(P2,T,R,A)\n",
        "p2 = np.reshape(p2,(1,2))\n",
        "p3 = projection3D2D(P3,T,R,A)\n",
        "p3 = np.reshape(p3,(1,2))\n",
        "p4 = projection3D2D(P4,T,R,A)\n",
        "p4 = np.reshape(p4,(1,2))\n",
        "\n",
        "\n",
        "points2D = np.concatenate((p1,p2,p3),axis=0);    # (3*2)\n",
        "print(\"pt2D\\n\",points2D)\n",
        "\n",
        "# Application of solveP3P to find the camera position\n",
        "retval, rvec, tvecs =  cv2.solveP3P(points3D,points2D,A,None, flags = cv2.SOLVEPNP_P3P)\n",
        "\n",
        "rvec = np.array(rvec)\n",
        "tvecs = np.array(tvecs)\n"
      ],
      "metadata": {
        "colab": {
          "base_uri": "https://localhost:8080/"
        },
        "id": "cNp-SeqFbsLR",
        "outputId": "8de795a9-61ae-4bd6-e9c2-e5e6895a4ad6"
      },
      "execution_count": 702,
      "outputs": [
        {
          "output_type": "stream",
          "name": "stdout",
          "text": [
            "pt3D\n",
            " [[-0.46705241  0.15076857 -1.70193688]\n",
            " [-0.97258605 -0.29381574 -0.90944531]\n",
            " [ 0.25250955  1.24455948  1.12996462]] \n",
            "\n",
            "Collinear points :  False\n",
            "v1 x v2 =  [[-2.12583904  2.00186827 -0.23304215]] \n",
            "\n",
            "pt2D\n",
            " [[ -48.5127225   -15.66032751]\n",
            " [-112.60945073   34.01902436]\n",
            " [  41.4797065  -204.44360386]]\n"
          ]
        }
      ]
    },
    {
      "cell_type": "code",
      "source": [
        "# Calculation of the estimation error :\n",
        "def distance(pt, pt_estimation):\n",
        "    erreur = 0\n",
        "    for i in range(len(pt)):\n",
        "      erreur += (pt[i] - pt_estimation[i])**2\n",
        "    return np.sqrt(erreur)"
      ],
      "metadata": {
        "id": "q61jZ8i1LSoT"
      },
      "execution_count": 703,
      "outputs": []
    },
    {
      "cell_type": "code",
      "source": [
        "\n",
        "\n",
        "# Measurement of the estimation error\n",
        "nb_solutions = len(rvec)\n",
        "print(\"nombre de solutions trouvées =\", nb_solutions)\n",
        "\n",
        "erreurs = []\n",
        "\n",
        "for i in range (nb_solutions):\n",
        "  print(\"\\nSolution \",i+1, \":\\n\")\n",
        "\n",
        "  # Recovery of rotation and translation matrices\n",
        "\n",
        "  rodriguez = rvec[i]     # (3*1)\n",
        "  R_P3P = cv2.Rodrigues(rodriguez)[0]    # rotation matrix : (3*3)\n",
        "  print(\"R_P3P=\",R_P3P,\"\\n\")\n",
        "\n",
        "  T_P3P = tvecs[i]    # translation matrix : (1*3)\n",
        "  T_P3P = np.reshape(T_P3P,(3,1))    # (3*1)\n",
        "  print(\"T=\",T_P3P,\"\\n\")\n",
        "\n",
        "\n",
        "  # Point estimation\n",
        "  p1_P3P = np.reshape(projection3D2D(P1,T_P3P,R_P3P,A),(1,2))\n",
        "\n",
        "  p2_P3P = np.reshape(projection3D2D(P2,T_P3P,R_P3P,A),(1,2))\n",
        "  p3_P3P = np.reshape(projection3D2D(P3,T_P3P,R_P3P,A),(1,2))\n",
        "  p4_P3P = np.reshape(projection3D2D(P4,T_P3P,R_P3P,A),(1,2))\n",
        "\n",
        "  # Creation of a table of estimated points\n",
        "  pt_2D_P3P = np.concatenate((p1_P3P,p2_P3P,p3_P3P,p4_P3P),axis=0)    # (4,2)\n",
        "  print(\"pt_2D_P3P = \",pt_2D_P3P,\"\\n\")\n",
        "\n",
        "  # Creation of a table of original points\n",
        "\n",
        "  pt_2D = np.concatenate((p1,p2,p3,p4),axis=0)    # (4,2)\n",
        "  print(\"pt_2D = \",pt_2D)\n",
        "\n",
        "  # Calculation of the estimation error\n",
        "  erreurs.append([0])\n",
        "  for j in range(len(pt_2D)):\n",
        "    erreur_pt = distance(pt_2D[j],pt_2D_P3P[j])\n",
        "    print(\"erreur = \",erreur_pt)\n",
        "    erreurs[i]+=erreur_pt\n",
        "\n",
        "# Fin de best solution\n",
        "if nb_solutions > 0 :\n",
        "  indice_max = 0\n",
        "  max = erreurs[0]\n",
        "  for i in range(1,len(erreurs)) :\n",
        "    if erreurs[i]>max :\n",
        "      max = erreurs[i]\n",
        "      indice_max = i\n",
        "\n",
        "  rodriguez = rvec[indice_max]\n",
        "  R_estime = cv2.Rodrigues(rodriguez)[0]\n",
        "  T_estime = tvecs[indice_max]    # translation matrix : (1*3)\n",
        "  T_estime = np.reshape(T_P3P,(3,1))\n",
        "\n",
        "  print(\"\\n R estimé = \", R_estime,\"\\n\")\n",
        "  print(\"T estimé = \", T_estime, \"\\n\")\n",
        "\n"
      ],
      "metadata": {
        "colab": {
          "base_uri": "https://localhost:8080/"
        },
        "id": "TX4KNBJFBtd-",
        "outputId": "3d100a12-48d9-4479-a929-ada460b18164"
      },
      "execution_count": 704,
      "outputs": [
        {
          "output_type": "stream",
          "name": "stdout",
          "text": [
            "nombre de solutions trouvées = 2\n",
            "\n",
            "Solution  1 :\n",
            "\n",
            "R_P3P= [[-0.12388375  0.98413335 -0.12702114]\n",
            " [-0.94192091 -0.15689482 -0.29693267]\n",
            " [-0.3121503   0.08285873  0.9464125 ]] \n",
            "\n",
            "T= [[-0.68956552]\n",
            " [-1.00786965]\n",
            " [ 5.85784388]] \n",
            "\n",
            "pt_2D_P3P =  [[ -48.5127225   -15.66032752]\n",
            " [-112.60945073   34.01902436]\n",
            " [  41.4797065  -204.44360386]\n",
            " [-222.13110236   26.53449169]] \n",
            "\n",
            "pt_2D =  [[ -48.5127225   -15.66032751]\n",
            " [-112.60945073   34.01902436]\n",
            " [  41.4797065  -204.44360386]\n",
            " [-161.70186278  167.18764868]]\n",
            "erreur =  2.091924399038796e-09\n",
            "erreur =  2.729804781487637e-09\n",
            "erreur =  2.4120353708654445e-09\n",
            "erreur =  153.08495539052547\n",
            "\n",
            "Solution  2 :\n",
            "\n",
            "R_P3P= [[ 1.0000000e+00 -0.0000000e+00  0.0000000e+00]\n",
            " [ 0.0000000e+00 -1.0000000e+00 -1.2246468e-16]\n",
            " [ 0.0000000e+00  1.2246468e-16 -1.0000000e+00]] \n",
            "\n",
            "T= [[1.51001989e-11]\n",
            " [4.90207874e-12]\n",
            " [6.00000000e+00]] \n",
            "\n",
            "pt_2D_P3P =  [[ -48.5127225   -15.66032751]\n",
            " [-112.60945073   34.01902436]\n",
            " [  41.4797065  -204.44360387]\n",
            " [-161.70186278  167.18764868]] \n",
            "\n",
            "pt_2D =  [[ -48.5127225   -15.66032751]\n",
            " [-112.60945073   34.01902436]\n",
            " [  41.4797065  -204.44360386]\n",
            " [-161.70186278  167.18764868]]\n",
            "erreur =  5.953298517871661e-10\n",
            "erreur =  1.5944875754069532e-09\n",
            "erreur =  7.019090451708382e-09\n",
            "erreur =  5.800369417821094e-09\n",
            "\n",
            " R estimé =  [[-0.12388375  0.98413335 -0.12702114]\n",
            " [-0.94192091 -0.15689482 -0.29693267]\n",
            " [-0.3121503   0.08285873  0.9464125 ]] \n",
            "\n",
            "T estimé =  [[1.51001989e-11]\n",
            " [4.90207874e-12]\n",
            " [6.00000000e+00]] \n",
            "\n"
          ]
        }
      ]
    }
  ]
}