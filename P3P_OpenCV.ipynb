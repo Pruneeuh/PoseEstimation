{
  "nbformat": 4,
  "nbformat_minor": 0,
  "metadata": {
    "colab": {
      "provenance": [],
      "authorship_tag": "ABX9TyPb/bOUixgy1T65yl8Ur8V7",
      "include_colab_link": true
    },
    "kernelspec": {
      "name": "python3",
      "display_name": "Python 3"
    },
    "language_info": {
      "name": "python"
    }
  },
  "cells": [
    {
      "cell_type": "markdown",
      "metadata": {
        "id": "view-in-github",
        "colab_type": "text"
      },
      "source": [
        "<a href=\"https://colab.research.google.com/github/Pruneeuh/PoseEstimation/blob/main/P3P_OpenCV.ipynb\" target=\"_parent\"><img src=\"https://colab.research.google.com/assets/colab-badge.svg\" alt=\"Open In Colab\"/></a>"
      ]
    },
    {
      "cell_type": "code",
      "execution_count": null,
      "metadata": {
        "id": "nCteTBDNzd4Q"
      },
      "outputs": [],
      "source": [
        "#include <opencv2/calib3d.hpp>\n",
        "import numpy as np\n",
        "import random as rd\n",
        "import cv2\n",
        "\n",
        "# Définition des paramètres intrasèques de la caméra\n",
        "  # focale\n",
        "fx = 60\n",
        "fy = 40\n",
        "  # centre\n",
        "cx = 0\n",
        "cy = 0\n",
        "\n",
        "A = np.array([[fx, 0, cx], [0, fy, cy], [0, 0, 1]]) # matrice intrasèque de la caméra\n",
        "\n",
        "# Génération de 3 angles aléatoire pour définir la rotation\n",
        "rax = rd.uniform(0,2*np.pi)\n",
        "pitch = rd.uniform(0,2*np.pi)\n",
        "yaw = rd.uniform(0,2*np.pi)\n",
        "\n",
        "Rx = np.array([[1,0,0],[0, np.cos(rax), -np.sin(rax)],[0, np.sin(rax), np.cos(rax)]])\n",
        "Ry = np.array([[np.cos(pitch), 0, np.sin(pitch)],[0,1,0],[-np.sin(pitch),0, np.cos(pitch)]])\n",
        "Rz = np.array([[np.cos(yaw), -np.sin(yaw),0],[np.sin(yaw),np.cos(yaw),0],[0,0,1]])\n",
        "R = Rz @ Ry @ Rx  # matrice de rotation\n",
        "\n",
        "\n",
        "# Génération de la position de la caméra\n",
        "tx = rd.uniform(-500,500)\n",
        "ty = rd.uniform(-500,500)\n",
        "tz = rd.uniform(-500,500)\n",
        "T = np.array([[tx], [ty], [tz]])\n",
        "\n",
        "# Projection d'un point 3D vers 2D\n",
        "def projection3D2D(point3D,T,R,fx,fy,cx,cy) :\n",
        "  point3D = np.concatenate((point3D,np.array([1])))            #point3D = [Xw,Yw,Zw,1]\n",
        "  Rt = np.concatenate((R,T),axis=1)\n",
        "  point3DCamera = Rt @ point3D                         #point3DCamera = [Xc,Yc,Zc]\n",
        "  Xc = point3DCamera[0]\n",
        "  Yc = point3DCamera[1]\n",
        "  Zc = point3DCamera[2]\n",
        "  point2D = np.array([[fx*Xc/Zc + cx],[fy*Yc/Zc + cy]])\n",
        "  return point2D\n",
        "\n",
        "# Création des couples de point 2D,3D\n",
        "def point3Daleatoire() :\n",
        "  return np.array([rd.uniform(-500,500),rd.uniform(-500,500),rd.uniform(-500,500)])\n",
        "\n",
        "# points 3D\n",
        "P1 = point3Daleatoire()\n",
        "P2 = point3Daleatoire()\n",
        "P3 = point3Daleatoire()\n",
        "P4 = point3Daleatoire()\n",
        "\n",
        "points3D = np.concatenate((P1,P2,P3,P4));\n",
        "\n",
        "# point 2D\n",
        "p1 = projection3D2D(P1,T,R,fx,fy,cx,cy)\n",
        "p2 = projection3D2D(P2,T,R,fx,fy,cx,cy)\n",
        "p3 = projection3D2D(P3,T,R,fx,fy,cx,cy)\n",
        "p4 = projection3D2D(P4,T,R,fx,fy,cx,cy)\n",
        "\n",
        "points2D = np.concatenate((p1,p2,p3,p4));\n",
        "\n",
        "# Application de solveP3P pour retrouver la position de la caméra\n",
        "retval, rvec, tvecs =  cv2.solveP3P(points3D,points2D,A,None)\n",
        "\n",
        "\n",
        "\n",
        "# Mesure de l'erreur d'estimation\n",
        "def erreur_estimation(R,T,R_P3P,T_P3P):\n",
        "  erreur = 0\n",
        "  for i in range(np.shape(R,1)) :\n",
        "    for j in range(np.shape(R,2)):\n",
        "      erreur += (R[i,j] - R_P3P[i,j])**2\n",
        "  for i in range(np.shape(T,1)):\n",
        "    erreur += (T[i] - T_P3P[i])**2\n",
        "  return np.sqrt(erreur)\n",
        "\n",
        "\n",
        "\n",
        "\n"
      ]
    }
  ]
}