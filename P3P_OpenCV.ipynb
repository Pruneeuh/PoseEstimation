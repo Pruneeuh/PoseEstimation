{
  "nbformat": 4,
  "nbformat_minor": 0,
  "metadata": {
    "colab": {
      "provenance": []
    },
    "kernelspec": {
      "name": "python3",
      "display_name": "Python 3"
    },
    "language_info": {
      "name": "python"
    }
  },
  "cells": [
    {
      "cell_type": "code",
      "execution_count": 68,
      "metadata": {
        "id": "nCteTBDNzd4Q",
        "colab": {
          "base_uri": "https://localhost:8080/"
        },
        "outputId": "00b1f688-9588-4f96-b484-ca9e960b1853"
      },
      "outputs": [
        {
          "output_type": "stream",
          "name": "stdout",
          "text": [
            "[[  81.98046562]\n",
            " [ 162.418685  ]\n",
            " [-303.97712757]]\n"
          ]
        }
      ],
      "source": [
        "import numpy as np\n",
        "import cv2\n",
        "\n",
        "# Définition des paramètres intrasèques de la caméra\n",
        "  # focale\n",
        "fx = 60\n",
        "fy = 40\n",
        "  # centre\n",
        "cx = 0\n",
        "cy = 0\n",
        "\n",
        "A = np.array([[fx, 0, cx], [0, fy, cy], [0, 0, 1]]) # matrice intrasèque de la caméra (3*3)\n",
        "\n",
        "# Génération de 3 angles aléatoire pour définir la rotation\n",
        "rax,pitch,yaw = np.random.uniform(0,2*np.pi,size=3)\n",
        "\n",
        "# Génération de la matrice de rotation\n",
        "\n",
        "Rx = np.array([[1,0,0],[0, np.cos(rax), -np.sin(rax)],[0, np.sin(rax), np.cos(rax)]])\n",
        "Ry = np.array([[np.cos(pitch), 0, np.sin(pitch)],[0,1,0],[-np.sin(pitch),0, np.cos(pitch)]])\n",
        "Rz = np.array([[np.cos(yaw), -np.sin(yaw),0],[np.sin(yaw),np.cos(yaw),0],[0,0,1]])\n",
        "\n",
        "R = Rz @ Ry @ Rx  # matrice de rotation (3*3)\n",
        "\n",
        "# Génération de la translation de la caméra\n",
        "T = np.random.uniform(-500,500,size=3)     # T = [tx,ty,tz]  (1*3)\n",
        "T = T.reshape((3,1))                       # (3*1)\n",
        "\n",
        "print(T)"
      ]
    },
    {
      "cell_type": "code",
      "source": [
        "# Projection d'un point 3D vers 2D\n",
        "def projection3D2D(point3D,T,R,A) :\n",
        "  # point 3D = [ Xw, Yw, Zw ]'   (1*3)\n",
        "  # T : matrice de translation de la caméra : (3*1)\n",
        "  # R : matrice de rotation : (3*3)\n",
        "  # A : matrice intrasèque de la caméra : (3*3)\n",
        "\n",
        "  PI = np.concatenate((np.eye(3),np.zeros((3,1))),axis=1)  # (3*4)\n",
        "\n",
        "  Rt = np.concatenate((R,T),axis=1)               # (3*4)\n",
        "  Rt = np.concatenate((Rt,np.array([[0,0,0,1]])),axis=0)   # (4*4)\n",
        "\n",
        "  point3D_bis = np.concatenate((np.reshape(point3D,(3,1)),np.array([[1]])),axis=0)   #(4*1)\n",
        "\n",
        "  point2D = A @ PI @ Rt @ point3D_bis   # point 2D = [u, v, w] (3*1)\n",
        "  point2D = point2D / point2D[2]        # point 2D = [u, v, 1] (3*1)\n",
        "  return point2D[:2]\n",
        "\n",
        "pt3D = [[3],[1],[4]]\n",
        "print(\"point 3D :\\n \", pt3D)\n",
        "pt2D = projection3D2D(pt3D,T,R,A)\n",
        "print(\"point 2D :\\n\", pt2D)"
      ],
      "metadata": {
        "colab": {
          "base_uri": "https://localhost:8080/"
        },
        "id": "keXsHSn3aC8Y",
        "outputId": "40c06668-c6e9-4ae4-b94f-4a8c7c7377b6"
      },
      "execution_count": 69,
      "outputs": [
        {
          "output_type": "stream",
          "name": "stdout",
          "text": [
            "point 3D :\n",
            "  [[3], [1], [4]]\n",
            "point 2D :\n",
            " [[-16.92188449]\n",
            " [-21.75827225]]\n"
          ]
        }
      ]
    },
    {
      "cell_type": "code",
      "source": [
        "# Création des couples de point 2D,3D\n",
        "def point3Daleatoire() :\n",
        "  return np.array([[np.random.uniform(-500,500),np.random.uniform(-500,500),np.random.uniform(-500,500)]])\n",
        "\n",
        "# points 3D\n",
        "P1 = point3Daleatoire()     # (1*3) -> pour P3P\n",
        "P2 = point3Daleatoire()\n",
        "P3 = point3Daleatoire()\n",
        "P4 = point3Daleatoire()\n",
        "\n",
        "print(np.shape(P1))\n",
        "print(\"P1\\n\",P1)\n",
        "points3D = np.concatenate((P1,P2,P3),axis=0);     # (3*3)\n",
        "print(\"pt3D\\n\",points3D)\n",
        "\n",
        "# point 2D\n",
        "p1 = projection3D2D(P1,T,R,A)   # (2*1)\n",
        "p1 = np.reshape(p1,(1,2))       # (1,2)\n",
        "p2 = projection3D2D(P2,T,R,A)\n",
        "p2 = np.reshape(p2,(1,2))\n",
        "p3 = projection3D2D(P3,T,R,A)\n",
        "p3 = np.reshape(p3,(1,2))\n",
        "p4 = projection3D2D(P4,T,R,A)   # (2,1)\n",
        "\n",
        "\n",
        "points2D = np.concatenate((p1,p2,p3),axis=0);    # (3*2)\n",
        "print(\"p1\\n\",p1)\n",
        "print(\"pt2D\\n\",points2D)\n",
        "print(np.shape(points2D))\n",
        "# Application de solveP3P pour retrouver la position de la caméra\n",
        "retval, rvec, tvecs =  cv2.solveP3P(points3D,points2D,A,None, flags = cv2.SOLVEPNP_P3P)\n",
        "\n",
        "\n",
        "# Mesure de l'erreur d'estimation\n",
        "def erreur_estimation(R,T,R_P3P,T_P3P):\n",
        "  erreur = 0\n",
        "  for i in range(np.shape(R,1)) :\n",
        "    for j in range(np.shape(R,2)):\n",
        "      erreur += (R[i,j] - R_P3P[i,j])**2\n",
        "  for i in range(np.shape(T,1)):\n",
        "    erreur += (T[i] - T_P3P[i])**2\n",
        "  return np.sqrt(erreur)\n"
      ],
      "metadata": {
        "colab": {
          "base_uri": "https://localhost:8080/"
        },
        "id": "cNp-SeqFbsLR",
        "outputId": "528fbb58-8e04-43fe-e563-d2f01b7d3fdc"
      },
      "execution_count": 70,
      "outputs": [
        {
          "output_type": "stream",
          "name": "stdout",
          "text": [
            "(1, 3)\n",
            "P1\n",
            " [[380.78965377 -20.17544536 421.3249139 ]]\n",
            "pt3D\n",
            " [[ 380.78965377  -20.17544536  421.3249139 ]\n",
            " [-360.91906534 -270.25991505 -349.79562558]\n",
            " [-353.7675273  -297.13961291  342.47858672]]\n",
            "p1\n",
            " [[-60.72714633 -38.59186028]]\n",
            "pt2D\n",
            " [[-60.72714633 -38.59186028]\n",
            " [ 41.71453055  35.2056122 ]\n",
            " [-87.1936937   36.13481253]]\n",
            "(3, 2)\n"
          ]
        }
      ]
    }
  ]
}