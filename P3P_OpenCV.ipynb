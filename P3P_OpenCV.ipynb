{
  "nbformat": 4,
  "nbformat_minor": 0,
  "metadata": {
    "colab": {
      "provenance": []
    },
    "kernelspec": {
      "name": "python3",
      "display_name": "Python 3"
    },
    "language_info": {
      "name": "python"
    }
  },
  "cells": [
    {
      "cell_type": "code",
      "execution_count": 158,
      "metadata": {
        "id": "nCteTBDNzd4Q",
        "colab": {
          "base_uri": "https://localhost:8080/"
        },
        "outputId": "b4ef44ce-2eaa-407d-97c6-93dba11e8cf7"
      },
      "outputs": [
        {
          "output_type": "stream",
          "name": "stdout",
          "text": [
            "[[ -64.67760738]\n",
            " [ -79.63219791]\n",
            " [-169.665179  ]]\n"
          ]
        }
      ],
      "source": [
        "import numpy as np\n",
        "import cv2\n",
        "np.random.seed(2)   # pour bloquer le random\n",
        "\n",
        "# Définition des paramètres intrasèques de la caméra\n",
        "  # focale\n",
        "fx = 60\n",
        "fy = 40\n",
        "  # centre\n",
        "cx = 0\n",
        "cy = 0\n",
        "\n",
        "A = np.array([[fx, 0, cx], [0, fy, cy], [0, 0, 1]]) # matrice intrasèque de la caméra (3*3)\n",
        "\n",
        "# Génération de 3 angles aléatoire pour définir la rotation\n",
        "rax,pitch,yaw = np.random.uniform(0,np.pi,size=3)\n",
        "\n",
        "# Génération de la matrice de rotation\n",
        "\n",
        "Rx = np.array([[1,0,0],[0, np.cos(rax), -np.sin(rax)],[0, np.sin(rax), np.cos(rax)]])\n",
        "Ry = np.array([[np.cos(pitch), 0, np.sin(pitch)],[0,1,0],[-np.sin(pitch),0, np.cos(pitch)]])\n",
        "Rz = np.array([[np.cos(yaw), -np.sin(yaw),0],[np.sin(yaw),np.cos(yaw),0],[0,0,1]])\n",
        "\n",
        "R = Rz @ Ry @ Rx  # matrice de rotation (3*3)\n",
        "\n",
        "# Génération de la translation de la caméra\n",
        "T = np.random.uniform(-500,500,size=3)     # T = [tx,ty,tz]  (1*3)\n",
        "T = T.reshape((3,1))                       # (3*1)\n",
        "\n",
        "print(T)"
      ]
    },
    {
      "cell_type": "code",
      "source": [
        "# Projection d'un point 3D vers 2D\n",
        "def projection3D2D(point3D,T,R,A) :\n",
        "  # point 3D = [ Xw, Yw, Zw ]'   (1*3)\n",
        "  # T : matrice de translation de la caméra : (3*1)\n",
        "  # R : matrice de rotation : (3*3)\n",
        "  # A : matrice intrasèque de la caméra : (3*3)\n",
        "\n",
        "  PI = np.concatenate((np.eye(3),np.zeros((3,1))),axis=1)  # (3*4)\n",
        "\n",
        "  Rt = np.concatenate((R,T),axis=1)               # (3*4)\n",
        "  Rt = np.concatenate((Rt,np.array([[0,0,0,1]])),axis=0)   # (4*4)\n",
        "\n",
        "  point3D_bis = np.concatenate((np.reshape(point3D,(3,1)),np.array([[1]])),axis=0)   #(4*1)\n",
        "\n",
        "  point2D = A @ PI @ Rt @ point3D_bis   # point 2D = [u, v, w] (3*1)\n",
        "  point2D = point2D / point2D[2]        # point 2D = [u, v, 1] (3*1)\n",
        "  return point2D[:2]\n",
        "\n",
        "pt3D = [[3],[1],[4]]\n",
        "print(\"point 3D :\\n \", pt3D)\n",
        "pt2D = projection3D2D(pt3D,T,R,A)\n",
        "print(\"point 2D :\\n\", pt2D)"
      ],
      "metadata": {
        "colab": {
          "base_uri": "https://localhost:8080/"
        },
        "id": "keXsHSn3aC8Y",
        "outputId": "17471a5d-6061-4882-a9ca-b75ead89cba4"
      },
      "execution_count": 159,
      "outputs": [
        {
          "output_type": "stream",
          "name": "stdout",
          "text": [
            "point 3D :\n",
            "  [[3], [1], [4]]\n",
            "point 2D :\n",
            " [[23.44335066]\n",
            " [17.99596144]]\n"
          ]
        }
      ]
    },
    {
      "cell_type": "code",
      "source": [
        "# Création des couples de point 2D,3D\n",
        "def point3Daleatoire() :\n",
        "  return np.array([[np.random.uniform(-500,500),np.random.uniform(-500,500),np.random.uniform(-500,500)]])\n",
        "\n",
        "# points 3D\n",
        "'''P1 = point3Daleatoire()     # (1*3) -> pour P3P\n",
        "P2 = point3Daleatoire()\n",
        "P3 = point3Daleatoire()\n",
        "P4 = point3Daleatoire()'''\n",
        "P1 = np.array([[-20,20,1]],dtype=np.float32)\n",
        "P2 = np.array([[20,-20,1]],dtype=np.float32)\n",
        "P3 = np.array([[-20,-20,1]],dtype=np.float32)\n",
        "P4 = np.array([[20,20,1]],dtype=np.float32)\n",
        "\n",
        "print(np.shape(P1))\n",
        "print(\"P1\\n\",P1)\n",
        "points3D = np.concatenate((P1,P2,P3),axis=0);     # (3*3)\n",
        "print(\"pt3D\\n\",points3D)\n",
        "\n",
        "# point 2D\n",
        "p1 = projection3D2D(P1,T,R,A)   # (2*1)\n",
        "p1 = np.reshape(p1,(1,2))       # (1,2)\n",
        "p2 = projection3D2D(P2,T,R,A)\n",
        "p2 = np.reshape(p2,(1,2))\n",
        "p3 = projection3D2D(P3,T,R,A)\n",
        "p3 = np.reshape(p3,(1,2))\n",
        "p4 = projection3D2D(P4,T,R,A)\n",
        "p4 = np.reshape(p4,(1,2))\n",
        "\n",
        "\n",
        "points2D = np.concatenate((p1,p2,p3),axis=0);    # (3*2)\n",
        "print(\"p1\\n\",p1)\n",
        "print(\"pt2D\\n\",points2D)\n",
        "print(np.shape(points2D))\n",
        "# Application de solveP3P pour retrouver la position de la caméra\n",
        "retval, rvec, tvecs =  cv2.solveP3P(points3D,points2D,A,None, flags = cv2.SOLVEPNP_P3P)\n",
        "\n",
        "rvec = np.array(rvec)\n",
        "tvecs = np.array(tvecs)\n",
        "\n",
        "print(\"rvec taille\",np.shape(rvec))\n",
        "print(np.shape(tvecs))\n",
        "print(type(rvec))\n",
        "print(type(tvecs))\n",
        "\n",
        "print(rvec)\n"
      ],
      "metadata": {
        "colab": {
          "base_uri": "https://localhost:8080/"
        },
        "id": "cNp-SeqFbsLR",
        "outputId": "d94d8c25-4af8-4fa9-f239-9a28d61597bd"
      },
      "execution_count": 160,
      "outputs": [
        {
          "output_type": "stream",
          "name": "stdout",
          "text": [
            "(1, 3)\n",
            "P1\n",
            " [[-20.  20.   1.]]\n",
            "pt3D\n",
            " [[-20.  20.   1.]\n",
            " [ 20. -20.   1.]\n",
            " [-20. -20.   1.]]\n",
            "p1\n",
            " [[19.82338197 14.04197347]]\n",
            "pt2D\n",
            " [[19.82338197 14.04197347]\n",
            " [25.30980495 22.56202743]\n",
            " [13.37249182 20.62929912]]\n",
            "(3, 2)\n",
            "rvec taille (2, 3, 1)\n",
            "(2, 3, 1)\n",
            "<class 'numpy.ndarray'>\n",
            "<class 'numpy.ndarray'>\n",
            "[[[ 1.77939346]\n",
            "  [ 0.33101425]\n",
            "  [-1.16312262]]\n",
            "\n",
            " [[-2.67676642]\n",
            "  [-0.46680933]\n",
            "  [-0.13303   ]]]\n"
          ]
        }
      ]
    },
    {
      "cell_type": "code",
      "source": [
        "# Calcul erreur estimation :\n",
        "def erreur_estimation(pt, pt_estimation):\n",
        "    erreur = 0\n",
        "    for i in range(len(pt)):\n",
        "      erreur += (pt[i] - pt_estimation[i])**2\n",
        "    return np.sqrt(erreur)"
      ],
      "metadata": {
        "id": "q61jZ8i1LSoT"
      },
      "execution_count": 161,
      "outputs": []
    },
    {
      "cell_type": "code",
      "source": [
        "\n",
        "\n",
        "# Mesure de l'erreur d'estimation\n",
        "nb_solutions = len(rvec)\n",
        "print(\"nombre de solutions trouvées =\", nb_solutions)\n",
        "\n",
        "for i in range (nb_solutions):\n",
        "  # Récupération des matrices de rotation et translation\n",
        "\n",
        "  rodriguez = rvec[i]     # (3*1)\n",
        "  print(\"taille rodirguez =\",np.shape(rodriguez))\n",
        "  R_P3P = cv2.Rodrigues(rodriguez)[0]    # matrice de rotation : (3*3)\n",
        "  print(\"R_P3P=\",R_P3P,\"\\n\")\n",
        "  print(\"R\",R,\"\\n\")\n",
        "\n",
        "  T_P3P = tvecs[i]    # matrice de translation : (1*3)\n",
        "  T_P3P = np.reshape(T_P3P,(3,1))    # (3*1)\n",
        "  print(\"T=\",T_P3P,\"\\n\")\n",
        "\n",
        "\n",
        "  # Estimation des points\n",
        "  p1_P3P = np.reshape(projection3D2D(P1,T_P3P,R_P3P,A),(1,2))\n",
        "\n",
        "  p2_P3P = np.reshape(projection3D2D(P2,T_P3P,R_P3P,A),(1,2))\n",
        "  p3_P3P = np.reshape(projection3D2D(P3,T_P3P,R_P3P,A),(1,2))\n",
        "  p4_P3P = np.reshape(projection3D2D(P4,T_P3P,R_P3P,A),(1,2))\n",
        "\n",
        "  # Création d'un tableau des points estimés\n",
        "  pt_2D_P3P = np.concatenate((p1_P3P,p2_P3P,p3_P3P,p4_P3P),axis=0)    # (4,2)\n",
        "  print(\"pt_2D_P3P = \",pt_2D_P3P,\"\\n\")\n",
        "\n",
        "  # Création d'un tableau des points originaux\n",
        "\n",
        "  pt_2D = np.concatenate((p1,p2,p3,p4),axis=0)    # (4,2)\n",
        "  print(\"pt_2D = \",pt_2D)\n",
        "\n",
        "  # Calcul de l'erreur d'estimation\n",
        "\n",
        "  for i in range(len(pt_2D)):\n",
        "    erreur = erreur_estimation(pt_2D[i],pt_2D_P3P[i])\n",
        "    print(\"erreur = \",erreur)\n",
        "\n",
        "\n",
        "\n"
      ],
      "metadata": {
        "colab": {
          "base_uri": "https://localhost:8080/"
        },
        "id": "TX4KNBJFBtd-",
        "outputId": "458b4308-c817-4544-8dbe-dae117bf56a0"
      },
      "execution_count": 162,
      "outputs": [
        {
          "output_type": "stream",
          "name": "stdout",
          "text": [
            "nombre de solutions trouvées = 2\n",
            "taille rodirguez = (3, 1)\n",
            "R_P3P= [[ 0.51073426  0.64908145 -0.56377636]\n",
            " [-0.25496915 -0.51189907 -0.82033534]\n",
            " [-0.82106105  0.56271895 -0.09594865]] \n",
            "\n",
            "R [[-0.93911024 -0.3429191   0.02187359]\n",
            " [-0.30293508  0.85629405  0.41831907]\n",
            " [-0.16217982  0.38622144 -0.90803673]] \n",
            "\n",
            "T= [[ 62.16514689]\n",
            " [ 74.35227344]\n",
            " [167.24577978]] \n",
            "\n",
            "pt_2D_P3P =  [[19.82338153 14.04197376]\n",
            " [25.30980513 22.56202762]\n",
            " [13.37249227 20.62929862]\n",
            " [31.4098481  14.37053949]] \n",
            "\n",
            "pt_2D =  [[19.82338197 14.04197347]\n",
            " [25.30980495 22.56202743]\n",
            " [13.37249182 20.62929912]\n",
            " [32.61907091 16.41175791]]\n",
            "erreur =  5.303164592503119e-07\n",
            "erreur =  2.6286598580736774e-07\n",
            "erreur =  6.751226459097423e-07\n",
            "erreur =  2.3725076373768688\n",
            "taille rodirguez = (3, 1)\n",
            "R_P3P= [[ 0.93911022  0.34291913  0.02187372]\n",
            " [ 0.30293506 -0.85629403  0.41831912]\n",
            " [ 0.16217997 -0.38622144 -0.9080367 ]] \n",
            "\n",
            "R [[-0.93911024 -0.3429191   0.02187359]\n",
            " [-0.30293508  0.85629405  0.41831907]\n",
            " [-0.16217982  0.38622144 -0.90803673]] \n",
            "\n",
            "T= [[ 64.63385225]\n",
            " [ 78.79554772]\n",
            " [171.48122819]] \n",
            "\n",
            "pt_2D_P3P =  [[19.8233828  14.04197305]\n",
            " [25.309805   22.56202725]\n",
            " [13.37249108 20.62929965]\n",
            " [32.61907241 16.41175706]] \n",
            "\n",
            "pt_2D =  [[19.82338197 14.04197347]\n",
            " [25.30980495 22.56202743]\n",
            " [13.37249182 20.62929912]\n",
            " [32.61907091 16.41175791]]\n",
            "erreur =  9.273668476235782e-07\n",
            "erreur =  1.8019073126776618e-07\n",
            "erreur =  9.076147377136563e-07\n",
            "erreur =  1.7240808972169588e-06\n"
          ]
        }
      ]
    }
  ]
}