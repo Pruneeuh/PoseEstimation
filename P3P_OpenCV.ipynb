{
  "nbformat": 4,
  "nbformat_minor": 0,
  "metadata": {
    "colab": {
      "provenance": []
    },
    "kernelspec": {
      "name": "python3",
      "display_name": "Python 3"
    },
    "language_info": {
      "name": "python"
    }
  },
  "cells": [
    {
      "cell_type": "code",
      "execution_count": 20,
      "metadata": {
        "id": "nCteTBDNzd4Q",
        "outputId": "094e6859-dc69-48d9-af56-c222c8dcc7b3",
        "colab": {
          "base_uri": "https://localhost:8080/"
        }
      },
      "outputs": [
        {
          "output_type": "stream",
          "name": "stdout",
          "text": [
            "[[ 215.56959031]\n",
            " [-382.34687755]\n",
            " [  51.97476212]]\n"
          ]
        }
      ],
      "source": [
        "#include <opencv2/calib3d.hpp>\n",
        "import numpy as np\n",
        "import cv2\n",
        "\n",
        "# Définition des paramètres intrasèques de la caméra\n",
        "  # focale\n",
        "fx = 60\n",
        "fy = 40\n",
        "  # centre\n",
        "cx = 0\n",
        "cy = 0\n",
        "\n",
        "A = np.array([[fx, 0, cx], [0, fy, cy], [0, 0, 1]]) # matrice intrasèque de la caméra (3*3)\n",
        "\n",
        "# Génération de 3 angles aléatoire pour définir la rotation\n",
        "rax,pitch,yaw = np.random.uniform(0,2*np.pi,size=3)\n",
        "\n",
        "# Génération de la matrice de rotation\n",
        "\n",
        "Rx = np.array([[1,0,0],[0, np.cos(rax), -np.sin(rax)],[0, np.sin(rax), np.cos(rax)]])\n",
        "Ry = np.array([[np.cos(pitch), 0, np.sin(pitch)],[0,1,0],[-np.sin(pitch),0, np.cos(pitch)]])\n",
        "Rz = np.array([[np.cos(yaw), -np.sin(yaw),0],[np.sin(yaw),np.cos(yaw),0],[0,0,1]])\n",
        "\n",
        "R = Rz @ Ry @ Rx  # matrice de rotation (3*3)\n",
        "\n",
        "# Génération de la translation de la caméra\n",
        "T = np.random.uniform(-500,500,size=3)     # T = [tx,ty,tz]  (1*3)\n",
        "T = T.reshape((3,1))                       # (3*1)\n",
        "\n",
        "print(T)"
      ]
    },
    {
      "cell_type": "code",
      "source": [
        "# Projection d'un point 3D vers 2D\n",
        "def projection3D2D(point3D,T,R,A) :\n",
        "  # point 3D = [ Xw, Yw, Zw ]   (3*1)\n",
        "  # T : matrice de translation de la caméra : (3*1)\n",
        "  # R : matrice de rotation : (3*3)\n",
        "  # A : matrice intrasèque de la caméra : (3*3)\n",
        "\n",
        "  PI = np.concatenate((np.eye(3),np.zeros((3,1))),axis=1)  # (3*4)\n",
        "\n",
        "  Rt = np.concatenate((R,T),axis=1)               # (3*4)\n",
        "  Rt = np.concatenate((Rt,np.array([[0,0,0,1]])),axis=0)   # (4*4)\n",
        "\n",
        "  point3D_bis = np.concatenate((point3D,np.array([[1]])),axis=0)   #(4*1)\n",
        "\n",
        "  point2D = A @ PI @ Rt @ point3D_bis   # point 2D = [u, v, 1] (3*1)\n",
        "\n",
        "  return point2D\n",
        "\n",
        "pt3D = [[3],[1],[4]]\n",
        "print(\"point 3D :\\n \", pt3D)\n",
        "pt2D = projection3D2D(pt3D,T,R,A)\n",
        "print(\"point 2D :\\n\", pt2D)"
      ],
      "metadata": {
        "id": "keXsHSn3aC8Y",
        "outputId": "39e1f570-e553-41cc-f9e3-6cc5b87e9dde",
        "colab": {
          "base_uri": "https://localhost:8080/"
        }
      },
      "execution_count": 30,
      "outputs": [
        {
          "output_type": "stream",
          "name": "stdout",
          "text": [
            "point 3D :\n",
            "  [[3], [1], [4]]\n",
            "point 2D :\n",
            " [[ 12632.65346898]\n",
            " [-15270.30838339]\n",
            " [    51.34343064]]\n"
          ]
        }
      ]
    },
    {
      "cell_type": "code",
      "source": [
        "# Création des couples de point 2D,3D\n",
        "def point3Daleatoire() :\n",
        "  return np.array([[np.random.uniform(-500,500)],[np.random.uniform(-500,500)],[np.random.uniform(-500,500)]])\n",
        "\n",
        "# points 3D\n",
        "P1 = point3Daleatoire()     # (3*1)\n",
        "P2 = point3Daleatoire()\n",
        "P3 = point3Daleatoire()\n",
        "P4 = point3Daleatoire()\n",
        "\n",
        "points3D = np.concatenate((P1,P2,P3),axis=1);     # (3*3)\n",
        "\n",
        "\n",
        "# point 2D\n",
        "p1 = projection3D2D(P1,T,R,A)   # (3*1)\n",
        "p2 = projection3D2D(P2,T,R,A)\n",
        "p3 = projection3D2D(P3,T,R,A)\n",
        "p4 = projection3D2D(P4,T,R,A)\n",
        "\n",
        "print(p1)\n",
        "print(np.shape(p1))\n",
        "\n",
        "points2D = np.concatenate((p1,p2,p3));    # (3*3)\n",
        "\n",
        "# Application de solveP3P pour retrouver la position de la caméra\n",
        "retval, rvec, tvecs =  cv2.solveP3P(points3D,points2D,A,None)\n",
        "\n",
        "\n",
        "# Mesure de l'erreur d'estimation\n",
        "def erreur_estimation(R,T,R_P3P,T_P3P):\n",
        "  erreur = 0\n",
        "  for i in range(np.shape(R,1)) :\n",
        "    for j in range(np.shape(R,2)):\n",
        "      erreur += (R[i,j] - R_P3P[i,j])**2\n",
        "  for i in range(np.shape(T,1)):\n",
        "    erreur += (T[i] - T_P3P[i])**2\n",
        "  return np.sqrt(erreur)\n"
      ],
      "metadata": {
        "id": "cNp-SeqFbsLR",
        "outputId": "6f3e40be-ce84-479d-9a77-1427c1400993",
        "colab": {
          "base_uri": "https://localhost:8080/",
          "height": 332
        }
      },
      "execution_count": 38,
      "outputs": [
        {
          "output_type": "stream",
          "name": "stdout",
          "text": [
            "[[ 36318.68695572]\n",
            " [-16852.3964565 ]\n",
            " [  -253.73044011]]\n",
            "(3, 1)\n"
          ]
        },
        {
          "output_type": "error",
          "ename": "error",
          "evalue": "OpenCV(4.11.0) :-1: error: (-5:Bad argument) in function 'solveP3P'\n> Overload resolution failed:\n>  - solveP3P() missing required argument 'flags' (pos 5)\n>  - solveP3P() missing required argument 'flags' (pos 5)\n",
          "traceback": [
            "\u001b[0;31m---------------------------------------------------------------------------\u001b[0m",
            "\u001b[0;31merror\u001b[0m                                     Traceback (most recent call last)",
            "\u001b[0;32m<ipython-input-38-1002081823>\u001b[0m in \u001b[0;36m<cell line: 0>\u001b[0;34m()\u001b[0m\n\u001b[1;32m     24\u001b[0m \u001b[0;34m\u001b[0m\u001b[0m\n\u001b[1;32m     25\u001b[0m \u001b[0;31m# Application de solveP3P pour retrouver la position de la caméra\u001b[0m\u001b[0;34m\u001b[0m\u001b[0;34m\u001b[0m\u001b[0m\n\u001b[0;32m---> 26\u001b[0;31m \u001b[0mretval\u001b[0m\u001b[0;34m,\u001b[0m \u001b[0mrvec\u001b[0m\u001b[0;34m,\u001b[0m \u001b[0mtvecs\u001b[0m \u001b[0;34m=\u001b[0m  \u001b[0mcv2\u001b[0m\u001b[0;34m.\u001b[0m\u001b[0msolveP3P\u001b[0m\u001b[0;34m(\u001b[0m\u001b[0mpoints3D\u001b[0m\u001b[0;34m,\u001b[0m\u001b[0mpoints2D\u001b[0m\u001b[0;34m,\u001b[0m\u001b[0mA\u001b[0m\u001b[0;34m,\u001b[0m\u001b[0;32mNone\u001b[0m\u001b[0;34m)\u001b[0m\u001b[0;34m\u001b[0m\u001b[0;34m\u001b[0m\u001b[0m\n\u001b[0m\u001b[1;32m     27\u001b[0m \u001b[0;34m\u001b[0m\u001b[0m\n\u001b[1;32m     28\u001b[0m \u001b[0;34m\u001b[0m\u001b[0m\n",
            "\u001b[0;31merror\u001b[0m: OpenCV(4.11.0) :-1: error: (-5:Bad argument) in function 'solveP3P'\n> Overload resolution failed:\n>  - solveP3P() missing required argument 'flags' (pos 5)\n>  - solveP3P() missing required argument 'flags' (pos 5)\n"
          ]
        }
      ]
    }
  ]
}