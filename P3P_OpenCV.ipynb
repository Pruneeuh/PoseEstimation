{
  "nbformat": 4,
  "nbformat_minor": 0,
  "metadata": {
    "colab": {
      "provenance": []
    },
    "kernelspec": {
      "name": "python3",
      "display_name": "Python 3"
    },
    "language_info": {
      "name": "python"
    }
  },
  "cells": [
    {
      "cell_type": "code",
      "execution_count": 127,
      "metadata": {
        "id": "nCteTBDNzd4Q",
        "colab": {
          "base_uri": "https://localhost:8080/"
        },
        "outputId": "3f9b6921-2ccc-46ba-cf84-853a69f6b295"
      },
      "outputs": [
        {
          "output_type": "stream",
          "name": "stdout",
          "text": [
            "[[-264.96846149]\n",
            " [ 349.76964672]\n",
            " [ -22.668265  ]]\n"
          ]
        }
      ],
      "source": [
        "import numpy as np\n",
        "import cv2\n",
        "\n",
        "# Définition des paramètres intrasèques de la caméra\n",
        "  # focale\n",
        "fx = 60\n",
        "fy = 40\n",
        "  # centre\n",
        "cx = 0\n",
        "cy = 0\n",
        "\n",
        "A = np.array([[fx, 0, cx], [0, fy, cy], [0, 0, 1]]) # matrice intrasèque de la caméra (3*3)\n",
        "\n",
        "# Génération de 3 angles aléatoire pour définir la rotation\n",
        "rax,pitch,yaw = np.random.uniform(0,2*np.pi,size=3)\n",
        "\n",
        "# Génération de la matrice de rotation\n",
        "\n",
        "Rx = np.array([[1,0,0],[0, np.cos(rax), -np.sin(rax)],[0, np.sin(rax), np.cos(rax)]])\n",
        "Ry = np.array([[np.cos(pitch), 0, np.sin(pitch)],[0,1,0],[-np.sin(pitch),0, np.cos(pitch)]])\n",
        "Rz = np.array([[np.cos(yaw), -np.sin(yaw),0],[np.sin(yaw),np.cos(yaw),0],[0,0,1]])\n",
        "\n",
        "R = Rz @ Ry @ Rx  # matrice de rotation (3*3)\n",
        "\n",
        "# Génération de la translation de la caméra\n",
        "T = np.random.uniform(-500,500,size=3)     # T = [tx,ty,tz]  (1*3)\n",
        "T = T.reshape((3,1))                       # (3*1)\n",
        "\n",
        "print(T)"
      ]
    },
    {
      "cell_type": "code",
      "source": [
        "# Projection d'un point 3D vers 2D\n",
        "def projection3D2D(point3D,T,R,A) :\n",
        "  # point 3D = [ Xw, Yw, Zw ]'   (1*3)\n",
        "  # T : matrice de translation de la caméra : (3*1)\n",
        "  # R : matrice de rotation : (3*3)\n",
        "  # A : matrice intrasèque de la caméra : (3*3)\n",
        "\n",
        "  PI = np.concatenate((np.eye(3),np.zeros((3,1))),axis=1)  # (3*4)\n",
        "\n",
        "  Rt = np.concatenate((R,T),axis=1)               # (3*4)\n",
        "  Rt = np.concatenate((Rt,np.array([[0,0,0,1]])),axis=0)   # (4*4)\n",
        "\n",
        "  point3D_bis = np.concatenate((np.reshape(point3D,(3,1)),np.array([[1]])),axis=0)   #(4*1)\n",
        "\n",
        "  point2D = A @ PI @ Rt @ point3D_bis   # point 2D = [u, v, w] (3*1)\n",
        "  point2D = point2D / point2D[2]        # point 2D = [u, v, 1] (3*1)\n",
        "  return point2D[:2]\n",
        "\n",
        "pt3D = [[3],[1],[4]]\n",
        "print(\"point 3D :\\n \", pt3D)\n",
        "pt2D = projection3D2D(pt3D,T,R,A)\n",
        "print(\"point 2D :\\n\", pt2D)"
      ],
      "metadata": {
        "colab": {
          "base_uri": "https://localhost:8080/"
        },
        "id": "keXsHSn3aC8Y",
        "outputId": "56589ac8-ea95-430d-c52a-d42350a985f5"
      },
      "execution_count": 128,
      "outputs": [
        {
          "output_type": "stream",
          "name": "stdout",
          "text": [
            "point 3D :\n",
            "  [[3], [1], [4]]\n",
            "point 2D :\n",
            " [[ 801.44841327]\n",
            " [-711.39198136]]\n"
          ]
        }
      ]
    },
    {
      "cell_type": "code",
      "source": [
        "# Création des couples de point 2D,3D\n",
        "def point3Daleatoire() :\n",
        "  return np.array([[np.random.uniform(-500,500),np.random.uniform(-500,500),np.random.uniform(-500,500)]])\n",
        "\n",
        "# points 3D\n",
        "'''P1 = point3Daleatoire()     # (1*3) -> pour P3P\n",
        "P2 = point3Daleatoire()\n",
        "P3 = point3Daleatoire()\n",
        "P4 = point3Daleatoire()'''\n",
        "P1 = np.array([[-20,20,1]])\n",
        "P2 = np.array([[20,-20,1]])\n",
        "P3 = np.array([[-20,-20,1]])\n",
        "P4 = np.array([[20,20,1]])\n",
        "\n",
        "print(np.shape(P1))\n",
        "print(\"P1\\n\",P1)\n",
        "points3D = np.concatenate((P1,P2,P3),axis=0);     # (3*3)\n",
        "print(\"pt3D\\n\",points3D)\n",
        "\n",
        "# point 2D\n",
        "p1 = projection3D2D(P1,T,R,A)   # (2*1)\n",
        "p1 = np.reshape(p1,(1,2))       # (1,2)\n",
        "p2 = projection3D2D(P2,T,R,A)\n",
        "p2 = np.reshape(p2,(1,2))\n",
        "p3 = projection3D2D(P3,T,R,A)\n",
        "p3 = np.reshape(p3,(1,2))\n",
        "p4 = projection3D2D(P4,T,R,A)\n",
        "p4 = np.reshape(p4,(1,2))\n",
        "\n",
        "\n",
        "points2D = np.concatenate((p1,p2,p3),axis=0);    # (3*2)\n",
        "print(\"p1\\n\",p1)\n",
        "print(\"pt2D\\n\",points2D)\n",
        "print(np.shape(points2D))\n",
        "# Application de solveP3P pour retrouver la position de la caméra\n",
        "retval, rvec, tvecs =  cv2.solveP3P(points3D,points2D,A,None, flags = cv2.SOLVEPNP_P3P)\n",
        "\n",
        "rvec = np.array(rvec)\n",
        "tvecs = np.array(tvecs)\n",
        "\n",
        "print(\"rvec taille\",np.shape(rvec))\n",
        "print(np.shape(tvecs))\n",
        "print(type(rvec))\n",
        "print(type(tvecs))\n",
        "\n",
        "print(rvec)\n"
      ],
      "metadata": {
        "colab": {
          "base_uri": "https://localhost:8080/",
          "height": 471
        },
        "id": "cNp-SeqFbsLR",
        "outputId": "745ac6ce-521e-4e26-c297-7bfdc46168d7"
      },
      "execution_count": 129,
      "outputs": [
        {
          "output_type": "stream",
          "name": "stdout",
          "text": [
            "(1, 3)\n",
            "P1\n",
            " [[-20  20   1]]\n",
            "pt3D\n",
            " [[-20  20   1]\n",
            " [ 20 -20   1]\n",
            " [-20 -20   1]]\n",
            "p1\n",
            " [[ 320.73180764 -301.6405293 ]]\n",
            "pt2D\n",
            " [[  320.73180764  -301.6405293 ]\n",
            " [-6223.4301001   5176.25382226]\n",
            " [  754.91941602  -693.8264843 ]]\n",
            "(3, 2)\n"
          ]
        },
        {
          "output_type": "error",
          "ename": "error",
          "evalue": "OpenCV(4.11.0) /io/opencv/modules/calib3d/src/solvepnp.cpp:421: error: (-215:Assertion failed) npoints == std::max(ipoints.checkVector(2, CV_32F), ipoints.checkVector(2, CV_64F)) in function 'solveP3P'\n",
          "traceback": [
            "\u001b[0;31m---------------------------------------------------------------------------\u001b[0m",
            "\u001b[0;31merror\u001b[0m                                     Traceback (most recent call last)",
            "\u001b[0;32m<ipython-input-129-910222593>\u001b[0m in \u001b[0;36m<cell line: 0>\u001b[0;34m()\u001b[0m\n\u001b[1;32m     34\u001b[0m \u001b[0mprint\u001b[0m\u001b[0;34m(\u001b[0m\u001b[0mnp\u001b[0m\u001b[0;34m.\u001b[0m\u001b[0mshape\u001b[0m\u001b[0;34m(\u001b[0m\u001b[0mpoints2D\u001b[0m\u001b[0;34m)\u001b[0m\u001b[0;34m)\u001b[0m\u001b[0;34m\u001b[0m\u001b[0;34m\u001b[0m\u001b[0m\n\u001b[1;32m     35\u001b[0m \u001b[0;31m# Application de solveP3P pour retrouver la position de la caméra\u001b[0m\u001b[0;34m\u001b[0m\u001b[0;34m\u001b[0m\u001b[0m\n\u001b[0;32m---> 36\u001b[0;31m \u001b[0mretval\u001b[0m\u001b[0;34m,\u001b[0m \u001b[0mrvec\u001b[0m\u001b[0;34m,\u001b[0m \u001b[0mtvecs\u001b[0m \u001b[0;34m=\u001b[0m  \u001b[0mcv2\u001b[0m\u001b[0;34m.\u001b[0m\u001b[0msolveP3P\u001b[0m\u001b[0;34m(\u001b[0m\u001b[0mpoints3D\u001b[0m\u001b[0;34m,\u001b[0m\u001b[0mpoints2D\u001b[0m\u001b[0;34m,\u001b[0m\u001b[0mA\u001b[0m\u001b[0;34m,\u001b[0m\u001b[0;32mNone\u001b[0m\u001b[0;34m,\u001b[0m \u001b[0mflags\u001b[0m \u001b[0;34m=\u001b[0m \u001b[0mcv2\u001b[0m\u001b[0;34m.\u001b[0m\u001b[0mSOLVEPNP_P3P\u001b[0m\u001b[0;34m)\u001b[0m\u001b[0;34m\u001b[0m\u001b[0;34m\u001b[0m\u001b[0m\n\u001b[0m\u001b[1;32m     37\u001b[0m \u001b[0;34m\u001b[0m\u001b[0m\n\u001b[1;32m     38\u001b[0m \u001b[0mrvec\u001b[0m \u001b[0;34m=\u001b[0m \u001b[0mnp\u001b[0m\u001b[0;34m.\u001b[0m\u001b[0marray\u001b[0m\u001b[0;34m(\u001b[0m\u001b[0mrvec\u001b[0m\u001b[0;34m)\u001b[0m\u001b[0;34m\u001b[0m\u001b[0;34m\u001b[0m\u001b[0m\n",
            "\u001b[0;31merror\u001b[0m: OpenCV(4.11.0) /io/opencv/modules/calib3d/src/solvepnp.cpp:421: error: (-215:Assertion failed) npoints == std::max(ipoints.checkVector(2, CV_32F), ipoints.checkVector(2, CV_64F)) in function 'solveP3P'\n"
          ]
        }
      ]
    },
    {
      "cell_type": "code",
      "source": [
        "# Calcul erreur estimation :\n",
        "def erreur_estimation(pt, pt_estimation):\n",
        "    erreur = 0\n",
        "    for i in range(len(pt)):\n",
        "      erreur += (pt[i] - pt_estimation[i])**2\n",
        "    return np.sqrt(erreur)"
      ],
      "metadata": {
        "id": "q61jZ8i1LSoT"
      },
      "execution_count": null,
      "outputs": []
    },
    {
      "cell_type": "code",
      "source": [
        "\n",
        "\n",
        "# Mesure de l'erreur d'estimation\n",
        "nb_solutions = len(rvec)\n",
        "print(\"nombre de solutions trouvées =\", nb_solutions)\n",
        "\n",
        "for i in range (nb_solutions):\n",
        "  # Récupération des matrices de rotation et translation\n",
        "\n",
        "  rodriguez = rvec[i]     # (3*1)\n",
        "  print(\"taille rodirguez =\",np.shape(rodriguez))\n",
        "  R_P3P = cv2.Rodrigues(rodriguez)[0]    # matrice de rotation : (3*3)\n",
        "  print(\"R=\",R_P3P,\"\\n\")\n",
        "\n",
        "  T_P3P = tvecs[i]    # matrice de translation : (1*3)\n",
        "  T_P3P = np.reshape(T_P3P,(3,1))    # (3*1)\n",
        "  print(\"T=\",T_P3P,\"\\n\")\n",
        "\n",
        "\n",
        "  # Estimation des points\n",
        "  p1_P3P = np.reshape(projection3D2D(P1,T_P3P,R_P3P,A),(1,2))\n",
        "\n",
        "  p2_P3P = np.reshape(projection3D2D(P2,T_P3P,R_P3P,A),(1,2))\n",
        "  p3_P3P = np.reshape(projection3D2D(P3,T_P3P,R_P3P,A),(1,2))\n",
        "  p4_P3P = np.reshape(projection3D2D(P4,T_P3P,R_P3P,A),(1,2))\n",
        "\n",
        "  # Création d'un tableau des points estimés\n",
        "  pt_2D_P3P = np.concatenate((p1_P3P,p2_P3P,p3_P3P,p4_P3P),axis=0)    # (4,2)\n",
        "  print(\"pt_2D_P3P = \",pt_2D_P3P,\"\\n\")\n",
        "\n",
        "  # Création d'un tableau des points originaux\n",
        "\n",
        "  pt_2D = np.concatenate((p1,p2,p3,p4),axis=0)    # (4,2)\n",
        "  print(\"pt_2D = \",pt_2D)\n",
        "\n",
        "  # Calcul de l'erreur d'estimation\n",
        "\n",
        "  for i in range(len(pt_2D)):\n",
        "    erreur = erreur_estimation(pt_2D[i],pt_2D_P3P[i])\n",
        "    print(\"erreur = \",erreur)\n",
        "\n",
        "\n",
        "\n"
      ],
      "metadata": {
        "id": "TX4KNBJFBtd-"
      },
      "execution_count": null,
      "outputs": []
    }
  ]
}